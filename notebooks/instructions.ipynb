{
 "cells": [
  {
   "cell_type": "markdown",
   "metadata": {},
   "source": [
    "# Loan predictions\n",
    "\n",
    "## Problem Statement\n",
    "\n",
    "We want to automate the loan eligibility process based on customer details that are provided as online application forms are being filled. You can find the dataset [here](https://drive.google.com/file/d/1h_jl9xqqqHflI5PsuiQd_soNYxzFfjKw/view?usp=sharing). These details concern the customer's Gender, Marital Status, Education, Number of Dependents, Income, Loan Amount, Credit History and other things as well. \n",
    "\n",
    "|Variable| Description|\n",
    "|: ------------- |:-------------|\n",
    "|Loan_ID| Unique Loan ID|\n",
    "|Gender| Male/ Female|\n",
    "|Married| Applicant married (Y/N)|\n",
    "|Dependents| Number of dependents|\n",
    "|Education| Applicant Education (Graduate/ Under Graduate)|\n",
    "|Self_Employed| Self employed (Y/N)|\n",
    "|ApplicantIncome| Applicant income|\n",
    "|CoapplicantIncome| Coapplicant income|\n",
    "|LoanAmount| Loan amount in thousands|\n",
    "|Loan_Amount_Term| Term of loan in months|\n",
    "|Credit_History| credit history meets guidelines|\n",
    "|Property_Area| Urban/ Semi Urban/ Rural|\n",
    "|Loan_Status| Loan approved (Y/N)\n",
    "\n",
    "\n",
    "\n",
    "### Explore the problem in following stages:\n",
    "\n",
    "1. Hypothesis Generation – understanding the problem better by brainstorming possible factors that can impact the outcome\n",
    "2. Data Exploration – looking at categorical and continuous feature summaries and making inferences about the data.\n",
    "3. Data Cleaning – imputing missing values in the data and checking for outliers\n",
    "4. Feature Engineering – modifying existing variables and creating new ones for analysis\n",
    "5. Model Building – making predictive models on the data"
   ]
  },
  {
   "cell_type": "markdown",
   "metadata": {},
   "source": [
    "## 1. Hypothesis Generation\n",
    "\n",
    "Generating a hypothesis is a major step in the process of analyzing data. This involves understanding the problem and formulating a meaningful hypothesis about what could potentially have a good impact on the outcome. This is done BEFORE looking at the data, and we end up creating a laundry list of the different analyses which we can potentially perform if data is available.\n",
    "\n",
    "#### Possible hypotheses\n",
    "Which applicants are more likely to get a loan\n",
    "\n",
    "1. Applicants having a credit history \n",
    "2. Applicants with higher applicant and co-applicant incomes\n",
    "3. Applicants with higher education level\n",
    "4. Properties in urban areas with high growth perspectives\n",
    "\n",
    "Do more brainstorming and create some hypotheses of your own. Remember that the data might not be sufficient to test all of these, but forming these enables a better understanding of the problem.\n",
    "\n",
    "**Future research Questions**:\n",
    "Which applicants are more likely to get a loan:\n",
    "1. Applicants with an extensive employment history (in years)\n",
    "2. Married applicants with dependants and dual income\n",
    "3. Applicants who apply for a shorter loan term."
   ]
  },
  {
   "cell_type": "markdown",
   "metadata": {},
   "source": [
    "## 2. Data Exploration\n",
    "Let's do some basic data exploration here and come up with some inferences about the data. Go ahead and try to figure out some irregularities and address them in the next section. "
   ]
  },
  {
   "cell_type": "code",
   "execution_count": 1,
   "metadata": {
    "collapsed": false,
    "jupyter": {
     "outputs_hidden": false
    }
   },
   "outputs": [
    {
     "data": {
      "text/html": [
       "<div>\n",
       "<style scoped>\n",
       "    .dataframe tbody tr th:only-of-type {\n",
       "        vertical-align: middle;\n",
       "    }\n",
       "\n",
       "    .dataframe tbody tr th {\n",
       "        vertical-align: top;\n",
       "    }\n",
       "\n",
       "    .dataframe thead th {\n",
       "        text-align: right;\n",
       "    }\n",
       "</style>\n",
       "<table border=\"1\" class=\"dataframe\">\n",
       "  <thead>\n",
       "    <tr style=\"text-align: right;\">\n",
       "      <th></th>\n",
       "      <th>Loan_ID</th>\n",
       "      <th>Gender</th>\n",
       "      <th>Married</th>\n",
       "      <th>Dependents</th>\n",
       "      <th>Education</th>\n",
       "      <th>Self_Employed</th>\n",
       "      <th>ApplicantIncome</th>\n",
       "      <th>CoapplicantIncome</th>\n",
       "      <th>LoanAmount</th>\n",
       "      <th>Loan_Amount_Term</th>\n",
       "      <th>Credit_History</th>\n",
       "      <th>Property_Area</th>\n",
       "      <th>Loan_Status</th>\n",
       "    </tr>\n",
       "  </thead>\n",
       "  <tbody>\n",
       "    <tr>\n",
       "      <th>0</th>\n",
       "      <td>LP001002</td>\n",
       "      <td>Male</td>\n",
       "      <td>No</td>\n",
       "      <td>0</td>\n",
       "      <td>Graduate</td>\n",
       "      <td>No</td>\n",
       "      <td>5849</td>\n",
       "      <td>0.0</td>\n",
       "      <td>NaN</td>\n",
       "      <td>360.0</td>\n",
       "      <td>1.0</td>\n",
       "      <td>Urban</td>\n",
       "      <td>Y</td>\n",
       "    </tr>\n",
       "    <tr>\n",
       "      <th>1</th>\n",
       "      <td>LP001003</td>\n",
       "      <td>Male</td>\n",
       "      <td>Yes</td>\n",
       "      <td>1</td>\n",
       "      <td>Graduate</td>\n",
       "      <td>No</td>\n",
       "      <td>4583</td>\n",
       "      <td>1508.0</td>\n",
       "      <td>128.0</td>\n",
       "      <td>360.0</td>\n",
       "      <td>1.0</td>\n",
       "      <td>Rural</td>\n",
       "      <td>N</td>\n",
       "    </tr>\n",
       "    <tr>\n",
       "      <th>2</th>\n",
       "      <td>LP001005</td>\n",
       "      <td>Male</td>\n",
       "      <td>Yes</td>\n",
       "      <td>0</td>\n",
       "      <td>Graduate</td>\n",
       "      <td>Yes</td>\n",
       "      <td>3000</td>\n",
       "      <td>0.0</td>\n",
       "      <td>66.0</td>\n",
       "      <td>360.0</td>\n",
       "      <td>1.0</td>\n",
       "      <td>Urban</td>\n",
       "      <td>Y</td>\n",
       "    </tr>\n",
       "    <tr>\n",
       "      <th>3</th>\n",
       "      <td>LP001006</td>\n",
       "      <td>Male</td>\n",
       "      <td>Yes</td>\n",
       "      <td>0</td>\n",
       "      <td>Not Graduate</td>\n",
       "      <td>No</td>\n",
       "      <td>2583</td>\n",
       "      <td>2358.0</td>\n",
       "      <td>120.0</td>\n",
       "      <td>360.0</td>\n",
       "      <td>1.0</td>\n",
       "      <td>Urban</td>\n",
       "      <td>Y</td>\n",
       "    </tr>\n",
       "    <tr>\n",
       "      <th>4</th>\n",
       "      <td>LP001008</td>\n",
       "      <td>Male</td>\n",
       "      <td>No</td>\n",
       "      <td>0</td>\n",
       "      <td>Graduate</td>\n",
       "      <td>No</td>\n",
       "      <td>6000</td>\n",
       "      <td>0.0</td>\n",
       "      <td>141.0</td>\n",
       "      <td>360.0</td>\n",
       "      <td>1.0</td>\n",
       "      <td>Urban</td>\n",
       "      <td>Y</td>\n",
       "    </tr>\n",
       "  </tbody>\n",
       "</table>\n",
       "</div>"
      ],
      "text/plain": [
       "    Loan_ID Gender Married Dependents     Education Self_Employed  \\\n",
       "0  LP001002   Male      No          0      Graduate            No   \n",
       "1  LP001003   Male     Yes          1      Graduate            No   \n",
       "2  LP001005   Male     Yes          0      Graduate           Yes   \n",
       "3  LP001006   Male     Yes          0  Not Graduate            No   \n",
       "4  LP001008   Male      No          0      Graduate            No   \n",
       "\n",
       "   ApplicantIncome  CoapplicantIncome  LoanAmount  Loan_Amount_Term  \\\n",
       "0             5849                0.0         NaN             360.0   \n",
       "1             4583             1508.0       128.0             360.0   \n",
       "2             3000                0.0        66.0             360.0   \n",
       "3             2583             2358.0       120.0             360.0   \n",
       "4             6000                0.0       141.0             360.0   \n",
       "\n",
       "   Credit_History Property_Area Loan_Status  \n",
       "0             1.0         Urban           Y  \n",
       "1             1.0         Rural           N  \n",
       "2             1.0         Urban           Y  \n",
       "3             1.0         Urban           Y  \n",
       "4             1.0         Urban           Y  "
      ]
     },
     "execution_count": 1,
     "metadata": {},
     "output_type": "execute_result"
    }
   ],
   "source": [
    "import pandas as pd\n",
    "import numpy as np\n",
    "from matplotlib import pyplot as plt\n",
    "import seaborn as sns\n",
    "\n",
    "\n",
    "df = pd.read_csv(\"../data/data-2.csv\") \n",
    "df.head()"
   ]
  },
  {
   "cell_type": "markdown",
   "metadata": {},
   "source": [
    "One of the key challenges in any data set are missing values. Lets start by checking which columns contain missing values."
   ]
  },
  {
   "cell_type": "code",
   "execution_count": 2,
   "metadata": {},
   "outputs": [
    {
     "name": "stdout",
     "output_type": "stream",
     "text": [
      "<class 'pandas.core.frame.DataFrame'>\n",
      "RangeIndex: 614 entries, 0 to 613\n",
      "Data columns (total 13 columns):\n",
      " #   Column             Non-Null Count  Dtype  \n",
      "---  ------             --------------  -----  \n",
      " 0   Loan_ID            614 non-null    object \n",
      " 1   Gender             601 non-null    object \n",
      " 2   Married            611 non-null    object \n",
      " 3   Dependents         599 non-null    object \n",
      " 4   Education          614 non-null    object \n",
      " 5   Self_Employed      582 non-null    object \n",
      " 6   ApplicantIncome    614 non-null    int64  \n",
      " 7   CoapplicantIncome  614 non-null    float64\n",
      " 8   LoanAmount         592 non-null    float64\n",
      " 9   Loan_Amount_Term   600 non-null    float64\n",
      " 10  Credit_History     564 non-null    float64\n",
      " 11  Property_Area      614 non-null    object \n",
      " 12  Loan_Status        614 non-null    object \n",
      "dtypes: float64(4), int64(1), object(8)\n",
      "memory usage: 62.5+ KB\n"
     ]
    }
   ],
   "source": [
    "df.info()"
   ]
  },
  {
   "cell_type": "code",
   "execution_count": 3,
   "metadata": {},
   "outputs": [
    {
     "data": {
      "text/html": [
       "<div>\n",
       "<style scoped>\n",
       "    .dataframe tbody tr th:only-of-type {\n",
       "        vertical-align: middle;\n",
       "    }\n",
       "\n",
       "    .dataframe tbody tr th {\n",
       "        vertical-align: top;\n",
       "    }\n",
       "\n",
       "    .dataframe thead th {\n",
       "        text-align: right;\n",
       "    }\n",
       "</style>\n",
       "<table border=\"1\" class=\"dataframe\">\n",
       "  <thead>\n",
       "    <tr style=\"text-align: right;\">\n",
       "      <th></th>\n",
       "      <th>ApplicantIncome</th>\n",
       "      <th>CoapplicantIncome</th>\n",
       "      <th>LoanAmount</th>\n",
       "      <th>Loan_Amount_Term</th>\n",
       "      <th>Credit_History</th>\n",
       "    </tr>\n",
       "  </thead>\n",
       "  <tbody>\n",
       "    <tr>\n",
       "      <th>count</th>\n",
       "      <td>614.000000</td>\n",
       "      <td>614.000000</td>\n",
       "      <td>592.000000</td>\n",
       "      <td>600.00000</td>\n",
       "      <td>564.000000</td>\n",
       "    </tr>\n",
       "    <tr>\n",
       "      <th>mean</th>\n",
       "      <td>5403.459283</td>\n",
       "      <td>1621.245798</td>\n",
       "      <td>146.412162</td>\n",
       "      <td>342.00000</td>\n",
       "      <td>0.842199</td>\n",
       "    </tr>\n",
       "    <tr>\n",
       "      <th>std</th>\n",
       "      <td>6109.041673</td>\n",
       "      <td>2926.248369</td>\n",
       "      <td>85.587325</td>\n",
       "      <td>65.12041</td>\n",
       "      <td>0.364878</td>\n",
       "    </tr>\n",
       "    <tr>\n",
       "      <th>min</th>\n",
       "      <td>150.000000</td>\n",
       "      <td>0.000000</td>\n",
       "      <td>9.000000</td>\n",
       "      <td>12.00000</td>\n",
       "      <td>0.000000</td>\n",
       "    </tr>\n",
       "    <tr>\n",
       "      <th>25%</th>\n",
       "      <td>2877.500000</td>\n",
       "      <td>0.000000</td>\n",
       "      <td>100.000000</td>\n",
       "      <td>360.00000</td>\n",
       "      <td>1.000000</td>\n",
       "    </tr>\n",
       "    <tr>\n",
       "      <th>50%</th>\n",
       "      <td>3812.500000</td>\n",
       "      <td>1188.500000</td>\n",
       "      <td>128.000000</td>\n",
       "      <td>360.00000</td>\n",
       "      <td>1.000000</td>\n",
       "    </tr>\n",
       "    <tr>\n",
       "      <th>75%</th>\n",
       "      <td>5795.000000</td>\n",
       "      <td>2297.250000</td>\n",
       "      <td>168.000000</td>\n",
       "      <td>360.00000</td>\n",
       "      <td>1.000000</td>\n",
       "    </tr>\n",
       "    <tr>\n",
       "      <th>max</th>\n",
       "      <td>81000.000000</td>\n",
       "      <td>41667.000000</td>\n",
       "      <td>700.000000</td>\n",
       "      <td>480.00000</td>\n",
       "      <td>1.000000</td>\n",
       "    </tr>\n",
       "  </tbody>\n",
       "</table>\n",
       "</div>"
      ],
      "text/plain": [
       "       ApplicantIncome  CoapplicantIncome  LoanAmount  Loan_Amount_Term  \\\n",
       "count       614.000000         614.000000  592.000000         600.00000   \n",
       "mean       5403.459283        1621.245798  146.412162         342.00000   \n",
       "std        6109.041673        2926.248369   85.587325          65.12041   \n",
       "min         150.000000           0.000000    9.000000          12.00000   \n",
       "25%        2877.500000           0.000000  100.000000         360.00000   \n",
       "50%        3812.500000        1188.500000  128.000000         360.00000   \n",
       "75%        5795.000000        2297.250000  168.000000         360.00000   \n",
       "max       81000.000000       41667.000000  700.000000         480.00000   \n",
       "\n",
       "       Credit_History  \n",
       "count      564.000000  \n",
       "mean         0.842199  \n",
       "std          0.364878  \n",
       "min          0.000000  \n",
       "25%          1.000000  \n",
       "50%          1.000000  \n",
       "75%          1.000000  \n",
       "max          1.000000  "
      ]
     },
     "execution_count": 3,
     "metadata": {},
     "output_type": "execute_result"
    }
   ],
   "source": [
    "df.describe()"
   ]
  },
  {
   "cell_type": "code",
   "execution_count": 4,
   "metadata": {
    "tags": []
   },
   "outputs": [
    {
     "data": {
      "text/plain": [
       "Loan_ID               0\n",
       "Gender               13\n",
       "Married               3\n",
       "Dependents           15\n",
       "Education             0\n",
       "Self_Employed        32\n",
       "ApplicantIncome       0\n",
       "CoapplicantIncome     0\n",
       "LoanAmount           22\n",
       "Loan_Amount_Term     14\n",
       "Credit_History       50\n",
       "Property_Area         0\n",
       "Loan_Status           0\n",
       "dtype: int64"
      ]
     },
     "execution_count": 4,
     "metadata": {},
     "output_type": "execute_result"
    }
   ],
   "source": [
    "df.isna().sum()"
   ]
  },
  {
   "cell_type": "markdown",
   "metadata": {},
   "source": [
    "Look at some basic statistics for numerical variables."
   ]
  },
  {
   "cell_type": "markdown",
   "metadata": {},
   "source": [
    "#### 1. How many applicants have a `Credit_History`? (`Credit_History` has value 1 for those who have a credit history and 0 otherwise)"
   ]
  },
  {
   "cell_type": "markdown",
   "metadata": {},
   "source": [
    "In a dataframe, use the command df.drop_duplicates(axis=0) [if nothing drops, df has all unique rows])"
   ]
  },
  {
   "cell_type": "code",
   "execution_count": 5,
   "metadata": {
    "collapsed": false,
    "jupyter": {
     "outputs_hidden": false
    }
   },
   "outputs": [
    {
     "data": {
      "text/plain": [
       "Loan_ID              475\n",
       "Gender                 2\n",
       "Married                2\n",
       "Dependents             4\n",
       "Education              2\n",
       "Self_Employed          2\n",
       "ApplicantIncome      404\n",
       "CoapplicantIncome    224\n",
       "LoanAmount           176\n",
       "Loan_Amount_Term       9\n",
       "Credit_History         1\n",
       "Property_Area          3\n",
       "Loan_Status            2\n",
       "dtype: int64"
      ]
     },
     "execution_count": 5,
     "metadata": {},
     "output_type": "execute_result"
    }
   ],
   "source": [
    "df[df['Credit_History'] == 1].nunique()"
   ]
  },
  {
   "cell_type": "markdown",
   "metadata": {},
   "source": [
    "#### 2. Is the `ApplicantIncome` distribution in line with your expectation? Similarly, what about `CoapplicantIncome`?"
   ]
  },
  {
   "cell_type": "code",
   "execution_count": 6,
   "metadata": {},
   "outputs": [
    {
     "data": {
      "text/plain": [
       "<seaborn.axisgrid.FacetGrid at 0x1393fbd30>"
      ]
     },
     "execution_count": 6,
     "metadata": {},
     "output_type": "execute_result"
    },
    {
     "data": {
      "image/png": "[encoded data removed]",
      "text/plain": [
       "<Figure size 500x500 with 1 Axes>"
      ]
     },
     "metadata": {},
     "output_type": "display_data"
    }
   ],
   "source": [
    "sns.displot(df['ApplicantIncome'])"
   ]
  },
  {
   "cell_type": "code",
   "execution_count": 7,
   "metadata": {},
   "outputs": [
    {
     "data": {
      "text/plain": [
       "<seaborn.axisgrid.FacetGrid at 0x1396b85e0>"
      ]
     },
     "execution_count": 7,
     "metadata": {},
     "output_type": "execute_result"
    },
    {
     "data": {
      "image/png": "[encoded data removed]",
      "text/plain": [
       "<Figure size 500x500 with 1 Axes>"
      ]
     },
     "metadata": {},
     "output_type": "display_data"
    }
   ],
   "source": [
    "sns.displot(df['CoapplicantIncome'])"
   ]
  },
  {
   "cell_type": "markdown",
   "metadata": {},
   "source": [
    "#### 3. Tip: Can you see a possible skewness in the data by comparing the mean to the median, i.e. the 50% figure of a feature."
   ]
  },
  {
   "cell_type": "code",
   "execution_count": 8,
   "metadata": {},
   "outputs": [],
   "source": [
    "meanincome = df['ApplicantIncome'].mean()"
   ]
  },
  {
   "cell_type": "code",
   "execution_count": 9,
   "metadata": {},
   "outputs": [
    {
     "data": {
      "text/plain": [
       "5403.459283387622"
      ]
     },
     "execution_count": 9,
     "metadata": {},
     "output_type": "execute_result"
    }
   ],
   "source": [
    "meanincome"
   ]
  },
  {
   "cell_type": "code",
   "execution_count": 10,
   "metadata": {},
   "outputs": [],
   "source": [
    "medianincome = df['ApplicantIncome'].median()"
   ]
  },
  {
   "cell_type": "code",
   "execution_count": 11,
   "metadata": {},
   "outputs": [
    {
     "data": {
      "text/plain": [
       "3812.5"
      ]
     },
     "execution_count": 11,
     "metadata": {},
     "output_type": "execute_result"
    }
   ],
   "source": [
    "medianincome"
   ]
  },
  {
   "cell_type": "code",
   "execution_count": 12,
   "metadata": {},
   "outputs": [
    {
     "data": {
      "text/plain": [
       "1590.9592833876222"
      ]
     },
     "execution_count": 12,
     "metadata": {},
     "output_type": "execute_result"
    }
   ],
   "source": [
    "income_delta = meanincome - medianincome\n",
    "income_delta"
   ]
  },
  {
   "cell_type": "markdown",
   "metadata": {},
   "source": [
    "Let's discuss nominal (categorical) variable. Look at the number of unique values in each of them."
   ]
  },
  {
   "cell_type": "code",
   "execution_count": 13,
   "metadata": {
    "collapsed": false,
    "jupyter": {
     "outputs_hidden": false
    }
   },
   "outputs": [
    {
     "data": {
      "text/plain": [
       "Loan_ID          614\n",
       "Gender             2\n",
       "Married            2\n",
       "Dependents         4\n",
       "Education          2\n",
       "Self_Employed      2\n",
       "Property_Area      3\n",
       "Loan_Status        2\n",
       "dtype: int64"
      ]
     },
     "execution_count": 13,
     "metadata": {},
     "output_type": "execute_result"
    }
   ],
   "source": [
    "nominal_df = df.select_dtypes(include=object)\n",
    "nominal_df.nunique()"
   ]
  },
  {
   "cell_type": "markdown",
   "metadata": {},
   "source": [
    "Explore further using the frequency of different categories in each nominal variable. Exclude the ID obvious reasons."
   ]
  },
  {
   "cell_type": "code",
   "execution_count": 14,
   "metadata": {},
   "outputs": [
    {
     "data": {
      "text/html": [
       "<div>\n",
       "<style scoped>\n",
       "    .dataframe tbody tr th:only-of-type {\n",
       "        vertical-align: middle;\n",
       "    }\n",
       "\n",
       "    .dataframe tbody tr th {\n",
       "        vertical-align: top;\n",
       "    }\n",
       "\n",
       "    .dataframe thead th {\n",
       "        text-align: right;\n",
       "    }\n",
       "</style>\n",
       "<table border=\"1\" class=\"dataframe\">\n",
       "  <thead>\n",
       "    <tr style=\"text-align: right;\">\n",
       "      <th></th>\n",
       "      <th>Gender</th>\n",
       "      <th>Married</th>\n",
       "      <th>Dependents</th>\n",
       "      <th>Education</th>\n",
       "      <th>Self_Employed</th>\n",
       "      <th>Property_Area</th>\n",
       "      <th>Loan_Status</th>\n",
       "    </tr>\n",
       "  </thead>\n",
       "  <tbody>\n",
       "    <tr>\n",
       "      <th>0</th>\n",
       "      <td>Male</td>\n",
       "      <td>No</td>\n",
       "      <td>0</td>\n",
       "      <td>Graduate</td>\n",
       "      <td>No</td>\n",
       "      <td>Urban</td>\n",
       "      <td>Y</td>\n",
       "    </tr>\n",
       "    <tr>\n",
       "      <th>1</th>\n",
       "      <td>Male</td>\n",
       "      <td>Yes</td>\n",
       "      <td>1</td>\n",
       "      <td>Graduate</td>\n",
       "      <td>No</td>\n",
       "      <td>Rural</td>\n",
       "      <td>N</td>\n",
       "    </tr>\n",
       "    <tr>\n",
       "      <th>2</th>\n",
       "      <td>Male</td>\n",
       "      <td>Yes</td>\n",
       "      <td>0</td>\n",
       "      <td>Graduate</td>\n",
       "      <td>Yes</td>\n",
       "      <td>Urban</td>\n",
       "      <td>Y</td>\n",
       "    </tr>\n",
       "    <tr>\n",
       "      <th>3</th>\n",
       "      <td>Male</td>\n",
       "      <td>Yes</td>\n",
       "      <td>0</td>\n",
       "      <td>Not Graduate</td>\n",
       "      <td>No</td>\n",
       "      <td>Urban</td>\n",
       "      <td>Y</td>\n",
       "    </tr>\n",
       "    <tr>\n",
       "      <th>4</th>\n",
       "      <td>Male</td>\n",
       "      <td>No</td>\n",
       "      <td>0</td>\n",
       "      <td>Graduate</td>\n",
       "      <td>No</td>\n",
       "      <td>Urban</td>\n",
       "      <td>Y</td>\n",
       "    </tr>\n",
       "  </tbody>\n",
       "</table>\n",
       "</div>"
      ],
      "text/plain": [
       "  Gender Married Dependents     Education Self_Employed Property_Area  \\\n",
       "0   Male      No          0      Graduate            No         Urban   \n",
       "1   Male     Yes          1      Graduate            No         Rural   \n",
       "2   Male     Yes          0      Graduate           Yes         Urban   \n",
       "3   Male     Yes          0  Not Graduate            No         Urban   \n",
       "4   Male      No          0      Graduate            No         Urban   \n",
       "\n",
       "  Loan_Status  \n",
       "0           Y  \n",
       "1           N  \n",
       "2           Y  \n",
       "3           Y  \n",
       "4           Y  "
      ]
     },
     "execution_count": 14,
     "metadata": {},
     "output_type": "execute_result"
    }
   ],
   "source": [
    "nominal_noid = nominal_df.drop('Loan_ID', axis=1)\n",
    "nominal_noid.head()"
   ]
  },
  {
   "cell_type": "code",
   "execution_count": 15,
   "metadata": {
    "collapsed": false,
    "jupyter": {
     "outputs_hidden": false
    }
   },
   "outputs": [
    {
     "data": {
      "text/plain": [
       "Gender  Married  Dependents  Education  Self_Employed  Property_Area  Loan_Status\n",
       "Male    Yes      0           Graduate   No             Semiurban      Y              36\n",
       "                                                       Urban          Y              24\n",
       "                                                       Rural          Y              23\n",
       "                 2           Graduate   No             Semiurban      Y              18\n",
       "                                                       Urban          Y              16\n",
       "        No       0           Graduate   No             Semiurban      Y              15\n",
       "                                                       Urban          Y              15\n",
       "        Yes      1           Graduate   No             Urban          Y              14\n",
       "        No       0           Graduate   No             Rural          Y              12\n",
       "        Yes      0           Graduate   No             Rural          N              11\n",
       "dtype: int64"
      ]
     },
     "execution_count": 15,
     "metadata": {},
     "output_type": "execute_result"
    }
   ],
   "source": [
    "nominal_noid.value_counts().head(10)"
   ]
  },
  {
   "cell_type": "markdown",
   "metadata": {},
   "source": [
    "### Distribution analysis\n",
    "\n",
    "Study distribution of various variables. Plot the histogram of ApplicantIncome, try different number of bins.\n",
    "\n"
   ]
  },
  {
   "cell_type": "code",
   "execution_count": 16,
   "metadata": {
    "collapsed": false,
    "jupyter": {
     "outputs_hidden": false
    }
   },
   "outputs": [
    {
     "data": {
      "text/plain": [
       "<AxesSubplot:xlabel='ApplicantIncome', ylabel='Count'>"
      ]
     },
     "execution_count": 16,
     "metadata": {},
     "output_type": "execute_result"
    },
    {
     "data": {
      "image/png": "[encoded data removed]",
      "text/plain": [
       "<Figure size 640x480 with 1 Axes>"
      ]
     },
     "metadata": {},
     "output_type": "display_data"
    }
   ],
   "source": [
    "sns.histplot(df['ApplicantIncome'], bins=8)"
   ]
  },
  {
   "cell_type": "code",
   "execution_count": 17,
   "metadata": {},
   "outputs": [
    {
     "data": {
      "text/plain": [
       "<AxesSubplot:xlabel='ApplicantIncome', ylabel='Count'>"
      ]
     },
     "execution_count": 17,
     "metadata": {},
     "output_type": "execute_result"
    },
    {
     "data": {
      "image/png": "[encoded data removed]",
      "text/plain": [
       "<Figure size 640x480 with 1 Axes>"
      ]
     },
     "metadata": {},
     "output_type": "display_data"
    }
   ],
   "source": [
    "sns.histplot(df['ApplicantIncome'], bins=16)"
   ]
  },
  {
   "cell_type": "code",
   "execution_count": 18,
   "metadata": {},
   "outputs": [
    {
     "data": {
      "text/plain": [
       "<AxesSubplot:xlabel='ApplicantIncome', ylabel='Count'>"
      ]
     },
     "execution_count": 18,
     "metadata": {},
     "output_type": "execute_result"
    },
    {
     "data": {
      "image/png": "[encoded data removed]",
      "text/plain": [
       "<Figure size 640x480 with 1 Axes>"
      ]
     },
     "metadata": {},
     "output_type": "display_data"
    }
   ],
   "source": [
    "sns.histplot(df['ApplicantIncome'], bins=24)"
   ]
  },
  {
   "cell_type": "markdown",
   "metadata": {},
   "source": [
    "\n",
    "Look at box plots to understand the distributions. "
   ]
  },
  {
   "cell_type": "code",
   "execution_count": 19,
   "metadata": {},
   "outputs": [
    {
     "data": {
      "text/plain": [
       "Loan_ID               object\n",
       "Gender                object\n",
       "Married               object\n",
       "Dependents            object\n",
       "Education             object\n",
       "Self_Employed         object\n",
       "ApplicantIncome        int64\n",
       "CoapplicantIncome    float64\n",
       "LoanAmount           float64\n",
       "Loan_Amount_Term     float64\n",
       "Credit_History       float64\n",
       "Property_Area         object\n",
       "Loan_Status           object\n",
       "dtype: object"
      ]
     },
     "execution_count": 19,
     "metadata": {},
     "output_type": "execute_result"
    }
   ],
   "source": [
    "df.dtypes"
   ]
  },
  {
   "cell_type": "code",
   "execution_count": 20,
   "metadata": {},
   "outputs": [
    {
     "data": {
      "text/plain": [
       "<AxesSubplot:xlabel='ApplicantIncome', ylabel='Loan_Status'>"
      ]
     },
     "execution_count": 20,
     "metadata": {},
     "output_type": "execute_result"
    },
    {
     "data": {
      "image/png": "[encoded data removed]",
      "text/plain": [
       "<Figure size 640x480 with 1 Axes>"
      ]
     },
     "metadata": {},
     "output_type": "display_data"
    }
   ],
   "source": [
    "sns.boxplot(data=df, x='ApplicantIncome', y='Loan_Status')"
   ]
  },
  {
   "cell_type": "code",
   "execution_count": 21,
   "metadata": {},
   "outputs": [
    {
     "data": {
      "text/plain": [
       "<AxesSubplot:xlabel='ApplicantIncome', ylabel='Loan_Status'>"
      ]
     },
     "execution_count": 21,
     "metadata": {},
     "output_type": "execute_result"
    },
    {
     "data": {
      "image/png": "[encoded data removed]",
      "text/plain": [
       "<Figure size 640x480 with 1 Axes>"
      ]
     },
     "metadata": {},
     "output_type": "display_data"
    }
   ],
   "source": [
    "sns.boxplot(data=df[df['ApplicantIncome'] < 30000], x='ApplicantIncome', y='Loan_Status')"
   ]
  },
  {
   "cell_type": "code",
   "execution_count": 22,
   "metadata": {
    "collapsed": false,
    "jupyter": {
     "outputs_hidden": false
    }
   },
   "outputs": [
    {
     "data": {
      "text/plain": [
       "<AxesSubplot:xlabel='Gender', ylabel='ApplicantIncome'>"
      ]
     },
     "execution_count": 22,
     "metadata": {},
     "output_type": "execute_result"
    },
    {
     "data": {
      "image/png": "[encoded data removed]",
      "text/plain": [
       "<Figure size 640x480 with 1 Axes>"
      ]
     },
     "metadata": {},
     "output_type": "display_data"
    }
   ],
   "source": [
    "sns.boxplot(data=df[df['ApplicantIncome'] < 30000], y='ApplicantIncome', x='Gender')"
   ]
  },
  {
   "cell_type": "markdown",
   "metadata": {},
   "source": [
    "Do not equate the medians, they are not the same."
   ]
  },
  {
   "cell_type": "markdown",
   "metadata": {
    "tags": []
   },
   "source": [
    "Look at the distribution of income segregated  by `Education`"
   ]
  },
  {
   "cell_type": "code",
   "execution_count": 23,
   "metadata": {
    "collapsed": false,
    "jupyter": {
     "outputs_hidden": false
    }
   },
   "outputs": [
    {
     "data": {
      "text/plain": [
       "<AxesSubplot:xlabel='Education', ylabel='ApplicantIncome'>"
      ]
     },
     "execution_count": 23,
     "metadata": {},
     "output_type": "execute_result"
    },
    {
     "data": {
      "image/png": "[encoded data removed]",
      "text/plain": [
       "<Figure size 640x480 with 1 Axes>"
      ]
     },
     "metadata": {},
     "output_type": "display_data"
    }
   ],
   "source": [
    "sns.boxplot(data=df[df['ApplicantIncome'] < 30000], y='ApplicantIncome', x='Education')"
   ]
  },
  {
   "cell_type": "code",
   "execution_count": 24,
   "metadata": {},
   "outputs": [
    {
     "data": {
      "image/png": "[encoded data removed]",
      "text/plain": [
       "<Figure size 600.25x500 with 1 Axes>"
      ]
     },
     "metadata": {},
     "output_type": "display_data"
    }
   ],
   "source": [
    "sns.catplot(data=df[df['ApplicantIncome'] < 30000], x='Education', y='ApplicantIncome', hue='Gender', kind='violin')\n",
    "plt.savefig(\"../images/gender_education_violin.png\")"
   ]
  },
  {
   "cell_type": "code",
   "execution_count": 25,
   "metadata": {},
   "outputs": [
    {
     "data": {
      "image/png": "[encoded data removed]",
      "text/plain": [
       "<Figure size 600.25x500 with 1 Axes>"
      ]
     },
     "metadata": {},
     "output_type": "display_data"
    }
   ],
   "source": [
    "sns.catplot(data=df[df['ApplicantIncome'] < 30000], x='Loan_Status', y='ApplicantIncome', hue='Gender', kind='violin')\n",
    "plt.savefig(\"../images/gender_loanstatus_violin.png\")"
   ]
  },
  {
   "cell_type": "markdown",
   "metadata": {},
   "source": [
    "Look at the histogram and boxplot of LoanAmount"
   ]
  },
  {
   "cell_type": "code",
   "execution_count": 26,
   "metadata": {
    "collapsed": false,
    "jupyter": {
     "outputs_hidden": false
    }
   },
   "outputs": [
    {
     "data": {
      "text/plain": [
       "<AxesSubplot:xlabel='LoanAmount', ylabel='Count'>"
      ]
     },
     "execution_count": 26,
     "metadata": {},
     "output_type": "execute_result"
    },
    {
     "data": {
      "image/png": "[encoded data removed]",
      "text/plain": [
       "<Figure size 640x480 with 1 Axes>"
      ]
     },
     "metadata": {},
     "output_type": "display_data"
    }
   ],
   "source": [
    "sns.histplot(data=df, x='LoanAmount', hue='Gender')"
   ]
  },
  {
   "cell_type": "code",
   "execution_count": 27,
   "metadata": {
    "collapsed": false,
    "jupyter": {
     "outputs_hidden": false
    }
   },
   "outputs": [
    {
     "data": {
      "text/plain": [
       "<AxesSubplot:xlabel='Gender', ylabel='LoanAmount'>"
      ]
     },
     "execution_count": 27,
     "metadata": {},
     "output_type": "execute_result"
    },
    {
     "data": {
      "image/png": "[encoded data removed]",
      "text/plain": [
       "<Figure size 640x480 with 1 Axes>"
      ]
     },
     "metadata": {},
     "output_type": "display_data"
    }
   ],
   "source": [
    "sns.boxplot(data=df, x='Gender', y='LoanAmount')"
   ]
  },
  {
   "cell_type": "markdown",
   "metadata": {},
   "source": [
    "There might be some extreme values. Both `ApplicantIncome` and `LoanAmount` require some amount of data munging. `LoanAmount` has missing and well as extreme values values, while `ApplicantIncome` has a few extreme values, which demand deeper understanding. "
   ]
  },
  {
   "cell_type": "markdown",
   "metadata": {},
   "source": [
    "### Categorical variable analysis\n",
    "\n",
    "Try to understand categorical variables in more details using `pandas.DataFrame.pivot_table` and some visualizations."
   ]
  },
  {
   "cell_type": "code",
   "execution_count": 28,
   "metadata": {},
   "outputs": [],
   "source": [
    "def make_pie(df, data, label, title):\n",
    "    \"\"\"\n",
    "    This will turn any two features into a pie chart.\n",
    "    \n",
    "    df = DataFrame\n",
    "    data = feature column label <where values are numerical>\n",
    "    label = feature column label <preferrably categorical>\n",
    "    \"\"\"\n",
    "    colors = sns.color_palette('pastel')[0:len(df[label].unique())]\n",
    "    \n",
    "    plt.title(f\"{title}\")\n",
    "    plt.pie(df[data], labels=df[label].unique(), colors = colors, autopct='%.0f%%')\n",
    "    \n",
    "    plt.savefig(f'../images/{title}_pie.png')\n"
   ]
  },
  {
   "cell_type": "code",
   "execution_count": 29,
   "metadata": {},
   "outputs": [
    {
     "data": {
      "text/plain": [
       "Loan_ID               object\n",
       "Gender                object\n",
       "Married               object\n",
       "Dependents            object\n",
       "Education             object\n",
       "Self_Employed         object\n",
       "ApplicantIncome        int64\n",
       "CoapplicantIncome    float64\n",
       "LoanAmount           float64\n",
       "Loan_Amount_Term     float64\n",
       "Credit_History       float64\n",
       "Property_Area         object\n",
       "Loan_Status           object\n",
       "dtype: object"
      ]
     },
     "execution_count": 29,
     "metadata": {},
     "output_type": "execute_result"
    }
   ],
   "source": [
    "df.dtypes"
   ]
  },
  {
   "cell_type": "markdown",
   "metadata": {},
   "source": [
    "This could be done with a group by\n",
    "\n",
    "Make sure to know how to explain what the pivot_table is actually doing to the numerical columns."
   ]
  },
  {
   "cell_type": "code",
   "execution_count": 30,
   "metadata": {
    "collapsed": false,
    "jupyter": {
     "outputs_hidden": false
    }
   },
   "outputs": [],
   "source": [
    "marriage_pivot = df.pivot_table(index=['Married', 'Education', 'Gender'])"
   ]
  },
  {
   "cell_type": "code",
   "execution_count": 31,
   "metadata": {
    "collapsed": false,
    "jupyter": {
     "outputs_hidden": false
    }
   },
   "outputs": [
    {
     "data": {
      "text/html": [
       "<div>\n",
       "<style scoped>\n",
       "    .dataframe tbody tr th:only-of-type {\n",
       "        vertical-align: middle;\n",
       "    }\n",
       "\n",
       "    .dataframe tbody tr th {\n",
       "        vertical-align: top;\n",
       "    }\n",
       "\n",
       "    .dataframe thead th {\n",
       "        text-align: right;\n",
       "    }\n",
       "</style>\n",
       "<table border=\"1\" class=\"dataframe\">\n",
       "  <thead>\n",
       "    <tr style=\"text-align: right;\">\n",
       "      <th></th>\n",
       "      <th></th>\n",
       "      <th></th>\n",
       "      <th>ApplicantIncome</th>\n",
       "      <th>CoapplicantIncome</th>\n",
       "      <th>Credit_History</th>\n",
       "      <th>LoanAmount</th>\n",
       "      <th>Loan_Amount_Term</th>\n",
       "    </tr>\n",
       "    <tr>\n",
       "      <th>Married</th>\n",
       "      <th>Education</th>\n",
       "      <th>Gender</th>\n",
       "      <th></th>\n",
       "      <th></th>\n",
       "      <th></th>\n",
       "      <th></th>\n",
       "      <th></th>\n",
       "    </tr>\n",
       "  </thead>\n",
       "  <tbody>\n",
       "    <tr>\n",
       "      <th>Yes</th>\n",
       "      <th>Graduate</th>\n",
       "      <th>Male</th>\n",
       "      <td>6106.112727</td>\n",
       "      <td>1913.152436</td>\n",
       "      <td>0.873016</td>\n",
       "      <td>162.281955</td>\n",
       "      <td>338.453532</td>\n",
       "    </tr>\n",
       "    <tr>\n",
       "      <th rowspan=\"2\" valign=\"top\">No</th>\n",
       "      <th>Graduate</th>\n",
       "      <th>Male</th>\n",
       "      <td>5710.777778</td>\n",
       "      <td>1687.969697</td>\n",
       "      <td>0.842105</td>\n",
       "      <td>145.968421</td>\n",
       "      <td>355.102041</td>\n",
       "    </tr>\n",
       "    <tr>\n",
       "      <th>Not Graduate</th>\n",
       "      <th>Female</th>\n",
       "      <td>5289.142857</td>\n",
       "      <td>168.928571</td>\n",
       "      <td>0.857143</td>\n",
       "      <td>106.384615</td>\n",
       "      <td>360.000000</td>\n",
       "    </tr>\n",
       "    <tr>\n",
       "      <th>Yes</th>\n",
       "      <th>Graduate</th>\n",
       "      <th>Female</th>\n",
       "      <td>5246.920000</td>\n",
       "      <td>1361.400000</td>\n",
       "      <td>0.869565</td>\n",
       "      <td>160.520000</td>\n",
       "      <td>346.560000</td>\n",
       "    </tr>\n",
       "    <tr>\n",
       "      <th rowspan=\"2\" valign=\"top\">No</th>\n",
       "      <th>Graduate</th>\n",
       "      <th>Female</th>\n",
       "      <td>4337.196970</td>\n",
       "      <td>1200.545455</td>\n",
       "      <td>0.813559</td>\n",
       "      <td>118.061538</td>\n",
       "      <td>354.092308</td>\n",
       "    </tr>\n",
       "    <tr>\n",
       "      <th>Not Graduate</th>\n",
       "      <th>Male</th>\n",
       "      <td>3720.387097</td>\n",
       "      <td>1023.129032</td>\n",
       "      <td>0.857143</td>\n",
       "      <td>104.800000</td>\n",
       "      <td>327.200000</td>\n",
       "    </tr>\n",
       "    <tr>\n",
       "      <th rowspan=\"2\" valign=\"top\">Yes</th>\n",
       "      <th rowspan=\"2\" valign=\"top\">Not Graduate</th>\n",
       "      <th>Male</th>\n",
       "      <td>3595.914634</td>\n",
       "      <td>1543.865854</td>\n",
       "      <td>0.756757</td>\n",
       "      <td>125.441558</td>\n",
       "      <td>327.341772</td>\n",
       "    </tr>\n",
       "    <tr>\n",
       "      <th>Female</th>\n",
       "      <td>3091.000000</td>\n",
       "      <td>1410.166667</td>\n",
       "      <td>0.750000</td>\n",
       "      <td>123.333333</td>\n",
       "      <td>360.000000</td>\n",
       "    </tr>\n",
       "  </tbody>\n",
       "</table>\n",
       "</div>"
      ],
      "text/plain": [
       "                             ApplicantIncome  CoapplicantIncome  \\\n",
       "Married Education    Gender                                       \n",
       "Yes     Graduate     Male        6106.112727        1913.152436   \n",
       "No      Graduate     Male        5710.777778        1687.969697   \n",
       "        Not Graduate Female      5289.142857         168.928571   \n",
       "Yes     Graduate     Female      5246.920000        1361.400000   \n",
       "No      Graduate     Female      4337.196970        1200.545455   \n",
       "        Not Graduate Male        3720.387097        1023.129032   \n",
       "Yes     Not Graduate Male        3595.914634        1543.865854   \n",
       "                     Female      3091.000000        1410.166667   \n",
       "\n",
       "                             Credit_History  LoanAmount  Loan_Amount_Term  \n",
       "Married Education    Gender                                                \n",
       "Yes     Graduate     Male          0.873016  162.281955        338.453532  \n",
       "No      Graduate     Male          0.842105  145.968421        355.102041  \n",
       "        Not Graduate Female        0.857143  106.384615        360.000000  \n",
       "Yes     Graduate     Female        0.869565  160.520000        346.560000  \n",
       "No      Graduate     Female        0.813559  118.061538        354.092308  \n",
       "        Not Graduate Male          0.857143  104.800000        327.200000  \n",
       "Yes     Not Graduate Male          0.756757  125.441558        327.341772  \n",
       "                     Female        0.750000  123.333333        360.000000  "
      ]
     },
     "execution_count": 31,
     "metadata": {},
     "output_type": "execute_result"
    }
   ],
   "source": [
    "marriage_pivot.sort_values('ApplicantIncome', ascending=False)"
   ]
  },
  {
   "cell_type": "code",
   "execution_count": 32,
   "metadata": {},
   "outputs": [
    {
     "data": {
      "image/png": "[encoded data removed]",
      "text/plain": [
       "<Figure size 640x480 with 1 Axes>"
      ]
     },
     "metadata": {},
     "output_type": "display_data"
    }
   ],
   "source": [
    "sns.scatterplot(marriage_pivot, x='ApplicantIncome', y='LoanAmount', hue='Married')\n",
    "plt.savefig(\"../images/income_loanamt_scatter\")\n",
    "# Try this with other indexes to see if trend"
   ]
  },
  {
   "cell_type": "code",
   "execution_count": 33,
   "metadata": {},
   "outputs": [
    {
     "data": {
      "text/plain": [
       "<AxesSubplot:ylabel='Married-Education-Gender'>"
      ]
     },
     "execution_count": 33,
     "metadata": {},
     "output_type": "execute_result"
    },
    {
     "data": {
      "image/png": "[encoded data removed]",
      "text/plain": [
       "<Figure size 640x480 with 2 Axes>"
      ]
     },
     "metadata": {},
     "output_type": "display_data"
    }
   ],
   "source": [
    "sns.heatmap(marriage_pivot)\n",
    "# Be careful of independent variables due to colinearity \n",
    "# Look up Variance Inflation Factors - VIF (after) "
   ]
  },
  {
   "cell_type": "code",
   "execution_count": 34,
   "metadata": {},
   "outputs": [
    {
     "data": {
      "text/html": [
       "<div>\n",
       "<style scoped>\n",
       "    .dataframe tbody tr th:only-of-type {\n",
       "        vertical-align: middle;\n",
       "    }\n",
       "\n",
       "    .dataframe tbody tr th {\n",
       "        vertical-align: top;\n",
       "    }\n",
       "\n",
       "    .dataframe thead th {\n",
       "        text-align: right;\n",
       "    }\n",
       "</style>\n",
       "<table border=\"1\" class=\"dataframe\">\n",
       "  <thead>\n",
       "    <tr style=\"text-align: right;\">\n",
       "      <th></th>\n",
       "      <th>Married</th>\n",
       "      <th>Education</th>\n",
       "      <th>Gender</th>\n",
       "      <th>ApplicantIncome</th>\n",
       "      <th>CoapplicantIncome</th>\n",
       "      <th>Credit_History</th>\n",
       "      <th>LoanAmount</th>\n",
       "      <th>Loan_Amount_Term</th>\n",
       "    </tr>\n",
       "  </thead>\n",
       "  <tbody>\n",
       "    <tr>\n",
       "      <th>0</th>\n",
       "      <td>No</td>\n",
       "      <td>Graduate</td>\n",
       "      <td>Female</td>\n",
       "      <td>4337.196970</td>\n",
       "      <td>1200.545455</td>\n",
       "      <td>0.813559</td>\n",
       "      <td>118.061538</td>\n",
       "      <td>354.092308</td>\n",
       "    </tr>\n",
       "    <tr>\n",
       "      <th>1</th>\n",
       "      <td>No</td>\n",
       "      <td>Graduate</td>\n",
       "      <td>Male</td>\n",
       "      <td>5710.777778</td>\n",
       "      <td>1687.969697</td>\n",
       "      <td>0.842105</td>\n",
       "      <td>145.968421</td>\n",
       "      <td>355.102041</td>\n",
       "    </tr>\n",
       "    <tr>\n",
       "      <th>2</th>\n",
       "      <td>No</td>\n",
       "      <td>Not Graduate</td>\n",
       "      <td>Female</td>\n",
       "      <td>5289.142857</td>\n",
       "      <td>168.928571</td>\n",
       "      <td>0.857143</td>\n",
       "      <td>106.384615</td>\n",
       "      <td>360.000000</td>\n",
       "    </tr>\n",
       "    <tr>\n",
       "      <th>3</th>\n",
       "      <td>No</td>\n",
       "      <td>Not Graduate</td>\n",
       "      <td>Male</td>\n",
       "      <td>3720.387097</td>\n",
       "      <td>1023.129032</td>\n",
       "      <td>0.857143</td>\n",
       "      <td>104.800000</td>\n",
       "      <td>327.200000</td>\n",
       "    </tr>\n",
       "    <tr>\n",
       "      <th>4</th>\n",
       "      <td>Yes</td>\n",
       "      <td>Graduate</td>\n",
       "      <td>Female</td>\n",
       "      <td>5246.920000</td>\n",
       "      <td>1361.400000</td>\n",
       "      <td>0.869565</td>\n",
       "      <td>160.520000</td>\n",
       "      <td>346.560000</td>\n",
       "    </tr>\n",
       "    <tr>\n",
       "      <th>5</th>\n",
       "      <td>Yes</td>\n",
       "      <td>Graduate</td>\n",
       "      <td>Male</td>\n",
       "      <td>6106.112727</td>\n",
       "      <td>1913.152436</td>\n",
       "      <td>0.873016</td>\n",
       "      <td>162.281955</td>\n",
       "      <td>338.453532</td>\n",
       "    </tr>\n",
       "    <tr>\n",
       "      <th>6</th>\n",
       "      <td>Yes</td>\n",
       "      <td>Not Graduate</td>\n",
       "      <td>Female</td>\n",
       "      <td>3091.000000</td>\n",
       "      <td>1410.166667</td>\n",
       "      <td>0.750000</td>\n",
       "      <td>123.333333</td>\n",
       "      <td>360.000000</td>\n",
       "    </tr>\n",
       "    <tr>\n",
       "      <th>7</th>\n",
       "      <td>Yes</td>\n",
       "      <td>Not Graduate</td>\n",
       "      <td>Male</td>\n",
       "      <td>3595.914634</td>\n",
       "      <td>1543.865854</td>\n",
       "      <td>0.756757</td>\n",
       "      <td>125.441558</td>\n",
       "      <td>327.341772</td>\n",
       "    </tr>\n",
       "  </tbody>\n",
       "</table>\n",
       "</div>"
      ],
      "text/plain": [
       "  Married     Education  Gender  ApplicantIncome  CoapplicantIncome  \\\n",
       "0      No      Graduate  Female      4337.196970        1200.545455   \n",
       "1      No      Graduate    Male      5710.777778        1687.969697   \n",
       "2      No  Not Graduate  Female      5289.142857         168.928571   \n",
       "3      No  Not Graduate    Male      3720.387097        1023.129032   \n",
       "4     Yes      Graduate  Female      5246.920000        1361.400000   \n",
       "5     Yes      Graduate    Male      6106.112727        1913.152436   \n",
       "6     Yes  Not Graduate  Female      3091.000000        1410.166667   \n",
       "7     Yes  Not Graduate    Male      3595.914634        1543.865854   \n",
       "\n",
       "   Credit_History  LoanAmount  Loan_Amount_Term  \n",
       "0        0.813559  118.061538        354.092308  \n",
       "1        0.842105  145.968421        355.102041  \n",
       "2        0.857143  106.384615        360.000000  \n",
       "3        0.857143  104.800000        327.200000  \n",
       "4        0.869565  160.520000        346.560000  \n",
       "5        0.873016  162.281955        338.453532  \n",
       "6        0.750000  123.333333        360.000000  \n",
       "7        0.756757  125.441558        327.341772  "
      ]
     },
     "execution_count": 34,
     "metadata": {},
     "output_type": "execute_result"
    }
   ],
   "source": [
    "marriage_reset = marriage_pivot.reset_index()\n",
    "marriage_reset"
   ]
  },
  {
   "cell_type": "code",
   "execution_count": 35,
   "metadata": {},
   "outputs": [],
   "source": [
    "marriage_reset['Profile'] = marriage_reset['Gender'] +', ' + marriage_reset['Married'].map({'No':'Single','Yes':'Married'}) + ', ' + marriage_reset['Education']"
   ]
  },
  {
   "cell_type": "code",
   "execution_count": 36,
   "metadata": {},
   "outputs": [
    {
     "data": {
      "text/html": [
       "<div>\n",
       "<style scoped>\n",
       "    .dataframe tbody tr th:only-of-type {\n",
       "        vertical-align: middle;\n",
       "    }\n",
       "\n",
       "    .dataframe tbody tr th {\n",
       "        vertical-align: top;\n",
       "    }\n",
       "\n",
       "    .dataframe thead th {\n",
       "        text-align: right;\n",
       "    }\n",
       "</style>\n",
       "<table border=\"1\" class=\"dataframe\">\n",
       "  <thead>\n",
       "    <tr style=\"text-align: right;\">\n",
       "      <th></th>\n",
       "      <th>Married</th>\n",
       "      <th>Education</th>\n",
       "      <th>Gender</th>\n",
       "      <th>ApplicantIncome</th>\n",
       "      <th>CoapplicantIncome</th>\n",
       "      <th>Credit_History</th>\n",
       "      <th>LoanAmount</th>\n",
       "      <th>Loan_Amount_Term</th>\n",
       "      <th>Profile</th>\n",
       "    </tr>\n",
       "  </thead>\n",
       "  <tbody>\n",
       "    <tr>\n",
       "      <th>0</th>\n",
       "      <td>No</td>\n",
       "      <td>Graduate</td>\n",
       "      <td>Female</td>\n",
       "      <td>4337.196970</td>\n",
       "      <td>1200.545455</td>\n",
       "      <td>0.813559</td>\n",
       "      <td>118.061538</td>\n",
       "      <td>354.092308</td>\n",
       "      <td>Female, Single, Graduate</td>\n",
       "    </tr>\n",
       "    <tr>\n",
       "      <th>1</th>\n",
       "      <td>No</td>\n",
       "      <td>Graduate</td>\n",
       "      <td>Male</td>\n",
       "      <td>5710.777778</td>\n",
       "      <td>1687.969697</td>\n",
       "      <td>0.842105</td>\n",
       "      <td>145.968421</td>\n",
       "      <td>355.102041</td>\n",
       "      <td>Male, Single, Graduate</td>\n",
       "    </tr>\n",
       "    <tr>\n",
       "      <th>2</th>\n",
       "      <td>No</td>\n",
       "      <td>Not Graduate</td>\n",
       "      <td>Female</td>\n",
       "      <td>5289.142857</td>\n",
       "      <td>168.928571</td>\n",
       "      <td>0.857143</td>\n",
       "      <td>106.384615</td>\n",
       "      <td>360.000000</td>\n",
       "      <td>Female, Single, Not Graduate</td>\n",
       "    </tr>\n",
       "    <tr>\n",
       "      <th>3</th>\n",
       "      <td>No</td>\n",
       "      <td>Not Graduate</td>\n",
       "      <td>Male</td>\n",
       "      <td>3720.387097</td>\n",
       "      <td>1023.129032</td>\n",
       "      <td>0.857143</td>\n",
       "      <td>104.800000</td>\n",
       "      <td>327.200000</td>\n",
       "      <td>Male, Single, Not Graduate</td>\n",
       "    </tr>\n",
       "    <tr>\n",
       "      <th>4</th>\n",
       "      <td>Yes</td>\n",
       "      <td>Graduate</td>\n",
       "      <td>Female</td>\n",
       "      <td>5246.920000</td>\n",
       "      <td>1361.400000</td>\n",
       "      <td>0.869565</td>\n",
       "      <td>160.520000</td>\n",
       "      <td>346.560000</td>\n",
       "      <td>Female, Married, Graduate</td>\n",
       "    </tr>\n",
       "    <tr>\n",
       "      <th>5</th>\n",
       "      <td>Yes</td>\n",
       "      <td>Graduate</td>\n",
       "      <td>Male</td>\n",
       "      <td>6106.112727</td>\n",
       "      <td>1913.152436</td>\n",
       "      <td>0.873016</td>\n",
       "      <td>162.281955</td>\n",
       "      <td>338.453532</td>\n",
       "      <td>Male, Married, Graduate</td>\n",
       "    </tr>\n",
       "    <tr>\n",
       "      <th>6</th>\n",
       "      <td>Yes</td>\n",
       "      <td>Not Graduate</td>\n",
       "      <td>Female</td>\n",
       "      <td>3091.000000</td>\n",
       "      <td>1410.166667</td>\n",
       "      <td>0.750000</td>\n",
       "      <td>123.333333</td>\n",
       "      <td>360.000000</td>\n",
       "      <td>Female, Married, Not Graduate</td>\n",
       "    </tr>\n",
       "    <tr>\n",
       "      <th>7</th>\n",
       "      <td>Yes</td>\n",
       "      <td>Not Graduate</td>\n",
       "      <td>Male</td>\n",
       "      <td>3595.914634</td>\n",
       "      <td>1543.865854</td>\n",
       "      <td>0.756757</td>\n",
       "      <td>125.441558</td>\n",
       "      <td>327.341772</td>\n",
       "      <td>Male, Married, Not Graduate</td>\n",
       "    </tr>\n",
       "  </tbody>\n",
       "</table>\n",
       "</div>"
      ],
      "text/plain": [
       "  Married     Education  Gender  ApplicantIncome  CoapplicantIncome  \\\n",
       "0      No      Graduate  Female      4337.196970        1200.545455   \n",
       "1      No      Graduate    Male      5710.777778        1687.969697   \n",
       "2      No  Not Graduate  Female      5289.142857         168.928571   \n",
       "3      No  Not Graduate    Male      3720.387097        1023.129032   \n",
       "4     Yes      Graduate  Female      5246.920000        1361.400000   \n",
       "5     Yes      Graduate    Male      6106.112727        1913.152436   \n",
       "6     Yes  Not Graduate  Female      3091.000000        1410.166667   \n",
       "7     Yes  Not Graduate    Male      3595.914634        1543.865854   \n",
       "\n",
       "   Credit_History  LoanAmount  Loan_Amount_Term                        Profile  \n",
       "0        0.813559  118.061538        354.092308       Female, Single, Graduate  \n",
       "1        0.842105  145.968421        355.102041         Male, Single, Graduate  \n",
       "2        0.857143  106.384615        360.000000   Female, Single, Not Graduate  \n",
       "3        0.857143  104.800000        327.200000     Male, Single, Not Graduate  \n",
       "4        0.869565  160.520000        346.560000      Female, Married, Graduate  \n",
       "5        0.873016  162.281955        338.453532        Male, Married, Graduate  \n",
       "6        0.750000  123.333333        360.000000  Female, Married, Not Graduate  \n",
       "7        0.756757  125.441558        327.341772    Male, Married, Not Graduate  "
      ]
     },
     "execution_count": 36,
     "metadata": {},
     "output_type": "execute_result"
    }
   ],
   "source": [
    "marriage_reset"
   ]
  },
  {
   "cell_type": "code",
   "execution_count": 37,
   "metadata": {},
   "outputs": [
    {
     "ename": "TypeError",
     "evalue": "make_pie() missing 1 required positional argument: 'title'",
     "output_type": "error",
     "traceback": [
      "\u001b[0;31m---------------------------------------------------------------------------\u001b[0m",
      "\u001b[0;31mTypeError\u001b[0m                                 Traceback (most recent call last)",
      "Cell \u001b[0;32mIn [37], line 1\u001b[0m\n\u001b[0;32m----> 1\u001b[0m make_pie(marriage_reset, \u001b[38;5;124m'\u001b[39m\u001b[38;5;124mApplicantIncome\u001b[39m\u001b[38;5;124m'\u001b[39m, \u001b[38;5;124m'\u001b[39m\u001b[38;5;124mProfile\u001b[39m\u001b[38;5;124m'\u001b[39m)\n",
      "\u001b[0;31mTypeError\u001b[0m: make_pie() missing 1 required positional argument: 'title'"
     ]
    }
   ],
   "source": [
    "make_pie(marriage_reset, 'ApplicantIncome', 'Profile')"
   ]
  },
  {
   "cell_type": "code",
   "execution_count": 41,
   "metadata": {},
   "outputs": [],
   "source": [
    "df['Profile'] = df['Gender'] +', ' + df['Married'].map({'No':'Single','Yes':'Married'}) + ', ' + df['Education']\n"
   ]
  },
  {
   "cell_type": "code",
   "execution_count": 42,
   "metadata": {},
   "outputs": [],
   "source": [
    "df_loans = df.groupby(['Profile'], as_index=False)['Loan_Status'].value_counts()"
   ]
  },
  {
   "cell_type": "code",
   "execution_count": 43,
   "metadata": {},
   "outputs": [
    {
     "data": {
      "text/html": [
       "<div>\n",
       "<style scoped>\n",
       "    .dataframe tbody tr th:only-of-type {\n",
       "        vertical-align: middle;\n",
       "    }\n",
       "\n",
       "    .dataframe tbody tr th {\n",
       "        vertical-align: top;\n",
       "    }\n",
       "\n",
       "    .dataframe thead th {\n",
       "        text-align: right;\n",
       "    }\n",
       "</style>\n",
       "<table border=\"1\" class=\"dataframe\">\n",
       "  <thead>\n",
       "    <tr style=\"text-align: right;\">\n",
       "      <th></th>\n",
       "      <th>Profile</th>\n",
       "      <th>Loan_Status</th>\n",
       "      <th>count</th>\n",
       "    </tr>\n",
       "  </thead>\n",
       "  <tbody>\n",
       "    <tr>\n",
       "      <th>0</th>\n",
       "      <td>Female, Married, Graduate</td>\n",
       "      <td>Y</td>\n",
       "      <td>18</td>\n",
       "    </tr>\n",
       "    <tr>\n",
       "      <th>1</th>\n",
       "      <td>Female, Married, Graduate</td>\n",
       "      <td>N</td>\n",
       "      <td>7</td>\n",
       "    </tr>\n",
       "    <tr>\n",
       "      <th>2</th>\n",
       "      <td>Female, Married, Not Graduate</td>\n",
       "      <td>Y</td>\n",
       "      <td>5</td>\n",
       "    </tr>\n",
       "    <tr>\n",
       "      <th>3</th>\n",
       "      <td>Female, Married, Not Graduate</td>\n",
       "      <td>N</td>\n",
       "      <td>1</td>\n",
       "    </tr>\n",
       "    <tr>\n",
       "      <th>4</th>\n",
       "      <td>Female, Single, Graduate</td>\n",
       "      <td>Y</td>\n",
       "      <td>42</td>\n",
       "    </tr>\n",
       "    <tr>\n",
       "      <th>5</th>\n",
       "      <td>Female, Single, Graduate</td>\n",
       "      <td>N</td>\n",
       "      <td>24</td>\n",
       "    </tr>\n",
       "    <tr>\n",
       "      <th>6</th>\n",
       "      <td>Female, Single, Not Graduate</td>\n",
       "      <td>Y</td>\n",
       "      <td>9</td>\n",
       "    </tr>\n",
       "    <tr>\n",
       "      <th>7</th>\n",
       "      <td>Female, Single, Not Graduate</td>\n",
       "      <td>N</td>\n",
       "      <td>5</td>\n",
       "    </tr>\n",
       "    <tr>\n",
       "      <th>8</th>\n",
       "      <td>Male, Married, Graduate</td>\n",
       "      <td>Y</td>\n",
       "      <td>207</td>\n",
       "    </tr>\n",
       "    <tr>\n",
       "      <th>9</th>\n",
       "      <td>Male, Married, Graduate</td>\n",
       "      <td>N</td>\n",
       "      <td>68</td>\n",
       "    </tr>\n",
       "    <tr>\n",
       "      <th>10</th>\n",
       "      <td>Male, Married, Not Graduate</td>\n",
       "      <td>Y</td>\n",
       "      <td>49</td>\n",
       "    </tr>\n",
       "    <tr>\n",
       "      <th>11</th>\n",
       "      <td>Male, Married, Not Graduate</td>\n",
       "      <td>N</td>\n",
       "      <td>33</td>\n",
       "    </tr>\n",
       "    <tr>\n",
       "      <th>12</th>\n",
       "      <td>Male, Single, Graduate</td>\n",
       "      <td>Y</td>\n",
       "      <td>62</td>\n",
       "    </tr>\n",
       "    <tr>\n",
       "      <th>13</th>\n",
       "      <td>Male, Single, Graduate</td>\n",
       "      <td>N</td>\n",
       "      <td>37</td>\n",
       "    </tr>\n",
       "    <tr>\n",
       "      <th>14</th>\n",
       "      <td>Male, Single, Not Graduate</td>\n",
       "      <td>Y</td>\n",
       "      <td>19</td>\n",
       "    </tr>\n",
       "    <tr>\n",
       "      <th>15</th>\n",
       "      <td>Male, Single, Not Graduate</td>\n",
       "      <td>N</td>\n",
       "      <td>12</td>\n",
       "    </tr>\n",
       "  </tbody>\n",
       "</table>\n",
       "</div>"
      ],
      "text/plain": [
       "                          Profile Loan_Status  count\n",
       "0       Female, Married, Graduate           Y     18\n",
       "1       Female, Married, Graduate           N      7\n",
       "2   Female, Married, Not Graduate           Y      5\n",
       "3   Female, Married, Not Graduate           N      1\n",
       "4        Female, Single, Graduate           Y     42\n",
       "5        Female, Single, Graduate           N     24\n",
       "6    Female, Single, Not Graduate           Y      9\n",
       "7    Female, Single, Not Graduate           N      5\n",
       "8         Male, Married, Graduate           Y    207\n",
       "9         Male, Married, Graduate           N     68\n",
       "10    Male, Married, Not Graduate           Y     49\n",
       "11    Male, Married, Not Graduate           N     33\n",
       "12         Male, Single, Graduate           Y     62\n",
       "13         Male, Single, Graduate           N     37\n",
       "14     Male, Single, Not Graduate           Y     19\n",
       "15     Male, Single, Not Graduate           N     12"
      ]
     },
     "execution_count": 43,
     "metadata": {},
     "output_type": "execute_result"
    }
   ],
   "source": [
    "df_loans"
   ]
  },
  {
   "cell_type": "code",
   "execution_count": 44,
   "metadata": {},
   "outputs": [],
   "source": [
    "df_loans_approved = df_loans[df_loans['Loan_Status'] == 'Y']"
   ]
  },
  {
   "cell_type": "code",
   "execution_count": 45,
   "metadata": {},
   "outputs": [
    {
     "data": {
      "text/html": [
       "<div>\n",
       "<style scoped>\n",
       "    .dataframe tbody tr th:only-of-type {\n",
       "        vertical-align: middle;\n",
       "    }\n",
       "\n",
       "    .dataframe tbody tr th {\n",
       "        vertical-align: top;\n",
       "    }\n",
       "\n",
       "    .dataframe thead th {\n",
       "        text-align: right;\n",
       "    }\n",
       "</style>\n",
       "<table border=\"1\" class=\"dataframe\">\n",
       "  <thead>\n",
       "    <tr style=\"text-align: right;\">\n",
       "      <th></th>\n",
       "      <th>Profile</th>\n",
       "      <th>Loan_Status</th>\n",
       "      <th>count</th>\n",
       "    </tr>\n",
       "  </thead>\n",
       "  <tbody>\n",
       "    <tr>\n",
       "      <th>0</th>\n",
       "      <td>Female, Married, Graduate</td>\n",
       "      <td>Y</td>\n",
       "      <td>18</td>\n",
       "    </tr>\n",
       "    <tr>\n",
       "      <th>2</th>\n",
       "      <td>Female, Married, Not Graduate</td>\n",
       "      <td>Y</td>\n",
       "      <td>5</td>\n",
       "    </tr>\n",
       "    <tr>\n",
       "      <th>4</th>\n",
       "      <td>Female, Single, Graduate</td>\n",
       "      <td>Y</td>\n",
       "      <td>42</td>\n",
       "    </tr>\n",
       "    <tr>\n",
       "      <th>6</th>\n",
       "      <td>Female, Single, Not Graduate</td>\n",
       "      <td>Y</td>\n",
       "      <td>9</td>\n",
       "    </tr>\n",
       "    <tr>\n",
       "      <th>8</th>\n",
       "      <td>Male, Married, Graduate</td>\n",
       "      <td>Y</td>\n",
       "      <td>207</td>\n",
       "    </tr>\n",
       "    <tr>\n",
       "      <th>10</th>\n",
       "      <td>Male, Married, Not Graduate</td>\n",
       "      <td>Y</td>\n",
       "      <td>49</td>\n",
       "    </tr>\n",
       "    <tr>\n",
       "      <th>12</th>\n",
       "      <td>Male, Single, Graduate</td>\n",
       "      <td>Y</td>\n",
       "      <td>62</td>\n",
       "    </tr>\n",
       "    <tr>\n",
       "      <th>14</th>\n",
       "      <td>Male, Single, Not Graduate</td>\n",
       "      <td>Y</td>\n",
       "      <td>19</td>\n",
       "    </tr>\n",
       "  </tbody>\n",
       "</table>\n",
       "</div>"
      ],
      "text/plain": [
       "                          Profile Loan_Status  count\n",
       "0       Female, Married, Graduate           Y     18\n",
       "2   Female, Married, Not Graduate           Y      5\n",
       "4        Female, Single, Graduate           Y     42\n",
       "6    Female, Single, Not Graduate           Y      9\n",
       "8         Male, Married, Graduate           Y    207\n",
       "10    Male, Married, Not Graduate           Y     49\n",
       "12         Male, Single, Graduate           Y     62\n",
       "14     Male, Single, Not Graduate           Y     19"
      ]
     },
     "execution_count": 45,
     "metadata": {},
     "output_type": "execute_result"
    }
   ],
   "source": [
    "df_loans_approved"
   ]
  },
  {
   "cell_type": "code",
   "execution_count": 46,
   "metadata": {},
   "outputs": [
    {
     "data": {
      "image/png": "[encoded data removed]",
      "text/plain": [
       "<Figure size 640x480 with 1 Axes>"
      ]
     },
     "metadata": {},
     "output_type": "display_data"
    }
   ],
   "source": [
    "make_pie(df_loans_approved, 'count', 'Profile', \"Approved Loans by Profile\")"
   ]
  },
  {
   "cell_type": "code",
   "execution_count": 47,
   "metadata": {},
   "outputs": [],
   "source": [
    "df_loans_denied = df_loans[df_loans['Loan_Status'] == 'N']"
   ]
  },
  {
   "cell_type": "code",
   "execution_count": 48,
   "metadata": {},
   "outputs": [
    {
     "data": {
      "text/html": [
       "<div>\n",
       "<style scoped>\n",
       "    .dataframe tbody tr th:only-of-type {\n",
       "        vertical-align: middle;\n",
       "    }\n",
       "\n",
       "    .dataframe tbody tr th {\n",
       "        vertical-align: top;\n",
       "    }\n",
       "\n",
       "    .dataframe thead th {\n",
       "        text-align: right;\n",
       "    }\n",
       "</style>\n",
       "<table border=\"1\" class=\"dataframe\">\n",
       "  <thead>\n",
       "    <tr style=\"text-align: right;\">\n",
       "      <th></th>\n",
       "      <th>Profile</th>\n",
       "      <th>Loan_Status</th>\n",
       "      <th>count</th>\n",
       "    </tr>\n",
       "  </thead>\n",
       "  <tbody>\n",
       "    <tr>\n",
       "      <th>1</th>\n",
       "      <td>Female, Married, Graduate</td>\n",
       "      <td>N</td>\n",
       "      <td>7</td>\n",
       "    </tr>\n",
       "    <tr>\n",
       "      <th>3</th>\n",
       "      <td>Female, Married, Not Graduate</td>\n",
       "      <td>N</td>\n",
       "      <td>1</td>\n",
       "    </tr>\n",
       "    <tr>\n",
       "      <th>5</th>\n",
       "      <td>Female, Single, Graduate</td>\n",
       "      <td>N</td>\n",
       "      <td>24</td>\n",
       "    </tr>\n",
       "    <tr>\n",
       "      <th>7</th>\n",
       "      <td>Female, Single, Not Graduate</td>\n",
       "      <td>N</td>\n",
       "      <td>5</td>\n",
       "    </tr>\n",
       "    <tr>\n",
       "      <th>9</th>\n",
       "      <td>Male, Married, Graduate</td>\n",
       "      <td>N</td>\n",
       "      <td>68</td>\n",
       "    </tr>\n",
       "    <tr>\n",
       "      <th>11</th>\n",
       "      <td>Male, Married, Not Graduate</td>\n",
       "      <td>N</td>\n",
       "      <td>33</td>\n",
       "    </tr>\n",
       "    <tr>\n",
       "      <th>13</th>\n",
       "      <td>Male, Single, Graduate</td>\n",
       "      <td>N</td>\n",
       "      <td>37</td>\n",
       "    </tr>\n",
       "    <tr>\n",
       "      <th>15</th>\n",
       "      <td>Male, Single, Not Graduate</td>\n",
       "      <td>N</td>\n",
       "      <td>12</td>\n",
       "    </tr>\n",
       "  </tbody>\n",
       "</table>\n",
       "</div>"
      ],
      "text/plain": [
       "                          Profile Loan_Status  count\n",
       "1       Female, Married, Graduate           N      7\n",
       "3   Female, Married, Not Graduate           N      1\n",
       "5        Female, Single, Graduate           N     24\n",
       "7    Female, Single, Not Graduate           N      5\n",
       "9         Male, Married, Graduate           N     68\n",
       "11    Male, Married, Not Graduate           N     33\n",
       "13         Male, Single, Graduate           N     37\n",
       "15     Male, Single, Not Graduate           N     12"
      ]
     },
     "execution_count": 48,
     "metadata": {},
     "output_type": "execute_result"
    }
   ],
   "source": [
    "df_loans_denied"
   ]
  },
  {
   "cell_type": "code",
   "execution_count": 49,
   "metadata": {},
   "outputs": [
    {
     "data": {
      "image/png": "[encoded data removed]",
      "text/plain": [
       "<Figure size 640x480 with 1 Axes>"
      ]
     },
     "metadata": {},
     "output_type": "display_data"
    }
   ],
   "source": [
    "make_pie(df_loans_denied, 'count', 'Profile', \"Denied Loans by Profile\")"
   ]
  },
  {
   "cell_type": "code",
   "execution_count": 99,
   "metadata": {},
   "outputs": [],
   "source": [
    "df['Gender_Marriage'] = df['Gender'] + ', ' + df['Married'] "
   ]
  },
  {
   "cell_type": "code",
   "execution_count": 100,
   "metadata": {},
   "outputs": [],
   "source": [
    "loan_amount_gender = df.groupby(['Gender_Marriage'], as_index=False)['LoanAmount'].mean()"
   ]
  },
  {
   "cell_type": "code",
   "execution_count": 101,
   "metadata": {},
   "outputs": [
    {
     "data": {
      "text/html": [
       "<div>\n",
       "<style scoped>\n",
       "    .dataframe tbody tr th:only-of-type {\n",
       "        vertical-align: middle;\n",
       "    }\n",
       "\n",
       "    .dataframe tbody tr th {\n",
       "        vertical-align: top;\n",
       "    }\n",
       "\n",
       "    .dataframe thead th {\n",
       "        text-align: right;\n",
       "    }\n",
       "</style>\n",
       "<table border=\"1\" class=\"dataframe\">\n",
       "  <thead>\n",
       "    <tr style=\"text-align: right;\">\n",
       "      <th></th>\n",
       "      <th>Gender_Marriage</th>\n",
       "      <th>LoanAmount</th>\n",
       "    </tr>\n",
       "  </thead>\n",
       "  <tbody>\n",
       "    <tr>\n",
       "      <th>0</th>\n",
       "      <td>Female, No</td>\n",
       "      <td>116.115385</td>\n",
       "    </tr>\n",
       "    <tr>\n",
       "      <th>1</th>\n",
       "      <td>Female, Yes</td>\n",
       "      <td>153.322581</td>\n",
       "    </tr>\n",
       "    <tr>\n",
       "      <th>2</th>\n",
       "      <td>Male, No</td>\n",
       "      <td>136.088000</td>\n",
       "    </tr>\n",
       "    <tr>\n",
       "      <th>3</th>\n",
       "      <td>Male, Yes</td>\n",
       "      <td>154.011662</td>\n",
       "    </tr>\n",
       "  </tbody>\n",
       "</table>\n",
       "</div>"
      ],
      "text/plain": [
       "  Gender_Marriage  LoanAmount\n",
       "0      Female, No  116.115385\n",
       "1     Female, Yes  153.322581\n",
       "2        Male, No  136.088000\n",
       "3       Male, Yes  154.011662"
      ]
     },
     "execution_count": 101,
     "metadata": {},
     "output_type": "execute_result"
    }
   ],
   "source": [
    "loan_amount_gender"
   ]
  },
  {
   "cell_type": "code",
   "execution_count": 103,
   "metadata": {},
   "outputs": [
    {
     "data": {
      "image/png": "[encoded data removed]",
      "text/plain": [
       "<Figure size 640x480 with 1 Axes>"
      ]
     },
     "metadata": {},
     "output_type": "display_data"
    }
   ],
   "source": [
    "make_pie(loan_amount_gender, 'LoanAmount', 'Gender_Marriage', \"Loan Amount by Gender and Marital Status\")"
   ]
  },
  {
   "cell_type": "code",
   "execution_count": null,
   "metadata": {},
   "outputs": [],
   "source": []
  },
  {
   "cell_type": "code",
   "execution_count": 104,
   "metadata": {},
   "outputs": [],
   "source": [
    "property_pivot = df.pivot_table(index=['Property_Area']).reset_index()"
   ]
  },
  {
   "cell_type": "code",
   "execution_count": 105,
   "metadata": {},
   "outputs": [
    {
     "data": {
      "text/html": [
       "<div>\n",
       "<style scoped>\n",
       "    .dataframe tbody tr th:only-of-type {\n",
       "        vertical-align: middle;\n",
       "    }\n",
       "\n",
       "    .dataframe tbody tr th {\n",
       "        vertical-align: top;\n",
       "    }\n",
       "\n",
       "    .dataframe thead th {\n",
       "        text-align: right;\n",
       "    }\n",
       "</style>\n",
       "<table border=\"1\" class=\"dataframe\">\n",
       "  <thead>\n",
       "    <tr style=\"text-align: right;\">\n",
       "      <th></th>\n",
       "      <th>Property_Area</th>\n",
       "      <th>ApplicantIncome</th>\n",
       "      <th>CoapplicantIncome</th>\n",
       "      <th>Credit_History</th>\n",
       "      <th>LoanAmount</th>\n",
       "      <th>Loan_Amount_Term</th>\n",
       "    </tr>\n",
       "  </thead>\n",
       "  <tbody>\n",
       "    <tr>\n",
       "      <th>0</th>\n",
       "      <td>Rural</td>\n",
       "      <td>5554.083799</td>\n",
       "      <td>1645.536983</td>\n",
       "      <td>0.830303</td>\n",
       "      <td>152.260116</td>\n",
       "      <td>345.531429</td>\n",
       "    </tr>\n",
       "    <tr>\n",
       "      <th>1</th>\n",
       "      <td>Semiurban</td>\n",
       "      <td>5292.261803</td>\n",
       "      <td>1520.133047</td>\n",
       "      <td>0.861751</td>\n",
       "      <td>145.504386</td>\n",
       "      <td>347.113043</td>\n",
       "    </tr>\n",
       "    <tr>\n",
       "      <th>2</th>\n",
       "      <td>Urban</td>\n",
       "      <td>5398.247525</td>\n",
       "      <td>1716.350495</td>\n",
       "      <td>0.829670</td>\n",
       "      <td>142.198953</td>\n",
       "      <td>332.800000</td>\n",
       "    </tr>\n",
       "  </tbody>\n",
       "</table>\n",
       "</div>"
      ],
      "text/plain": [
       "  Property_Area  ApplicantIncome  CoapplicantIncome  Credit_History  \\\n",
       "0         Rural      5554.083799        1645.536983        0.830303   \n",
       "1     Semiurban      5292.261803        1520.133047        0.861751   \n",
       "2         Urban      5398.247525        1716.350495        0.829670   \n",
       "\n",
       "   LoanAmount  Loan_Amount_Term  \n",
       "0  152.260116        345.531429  \n",
       "1  145.504386        347.113043  \n",
       "2  142.198953        332.800000  "
      ]
     },
     "execution_count": 105,
     "metadata": {},
     "output_type": "execute_result"
    }
   ],
   "source": [
    "property_pivot"
   ]
  },
  {
   "cell_type": "code",
   "execution_count": 108,
   "metadata": {},
   "outputs": [
    {
     "data": {
      "image/png": "[encoded data removed]",
      "text/plain": [
       "<Figure size 640x480 with 1 Axes>"
      ]
     },
     "metadata": {},
     "output_type": "display_data"
    }
   ],
   "source": [
    "make_pie(property_pivot, 'ApplicantIncome', 'Property_Area', \"Applicant Income by Property Area\")"
   ]
  },
  {
   "cell_type": "code",
   "execution_count": 109,
   "metadata": {},
   "outputs": [
    {
     "data": {
      "image/png": "[encoded data removed]",
      "text/plain": [
       "<Figure size 640x480 with 1 Axes>"
      ]
     },
     "metadata": {},
     "output_type": "display_data"
    }
   ],
   "source": [
    "make_pie(property_pivot, 'LoanAmount', 'Property_Area', \"Loan Amount by Property Area\")"
   ]
  },
  {
   "cell_type": "markdown",
   "metadata": {
    "tags": []
   },
   "source": [
    "## 3. Data Cleaning\n",
    "\n",
    "This step typically involves imputing missing values and treating outliers. "
   ]
  },
  {
   "cell_type": "markdown",
   "metadata": {},
   "source": [
    "### Imputing Missing Values\n",
    "\n",
    "Missing values may not always be NaNs. For instance, the `Loan_Amount_Term` might be 0, which does not make sense.\n",
    "\n"
   ]
  },
  {
   "cell_type": "markdown",
   "metadata": {},
   "source": [
    "Impute missing values for all columns. Use the values which you find most meaningful (mean, mode, median, zero.... maybe different mean values for different groups)"
   ]
  },
  {
   "cell_type": "code",
   "execution_count": 110,
   "metadata": {},
   "outputs": [
    {
     "data": {
      "text/plain": [
       "Loan_ID               0\n",
       "Gender               13\n",
       "Married               3\n",
       "Dependents           15\n",
       "Education             0\n",
       "Self_Employed        32\n",
       "ApplicantIncome       0\n",
       "CoapplicantIncome     0\n",
       "LoanAmount           22\n",
       "Loan_Amount_Term     14\n",
       "Credit_History       50\n",
       "Property_Area         0\n",
       "Loan_Status           0\n",
       "Profile              16\n",
       "Gender_Marriage      16\n",
       "dtype: int64"
      ]
     },
     "execution_count": 110,
     "metadata": {},
     "output_type": "execute_result"
    }
   ],
   "source": [
    "df.isna().sum()"
   ]
  },
  {
   "cell_type": "code",
   "execution_count": 111,
   "metadata": {},
   "outputs": [],
   "source": [
    "# Fill ordinal catergorical NaNs with mode\n",
    "df = df.fillna(df.select_dtypes(include=object).mode().iloc[0])"
   ]
  },
  {
   "cell_type": "code",
   "execution_count": 112,
   "metadata": {},
   "outputs": [
    {
     "data": {
      "text/plain": [
       "Loan_ID               0\n",
       "Gender                0\n",
       "Married               0\n",
       "Dependents            0\n",
       "Education             0\n",
       "Self_Employed         0\n",
       "ApplicantIncome       0\n",
       "CoapplicantIncome     0\n",
       "LoanAmount           22\n",
       "Loan_Amount_Term     14\n",
       "Credit_History       50\n",
       "Property_Area         0\n",
       "Loan_Status           0\n",
       "Profile               0\n",
       "Gender_Marriage       0\n",
       "dtype: int64"
      ]
     },
     "execution_count": 112,
     "metadata": {},
     "output_type": "execute_result"
    }
   ],
   "source": [
    "df.isna().sum()"
   ]
  },
  {
   "cell_type": "code",
   "execution_count": 113,
   "metadata": {},
   "outputs": [],
   "source": [
    "# Fill nominal valued NaNs with median\n",
    "df = df.fillna(df.select_dtypes(include='number').median().iloc[0])"
   ]
  },
  {
   "cell_type": "code",
   "execution_count": 114,
   "metadata": {},
   "outputs": [
    {
     "data": {
      "text/plain": [
       "Loan_ID              0\n",
       "Gender               0\n",
       "Married              0\n",
       "Dependents           0\n",
       "Education            0\n",
       "Self_Employed        0\n",
       "ApplicantIncome      0\n",
       "CoapplicantIncome    0\n",
       "LoanAmount           0\n",
       "Loan_Amount_Term     0\n",
       "Credit_History       0\n",
       "Property_Area        0\n",
       "Loan_Status          0\n",
       "Profile              0\n",
       "Gender_Marriage      0\n",
       "dtype: int64"
      ]
     },
     "execution_count": 114,
     "metadata": {},
     "output_type": "execute_result"
    }
   ],
   "source": [
    "df.isna().sum()"
   ]
  },
  {
   "cell_type": "markdown",
   "metadata": {},
   "source": [
    "### Extreme values\n",
    "Try a log transformation to get rid of the extreme values in `LoanAmount`. Plot the histogram before and after the transformation"
   ]
  },
  {
   "cell_type": "code",
   "execution_count": 118,
   "metadata": {
    "collapsed": false,
    "jupyter": {
     "outputs_hidden": false
    }
   },
   "outputs": [
    {
     "data": {
      "image/png": "[encoded data removed]",
      "text/plain": [
       "<Figure size 640x480 with 1 Axes>"
      ]
     },
     "metadata": {},
     "output_type": "display_data"
    }
   ],
   "source": [
    "# Plot Histogram before Transformation\n",
    "sns.histplot(df['LoanAmount'])\n",
    "plt.savefig(\"../data/loan_amount_histogram.png\")"
   ]
  },
  {
   "cell_type": "code",
   "execution_count": 119,
   "metadata": {},
   "outputs": [],
   "source": [
    "df['LoanAmount_log'] = np.log(df['LoanAmount'])"
   ]
  },
  {
   "cell_type": "code",
   "execution_count": 120,
   "metadata": {},
   "outputs": [
    {
     "data": {
      "image/png": "[encoded data removed]",
      "text/plain": [
       "<Figure size 640x480 with 1 Axes>"
      ]
     },
     "metadata": {},
     "output_type": "display_data"
    }
   ],
   "source": [
    "# Plot Histogram after Transformation\n",
    "sns.histplot(df['LoanAmount_log'], bins=80)\n",
    "plt.savefig(\"../data/loan_amount_log_histogram.png\")"
   ]
  },
  {
   "cell_type": "markdown",
   "metadata": {},
   "source": [
    "Combine both incomes as total income and take a log transformation of the same."
   ]
  },
  {
   "cell_type": "code",
   "execution_count": 121,
   "metadata": {
    "collapsed": false,
    "jupyter": {
     "outputs_hidden": false
    }
   },
   "outputs": [],
   "source": [
    "# Combine both incomes\n",
    "df['CombinedIncome'] = df['ApplicantIncome']+df['CoapplicantIncome']"
   ]
  },
  {
   "cell_type": "code",
   "execution_count": 122,
   "metadata": {},
   "outputs": [
    {
     "data": {
      "image/png": "[encoded data removed]",
      "text/plain": [
       "<Figure size 640x480 with 1 Axes>"
      ]
     },
     "metadata": {},
     "output_type": "display_data"
    }
   ],
   "source": [
    "# plot histogram prior to log transform\n",
    "sns.histplot(df['CombinedIncome'], bins=80)\n",
    "plt.savefig(\"../data/combined_income_histogram.png\")"
   ]
  },
  {
   "cell_type": "code",
   "execution_count": 125,
   "metadata": {},
   "outputs": [],
   "source": [
    "# log transform new column\n",
    "df['CombinedIncome_log'] = np.log(df['CombinedIncome'])"
   ]
  },
  {
   "cell_type": "code",
   "execution_count": 126,
   "metadata": {},
   "outputs": [
    {
     "data": {
      "image/png": "[encoded data removed]",
      "text/plain": [
       "<Figure size 640x480 with 1 Axes>"
      ]
     },
     "metadata": {},
     "output_type": "display_data"
    }
   ],
   "source": [
    "# Plot histogram after the log transform\n",
    "sns.histplot(df['CombinedIncome_log'], bins=80)\n",
    "plt.savefig(\"../data/combined_income_log_histogram.png\")"
   ]
  },
  {
   "cell_type": "markdown",
   "metadata": {},
   "source": [
    "### 3.5 Apply feature engineering to main df\n"
   ]
  },
  {
   "cell_type": "code",
   "execution_count": 127,
   "metadata": {},
   "outputs": [],
   "source": [
    "df['Profile'] = df['Gender'] +', ' + df['Married'].map({'No':'Single','Yes':'Married'}) + ', ' + df['Education']"
   ]
  },
  {
   "cell_type": "code",
   "execution_count": 128,
   "metadata": {},
   "outputs": [
    {
     "data": {
      "text/plain": [
       "0      1\n",
       "1      0\n",
       "2      1\n",
       "3      1\n",
       "4      1\n",
       "      ..\n",
       "609    1\n",
       "610    1\n",
       "611    1\n",
       "612    1\n",
       "613    0\n",
       "Name: Loan_Status, Length: 614, dtype: int64"
      ]
     },
     "execution_count": 128,
     "metadata": {},
     "output_type": "execute_result"
    }
   ],
   "source": [
    "#Isolate and map loan status (for target)\n",
    "y = df['Loan_Status'].map({'N':0,'Y':1})\n",
    "y"
   ]
  },
  {
   "cell_type": "code",
   "execution_count": 129,
   "metadata": {},
   "outputs": [],
   "source": [
    "#Drop target and id column from main data\n",
    "df_drop = df.drop(['Loan_ID', 'Loan_Status'], axis=1)"
   ]
  },
  {
   "cell_type": "code",
   "execution_count": 130,
   "metadata": {},
   "outputs": [
    {
     "data": {
      "text/html": [
       "<div>\n",
       "<style scoped>\n",
       "    .dataframe tbody tr th:only-of-type {\n",
       "        vertical-align: middle;\n",
       "    }\n",
       "\n",
       "    .dataframe tbody tr th {\n",
       "        vertical-align: top;\n",
       "    }\n",
       "\n",
       "    .dataframe thead th {\n",
       "        text-align: right;\n",
       "    }\n",
       "</style>\n",
       "<table border=\"1\" class=\"dataframe\">\n",
       "  <thead>\n",
       "    <tr style=\"text-align: right;\">\n",
       "      <th></th>\n",
       "      <th>Gender</th>\n",
       "      <th>Married</th>\n",
       "      <th>Dependents</th>\n",
       "      <th>Education</th>\n",
       "      <th>Self_Employed</th>\n",
       "      <th>ApplicantIncome</th>\n",
       "      <th>CoapplicantIncome</th>\n",
       "      <th>LoanAmount</th>\n",
       "      <th>Loan_Amount_Term</th>\n",
       "      <th>Credit_History</th>\n",
       "      <th>Property_Area</th>\n",
       "      <th>Profile</th>\n",
       "      <th>Gender_Marriage</th>\n",
       "      <th>LoanAmount_log</th>\n",
       "      <th>CombinedIncome</th>\n",
       "      <th>CombinedIncome_log</th>\n",
       "    </tr>\n",
       "  </thead>\n",
       "  <tbody>\n",
       "    <tr>\n",
       "      <th>0</th>\n",
       "      <td>Male</td>\n",
       "      <td>No</td>\n",
       "      <td>0</td>\n",
       "      <td>Graduate</td>\n",
       "      <td>No</td>\n",
       "      <td>5849</td>\n",
       "      <td>0.0</td>\n",
       "      <td>3812.5</td>\n",
       "      <td>360.0</td>\n",
       "      <td>1.0</td>\n",
       "      <td>Urban</td>\n",
       "      <td>Male, Single, Graduate</td>\n",
       "      <td>Male, No</td>\n",
       "      <td>8.246040</td>\n",
       "      <td>5849.0</td>\n",
       "      <td>8.674026</td>\n",
       "    </tr>\n",
       "    <tr>\n",
       "      <th>1</th>\n",
       "      <td>Male</td>\n",
       "      <td>Yes</td>\n",
       "      <td>1</td>\n",
       "      <td>Graduate</td>\n",
       "      <td>No</td>\n",
       "      <td>4583</td>\n",
       "      <td>1508.0</td>\n",
       "      <td>128.0</td>\n",
       "      <td>360.0</td>\n",
       "      <td>1.0</td>\n",
       "      <td>Rural</td>\n",
       "      <td>Male, Married, Graduate</td>\n",
       "      <td>Male, Yes</td>\n",
       "      <td>4.852030</td>\n",
       "      <td>6091.0</td>\n",
       "      <td>8.714568</td>\n",
       "    </tr>\n",
       "    <tr>\n",
       "      <th>2</th>\n",
       "      <td>Male</td>\n",
       "      <td>Yes</td>\n",
       "      <td>0</td>\n",
       "      <td>Graduate</td>\n",
       "      <td>Yes</td>\n",
       "      <td>3000</td>\n",
       "      <td>0.0</td>\n",
       "      <td>66.0</td>\n",
       "      <td>360.0</td>\n",
       "      <td>1.0</td>\n",
       "      <td>Urban</td>\n",
       "      <td>Male, Married, Graduate</td>\n",
       "      <td>Male, Yes</td>\n",
       "      <td>4.189655</td>\n",
       "      <td>3000.0</td>\n",
       "      <td>8.006368</td>\n",
       "    </tr>\n",
       "    <tr>\n",
       "      <th>3</th>\n",
       "      <td>Male</td>\n",
       "      <td>Yes</td>\n",
       "      <td>0</td>\n",
       "      <td>Not Graduate</td>\n",
       "      <td>No</td>\n",
       "      <td>2583</td>\n",
       "      <td>2358.0</td>\n",
       "      <td>120.0</td>\n",
       "      <td>360.0</td>\n",
       "      <td>1.0</td>\n",
       "      <td>Urban</td>\n",
       "      <td>Male, Married, Not Graduate</td>\n",
       "      <td>Male, Yes</td>\n",
       "      <td>4.787492</td>\n",
       "      <td>4941.0</td>\n",
       "      <td>8.505323</td>\n",
       "    </tr>\n",
       "    <tr>\n",
       "      <th>4</th>\n",
       "      <td>Male</td>\n",
       "      <td>No</td>\n",
       "      <td>0</td>\n",
       "      <td>Graduate</td>\n",
       "      <td>No</td>\n",
       "      <td>6000</td>\n",
       "      <td>0.0</td>\n",
       "      <td>141.0</td>\n",
       "      <td>360.0</td>\n",
       "      <td>1.0</td>\n",
       "      <td>Urban</td>\n",
       "      <td>Male, Single, Graduate</td>\n",
       "      <td>Male, No</td>\n",
       "      <td>4.948760</td>\n",
       "      <td>6000.0</td>\n",
       "      <td>8.699515</td>\n",
       "    </tr>\n",
       "    <tr>\n",
       "      <th>...</th>\n",
       "      <td>...</td>\n",
       "      <td>...</td>\n",
       "      <td>...</td>\n",
       "      <td>...</td>\n",
       "      <td>...</td>\n",
       "      <td>...</td>\n",
       "      <td>...</td>\n",
       "      <td>...</td>\n",
       "      <td>...</td>\n",
       "      <td>...</td>\n",
       "      <td>...</td>\n",
       "      <td>...</td>\n",
       "      <td>...</td>\n",
       "      <td>...</td>\n",
       "      <td>...</td>\n",
       "      <td>...</td>\n",
       "    </tr>\n",
       "    <tr>\n",
       "      <th>609</th>\n",
       "      <td>Female</td>\n",
       "      <td>No</td>\n",
       "      <td>0</td>\n",
       "      <td>Graduate</td>\n",
       "      <td>No</td>\n",
       "      <td>2900</td>\n",
       "      <td>0.0</td>\n",
       "      <td>71.0</td>\n",
       "      <td>360.0</td>\n",
       "      <td>1.0</td>\n",
       "      <td>Rural</td>\n",
       "      <td>Female, Single, Graduate</td>\n",
       "      <td>Female, No</td>\n",
       "      <td>4.262680</td>\n",
       "      <td>2900.0</td>\n",
       "      <td>7.972466</td>\n",
       "    </tr>\n",
       "    <tr>\n",
       "      <th>610</th>\n",
       "      <td>Male</td>\n",
       "      <td>Yes</td>\n",
       "      <td>3+</td>\n",
       "      <td>Graduate</td>\n",
       "      <td>No</td>\n",
       "      <td>4106</td>\n",
       "      <td>0.0</td>\n",
       "      <td>40.0</td>\n",
       "      <td>180.0</td>\n",
       "      <td>1.0</td>\n",
       "      <td>Rural</td>\n",
       "      <td>Male, Married, Graduate</td>\n",
       "      <td>Male, Yes</td>\n",
       "      <td>3.688879</td>\n",
       "      <td>4106.0</td>\n",
       "      <td>8.320205</td>\n",
       "    </tr>\n",
       "    <tr>\n",
       "      <th>611</th>\n",
       "      <td>Male</td>\n",
       "      <td>Yes</td>\n",
       "      <td>1</td>\n",
       "      <td>Graduate</td>\n",
       "      <td>No</td>\n",
       "      <td>8072</td>\n",
       "      <td>240.0</td>\n",
       "      <td>253.0</td>\n",
       "      <td>360.0</td>\n",
       "      <td>1.0</td>\n",
       "      <td>Urban</td>\n",
       "      <td>Male, Married, Graduate</td>\n",
       "      <td>Male, Yes</td>\n",
       "      <td>5.533389</td>\n",
       "      <td>8312.0</td>\n",
       "      <td>9.025456</td>\n",
       "    </tr>\n",
       "    <tr>\n",
       "      <th>612</th>\n",
       "      <td>Male</td>\n",
       "      <td>Yes</td>\n",
       "      <td>2</td>\n",
       "      <td>Graduate</td>\n",
       "      <td>No</td>\n",
       "      <td>7583</td>\n",
       "      <td>0.0</td>\n",
       "      <td>187.0</td>\n",
       "      <td>360.0</td>\n",
       "      <td>1.0</td>\n",
       "      <td>Urban</td>\n",
       "      <td>Male, Married, Graduate</td>\n",
       "      <td>Male, Yes</td>\n",
       "      <td>5.231109</td>\n",
       "      <td>7583.0</td>\n",
       "      <td>8.933664</td>\n",
       "    </tr>\n",
       "    <tr>\n",
       "      <th>613</th>\n",
       "      <td>Female</td>\n",
       "      <td>No</td>\n",
       "      <td>0</td>\n",
       "      <td>Graduate</td>\n",
       "      <td>Yes</td>\n",
       "      <td>4583</td>\n",
       "      <td>0.0</td>\n",
       "      <td>133.0</td>\n",
       "      <td>360.0</td>\n",
       "      <td>0.0</td>\n",
       "      <td>Semiurban</td>\n",
       "      <td>Female, Single, Graduate</td>\n",
       "      <td>Female, No</td>\n",
       "      <td>4.890349</td>\n",
       "      <td>4583.0</td>\n",
       "      <td>8.430109</td>\n",
       "    </tr>\n",
       "  </tbody>\n",
       "</table>\n",
       "<p>614 rows × 16 columns</p>\n",
       "</div>"
      ],
      "text/plain": [
       "     Gender Married Dependents     Education Self_Employed  ApplicantIncome  \\\n",
       "0      Male      No          0      Graduate            No             5849   \n",
       "1      Male     Yes          1      Graduate            No             4583   \n",
       "2      Male     Yes          0      Graduate           Yes             3000   \n",
       "3      Male     Yes          0  Not Graduate            No             2583   \n",
       "4      Male      No          0      Graduate            No             6000   \n",
       "..      ...     ...        ...           ...           ...              ...   \n",
       "609  Female      No          0      Graduate            No             2900   \n",
       "610    Male     Yes         3+      Graduate            No             4106   \n",
       "611    Male     Yes          1      Graduate            No             8072   \n",
       "612    Male     Yes          2      Graduate            No             7583   \n",
       "613  Female      No          0      Graduate           Yes             4583   \n",
       "\n",
       "     CoapplicantIncome  LoanAmount  Loan_Amount_Term  Credit_History  \\\n",
       "0                  0.0      3812.5             360.0             1.0   \n",
       "1               1508.0       128.0             360.0             1.0   \n",
       "2                  0.0        66.0             360.0             1.0   \n",
       "3               2358.0       120.0             360.0             1.0   \n",
       "4                  0.0       141.0             360.0             1.0   \n",
       "..                 ...         ...               ...             ...   \n",
       "609                0.0        71.0             360.0             1.0   \n",
       "610                0.0        40.0             180.0             1.0   \n",
       "611              240.0       253.0             360.0             1.0   \n",
       "612                0.0       187.0             360.0             1.0   \n",
       "613                0.0       133.0             360.0             0.0   \n",
       "\n",
       "    Property_Area                      Profile Gender_Marriage  \\\n",
       "0           Urban       Male, Single, Graduate        Male, No   \n",
       "1           Rural      Male, Married, Graduate       Male, Yes   \n",
       "2           Urban      Male, Married, Graduate       Male, Yes   \n",
       "3           Urban  Male, Married, Not Graduate       Male, Yes   \n",
       "4           Urban       Male, Single, Graduate        Male, No   \n",
       "..            ...                          ...             ...   \n",
       "609         Rural     Female, Single, Graduate      Female, No   \n",
       "610         Rural      Male, Married, Graduate       Male, Yes   \n",
       "611         Urban      Male, Married, Graduate       Male, Yes   \n",
       "612         Urban      Male, Married, Graduate       Male, Yes   \n",
       "613     Semiurban     Female, Single, Graduate      Female, No   \n",
       "\n",
       "     LoanAmount_log  CombinedIncome  CombinedIncome_log  \n",
       "0          8.246040          5849.0            8.674026  \n",
       "1          4.852030          6091.0            8.714568  \n",
       "2          4.189655          3000.0            8.006368  \n",
       "3          4.787492          4941.0            8.505323  \n",
       "4          4.948760          6000.0            8.699515  \n",
       "..              ...             ...                 ...  \n",
       "609        4.262680          2900.0            7.972466  \n",
       "610        3.688879          4106.0            8.320205  \n",
       "611        5.533389          8312.0            9.025456  \n",
       "612        5.231109          7583.0            8.933664  \n",
       "613        4.890349          4583.0            8.430109  \n",
       "\n",
       "[614 rows x 16 columns]"
      ]
     },
     "execution_count": 130,
     "metadata": {},
     "output_type": "execute_result"
    }
   ],
   "source": [
    "df_drop"
   ]
  },
  {
   "cell_type": "code",
   "execution_count": 131,
   "metadata": {},
   "outputs": [],
   "source": [
    "#One hot encode Object dtypes\n",
    "from sklearn.preprocessing import OneHotEncoder\n",
    "ohe = OneHotEncoder(handle_unknown='ignore')"
   ]
  },
  {
   "cell_type": "code",
   "execution_count": 132,
   "metadata": {},
   "outputs": [
    {
     "data": {
      "text/html": [
       "<div>\n",
       "<style scoped>\n",
       "    .dataframe tbody tr th:only-of-type {\n",
       "        vertical-align: middle;\n",
       "    }\n",
       "\n",
       "    .dataframe tbody tr th {\n",
       "        vertical-align: top;\n",
       "    }\n",
       "\n",
       "    .dataframe thead th {\n",
       "        text-align: right;\n",
       "    }\n",
       "</style>\n",
       "<table border=\"1\" class=\"dataframe\">\n",
       "  <thead>\n",
       "    <tr style=\"text-align: right;\">\n",
       "      <th></th>\n",
       "      <th>Gender</th>\n",
       "      <th>Married</th>\n",
       "      <th>Dependents</th>\n",
       "      <th>Education</th>\n",
       "      <th>Self_Employed</th>\n",
       "      <th>Property_Area</th>\n",
       "      <th>Profile</th>\n",
       "      <th>Gender_Marriage</th>\n",
       "    </tr>\n",
       "  </thead>\n",
       "  <tbody>\n",
       "    <tr>\n",
       "      <th>0</th>\n",
       "      <td>Male</td>\n",
       "      <td>No</td>\n",
       "      <td>0</td>\n",
       "      <td>Graduate</td>\n",
       "      <td>No</td>\n",
       "      <td>Urban</td>\n",
       "      <td>Male, Single, Graduate</td>\n",
       "      <td>Male, No</td>\n",
       "    </tr>\n",
       "    <tr>\n",
       "      <th>1</th>\n",
       "      <td>Male</td>\n",
       "      <td>Yes</td>\n",
       "      <td>1</td>\n",
       "      <td>Graduate</td>\n",
       "      <td>No</td>\n",
       "      <td>Rural</td>\n",
       "      <td>Male, Married, Graduate</td>\n",
       "      <td>Male, Yes</td>\n",
       "    </tr>\n",
       "    <tr>\n",
       "      <th>2</th>\n",
       "      <td>Male</td>\n",
       "      <td>Yes</td>\n",
       "      <td>0</td>\n",
       "      <td>Graduate</td>\n",
       "      <td>Yes</td>\n",
       "      <td>Urban</td>\n",
       "      <td>Male, Married, Graduate</td>\n",
       "      <td>Male, Yes</td>\n",
       "    </tr>\n",
       "    <tr>\n",
       "      <th>3</th>\n",
       "      <td>Male</td>\n",
       "      <td>Yes</td>\n",
       "      <td>0</td>\n",
       "      <td>Not Graduate</td>\n",
       "      <td>No</td>\n",
       "      <td>Urban</td>\n",
       "      <td>Male, Married, Not Graduate</td>\n",
       "      <td>Male, Yes</td>\n",
       "    </tr>\n",
       "    <tr>\n",
       "      <th>4</th>\n",
       "      <td>Male</td>\n",
       "      <td>No</td>\n",
       "      <td>0</td>\n",
       "      <td>Graduate</td>\n",
       "      <td>No</td>\n",
       "      <td>Urban</td>\n",
       "      <td>Male, Single, Graduate</td>\n",
       "      <td>Male, No</td>\n",
       "    </tr>\n",
       "  </tbody>\n",
       "</table>\n",
       "</div>"
      ],
      "text/plain": [
       "  Gender Married Dependents     Education Self_Employed Property_Area  \\\n",
       "0   Male      No          0      Graduate            No         Urban   \n",
       "1   Male     Yes          1      Graduate            No         Rural   \n",
       "2   Male     Yes          0      Graduate           Yes         Urban   \n",
       "3   Male     Yes          0  Not Graduate            No         Urban   \n",
       "4   Male      No          0      Graduate            No         Urban   \n",
       "\n",
       "                       Profile Gender_Marriage  \n",
       "0       Male, Single, Graduate        Male, No  \n",
       "1      Male, Married, Graduate       Male, Yes  \n",
       "2      Male, Married, Graduate       Male, Yes  \n",
       "3  Male, Married, Not Graduate       Male, Yes  \n",
       "4       Male, Single, Graduate        Male, No  "
      ]
     },
     "execution_count": 132,
     "metadata": {},
     "output_type": "execute_result"
    }
   ],
   "source": [
    "# Make categorical dataframe\n",
    "cat_df = df_drop.select_dtypes(include=object)\n",
    "cat_df.head()"
   ]
  },
  {
   "cell_type": "code",
   "execution_count": 133,
   "metadata": {},
   "outputs": [
    {
     "data": {
      "text/html": [
       "<div>\n",
       "<style scoped>\n",
       "    .dataframe tbody tr th:only-of-type {\n",
       "        vertical-align: middle;\n",
       "    }\n",
       "\n",
       "    .dataframe tbody tr th {\n",
       "        vertical-align: top;\n",
       "    }\n",
       "\n",
       "    .dataframe thead th {\n",
       "        text-align: right;\n",
       "    }\n",
       "</style>\n",
       "<table border=\"1\" class=\"dataframe\">\n",
       "  <thead>\n",
       "    <tr style=\"text-align: right;\">\n",
       "      <th></th>\n",
       "      <th>ApplicantIncome</th>\n",
       "      <th>CoapplicantIncome</th>\n",
       "      <th>LoanAmount</th>\n",
       "      <th>Loan_Amount_Term</th>\n",
       "      <th>Credit_History</th>\n",
       "      <th>LoanAmount_log</th>\n",
       "      <th>CombinedIncome</th>\n",
       "      <th>CombinedIncome_log</th>\n",
       "    </tr>\n",
       "  </thead>\n",
       "  <tbody>\n",
       "    <tr>\n",
       "      <th>0</th>\n",
       "      <td>5849</td>\n",
       "      <td>0.0</td>\n",
       "      <td>3812.5</td>\n",
       "      <td>360.0</td>\n",
       "      <td>1.0</td>\n",
       "      <td>8.246040</td>\n",
       "      <td>5849.0</td>\n",
       "      <td>8.674026</td>\n",
       "    </tr>\n",
       "    <tr>\n",
       "      <th>1</th>\n",
       "      <td>4583</td>\n",
       "      <td>1508.0</td>\n",
       "      <td>128.0</td>\n",
       "      <td>360.0</td>\n",
       "      <td>1.0</td>\n",
       "      <td>4.852030</td>\n",
       "      <td>6091.0</td>\n",
       "      <td>8.714568</td>\n",
       "    </tr>\n",
       "    <tr>\n",
       "      <th>2</th>\n",
       "      <td>3000</td>\n",
       "      <td>0.0</td>\n",
       "      <td>66.0</td>\n",
       "      <td>360.0</td>\n",
       "      <td>1.0</td>\n",
       "      <td>4.189655</td>\n",
       "      <td>3000.0</td>\n",
       "      <td>8.006368</td>\n",
       "    </tr>\n",
       "    <tr>\n",
       "      <th>3</th>\n",
       "      <td>2583</td>\n",
       "      <td>2358.0</td>\n",
       "      <td>120.0</td>\n",
       "      <td>360.0</td>\n",
       "      <td>1.0</td>\n",
       "      <td>4.787492</td>\n",
       "      <td>4941.0</td>\n",
       "      <td>8.505323</td>\n",
       "    </tr>\n",
       "    <tr>\n",
       "      <th>4</th>\n",
       "      <td>6000</td>\n",
       "      <td>0.0</td>\n",
       "      <td>141.0</td>\n",
       "      <td>360.0</td>\n",
       "      <td>1.0</td>\n",
       "      <td>4.948760</td>\n",
       "      <td>6000.0</td>\n",
       "      <td>8.699515</td>\n",
       "    </tr>\n",
       "  </tbody>\n",
       "</table>\n",
       "</div>"
      ],
      "text/plain": [
       "   ApplicantIncome  CoapplicantIncome  LoanAmount  Loan_Amount_Term  \\\n",
       "0             5849                0.0      3812.5             360.0   \n",
       "1             4583             1508.0       128.0             360.0   \n",
       "2             3000                0.0        66.0             360.0   \n",
       "3             2583             2358.0       120.0             360.0   \n",
       "4             6000                0.0       141.0             360.0   \n",
       "\n",
       "   Credit_History  LoanAmount_log  CombinedIncome  CombinedIncome_log  \n",
       "0             1.0        8.246040          5849.0            8.674026  \n",
       "1             1.0        4.852030          6091.0            8.714568  \n",
       "2             1.0        4.189655          3000.0            8.006368  \n",
       "3             1.0        4.787492          4941.0            8.505323  \n",
       "4             1.0        4.948760          6000.0            8.699515  "
      ]
     },
     "execution_count": 133,
     "metadata": {},
     "output_type": "execute_result"
    }
   ],
   "source": [
    "# Make numerical dataframe\n",
    "num_df = df_drop.select_dtypes(exclude=object)\n",
    "num_df.head()"
   ]
  },
  {
   "cell_type": "code",
   "execution_count": 134,
   "metadata": {},
   "outputs": [],
   "source": [
    "# Make lists of column names\n",
    "num_labels = list(num_df.columns)\n",
    "cat_labels = list(cat_df.columns)"
   ]
  },
  {
   "cell_type": "markdown",
   "metadata": {},
   "source": [
    "MAKE SURE TO DROP ONE OF THE BINARY COLUMNS"
   ]
  },
  {
   "cell_type": "code",
   "execution_count": 135,
   "metadata": {},
   "outputs": [
    {
     "data": {
      "text/html": [
       "<div>\n",
       "<style scoped>\n",
       "    .dataframe tbody tr th:only-of-type {\n",
       "        vertical-align: middle;\n",
       "    }\n",
       "\n",
       "    .dataframe tbody tr th {\n",
       "        vertical-align: top;\n",
       "    }\n",
       "\n",
       "    .dataframe thead th {\n",
       "        text-align: right;\n",
       "    }\n",
       "</style>\n",
       "<table border=\"1\" class=\"dataframe\">\n",
       "  <thead>\n",
       "    <tr style=\"text-align: right;\">\n",
       "      <th></th>\n",
       "      <th>Gender_Male</th>\n",
       "      <th>Married_Yes</th>\n",
       "      <th>Dependents_1</th>\n",
       "      <th>Dependents_2</th>\n",
       "      <th>Dependents_3+</th>\n",
       "      <th>Education_Not Graduate</th>\n",
       "      <th>Self_Employed_Yes</th>\n",
       "      <th>Property_Area_Semiurban</th>\n",
       "      <th>Property_Area_Urban</th>\n",
       "      <th>Profile_Female, Married, Not Graduate</th>\n",
       "      <th>Profile_Female, Single, Graduate</th>\n",
       "      <th>Profile_Female, Single, Not Graduate</th>\n",
       "      <th>Profile_Male, Married, Graduate</th>\n",
       "      <th>Profile_Male, Married, Not Graduate</th>\n",
       "      <th>Profile_Male, Single, Graduate</th>\n",
       "      <th>Profile_Male, Single, Not Graduate</th>\n",
       "      <th>Gender_Marriage_Female, Yes</th>\n",
       "      <th>Gender_Marriage_Male, No</th>\n",
       "      <th>Gender_Marriage_Male, Yes</th>\n",
       "    </tr>\n",
       "  </thead>\n",
       "  <tbody>\n",
       "    <tr>\n",
       "      <th>0</th>\n",
       "      <td>1</td>\n",
       "      <td>0</td>\n",
       "      <td>0</td>\n",
       "      <td>0</td>\n",
       "      <td>0</td>\n",
       "      <td>0</td>\n",
       "      <td>0</td>\n",
       "      <td>0</td>\n",
       "      <td>1</td>\n",
       "      <td>0</td>\n",
       "      <td>0</td>\n",
       "      <td>0</td>\n",
       "      <td>0</td>\n",
       "      <td>0</td>\n",
       "      <td>1</td>\n",
       "      <td>0</td>\n",
       "      <td>0</td>\n",
       "      <td>1</td>\n",
       "      <td>0</td>\n",
       "    </tr>\n",
       "    <tr>\n",
       "      <th>1</th>\n",
       "      <td>1</td>\n",
       "      <td>1</td>\n",
       "      <td>1</td>\n",
       "      <td>0</td>\n",
       "      <td>0</td>\n",
       "      <td>0</td>\n",
       "      <td>0</td>\n",
       "      <td>0</td>\n",
       "      <td>0</td>\n",
       "      <td>0</td>\n",
       "      <td>0</td>\n",
       "      <td>0</td>\n",
       "      <td>1</td>\n",
       "      <td>0</td>\n",
       "      <td>0</td>\n",
       "      <td>0</td>\n",
       "      <td>0</td>\n",
       "      <td>0</td>\n",
       "      <td>1</td>\n",
       "    </tr>\n",
       "    <tr>\n",
       "      <th>2</th>\n",
       "      <td>1</td>\n",
       "      <td>1</td>\n",
       "      <td>0</td>\n",
       "      <td>0</td>\n",
       "      <td>0</td>\n",
       "      <td>0</td>\n",
       "      <td>1</td>\n",
       "      <td>0</td>\n",
       "      <td>1</td>\n",
       "      <td>0</td>\n",
       "      <td>0</td>\n",
       "      <td>0</td>\n",
       "      <td>1</td>\n",
       "      <td>0</td>\n",
       "      <td>0</td>\n",
       "      <td>0</td>\n",
       "      <td>0</td>\n",
       "      <td>0</td>\n",
       "      <td>1</td>\n",
       "    </tr>\n",
       "    <tr>\n",
       "      <th>3</th>\n",
       "      <td>1</td>\n",
       "      <td>1</td>\n",
       "      <td>0</td>\n",
       "      <td>0</td>\n",
       "      <td>0</td>\n",
       "      <td>1</td>\n",
       "      <td>0</td>\n",
       "      <td>0</td>\n",
       "      <td>1</td>\n",
       "      <td>0</td>\n",
       "      <td>0</td>\n",
       "      <td>0</td>\n",
       "      <td>0</td>\n",
       "      <td>1</td>\n",
       "      <td>0</td>\n",
       "      <td>0</td>\n",
       "      <td>0</td>\n",
       "      <td>0</td>\n",
       "      <td>1</td>\n",
       "    </tr>\n",
       "    <tr>\n",
       "      <th>4</th>\n",
       "      <td>1</td>\n",
       "      <td>0</td>\n",
       "      <td>0</td>\n",
       "      <td>0</td>\n",
       "      <td>0</td>\n",
       "      <td>0</td>\n",
       "      <td>0</td>\n",
       "      <td>0</td>\n",
       "      <td>1</td>\n",
       "      <td>0</td>\n",
       "      <td>0</td>\n",
       "      <td>0</td>\n",
       "      <td>0</td>\n",
       "      <td>0</td>\n",
       "      <td>1</td>\n",
       "      <td>0</td>\n",
       "      <td>0</td>\n",
       "      <td>1</td>\n",
       "      <td>0</td>\n",
       "    </tr>\n",
       "  </tbody>\n",
       "</table>\n",
       "</div>"
      ],
      "text/plain": [
       "   Gender_Male  Married_Yes  Dependents_1  Dependents_2  Dependents_3+  \\\n",
       "0            1            0             0             0              0   \n",
       "1            1            1             1             0              0   \n",
       "2            1            1             0             0              0   \n",
       "3            1            1             0             0              0   \n",
       "4            1            0             0             0              0   \n",
       "\n",
       "   Education_Not Graduate  Self_Employed_Yes  Property_Area_Semiurban  \\\n",
       "0                       0                  0                        0   \n",
       "1                       0                  0                        0   \n",
       "2                       0                  1                        0   \n",
       "3                       1                  0                        0   \n",
       "4                       0                  0                        0   \n",
       "\n",
       "   Property_Area_Urban  Profile_Female, Married, Not Graduate  \\\n",
       "0                    1                                      0   \n",
       "1                    0                                      0   \n",
       "2                    1                                      0   \n",
       "3                    1                                      0   \n",
       "4                    1                                      0   \n",
       "\n",
       "   Profile_Female, Single, Graduate  Profile_Female, Single, Not Graduate  \\\n",
       "0                                 0                                     0   \n",
       "1                                 0                                     0   \n",
       "2                                 0                                     0   \n",
       "3                                 0                                     0   \n",
       "4                                 0                                     0   \n",
       "\n",
       "   Profile_Male, Married, Graduate  Profile_Male, Married, Not Graduate  \\\n",
       "0                                0                                    0   \n",
       "1                                1                                    0   \n",
       "2                                1                                    0   \n",
       "3                                0                                    1   \n",
       "4                                0                                    0   \n",
       "\n",
       "   Profile_Male, Single, Graduate  Profile_Male, Single, Not Graduate  \\\n",
       "0                               1                                   0   \n",
       "1                               0                                   0   \n",
       "2                               0                                   0   \n",
       "3                               0                                   0   \n",
       "4                               1                                   0   \n",
       "\n",
       "   Gender_Marriage_Female, Yes  Gender_Marriage_Male, No  \\\n",
       "0                            0                         1   \n",
       "1                            0                         0   \n",
       "2                            0                         0   \n",
       "3                            0                         0   \n",
       "4                            0                         1   \n",
       "\n",
       "   Gender_Marriage_Male, Yes  \n",
       "0                          0  \n",
       "1                          1  \n",
       "2                          1  \n",
       "3                          1  \n",
       "4                          0  "
      ]
     },
     "execution_count": 135,
     "metadata": {},
     "output_type": "execute_result"
    }
   ],
   "source": [
    "# Get dummies for categorical\n",
    "ohe_cat_df = pd.get_dummies(cat_df, columns=cat_labels, drop_first=True)\n",
    "ohe_cat_df.head()"
   ]
  },
  {
   "cell_type": "code",
   "execution_count": 136,
   "metadata": {},
   "outputs": [],
   "source": [
    "#Scale numerical with min/max\n",
    "from sklearn.preprocessing import MinMaxScaler\n",
    "mx = MinMaxScaler()"
   ]
  },
  {
   "cell_type": "markdown",
   "metadata": {},
   "source": [
    "^ This is normally used for data that requires or has regularization."
   ]
  },
  {
   "cell_type": "code",
   "execution_count": 137,
   "metadata": {},
   "outputs": [
    {
     "data": {
      "text/html": [
       "<div>\n",
       "<style scoped>\n",
       "    .dataframe tbody tr th:only-of-type {\n",
       "        vertical-align: middle;\n",
       "    }\n",
       "\n",
       "    .dataframe tbody tr th {\n",
       "        vertical-align: top;\n",
       "    }\n",
       "\n",
       "    .dataframe thead th {\n",
       "        text-align: right;\n",
       "    }\n",
       "</style>\n",
       "<table border=\"1\" class=\"dataframe\">\n",
       "  <thead>\n",
       "    <tr style=\"text-align: right;\">\n",
       "      <th></th>\n",
       "      <th>ApplicantIncome</th>\n",
       "      <th>CoapplicantIncome</th>\n",
       "      <th>LoanAmount</th>\n",
       "      <th>Loan_Amount_Term</th>\n",
       "      <th>Credit_History</th>\n",
       "      <th>LoanAmount_log</th>\n",
       "      <th>CombinedIncome</th>\n",
       "      <th>CombinedIncome_log</th>\n",
       "    </tr>\n",
       "  </thead>\n",
       "  <tbody>\n",
       "    <tr>\n",
       "      <th>0</th>\n",
       "      <td>0.070489</td>\n",
       "      <td>0.000000</td>\n",
       "      <td>1.000000</td>\n",
       "      <td>0.091567</td>\n",
       "      <td>0.000262</td>\n",
       "      <td>1.000000</td>\n",
       "      <td>0.055394</td>\n",
       "      <td>0.347590</td>\n",
       "    </tr>\n",
       "    <tr>\n",
       "      <th>1</th>\n",
       "      <td>0.054830</td>\n",
       "      <td>0.036192</td>\n",
       "      <td>0.031287</td>\n",
       "      <td>0.091567</td>\n",
       "      <td>0.000262</td>\n",
       "      <td>0.438897</td>\n",
       "      <td>0.058435</td>\n",
       "      <td>0.357654</td>\n",
       "    </tr>\n",
       "    <tr>\n",
       "      <th>2</th>\n",
       "      <td>0.035250</td>\n",
       "      <td>0.000000</td>\n",
       "      <td>0.014986</td>\n",
       "      <td>0.091567</td>\n",
       "      <td>0.000262</td>\n",
       "      <td>0.329392</td>\n",
       "      <td>0.019583</td>\n",
       "      <td>0.181853</td>\n",
       "    </tr>\n",
       "    <tr>\n",
       "      <th>3</th>\n",
       "      <td>0.030093</td>\n",
       "      <td>0.056592</td>\n",
       "      <td>0.029184</td>\n",
       "      <td>0.091567</td>\n",
       "      <td>0.000262</td>\n",
       "      <td>0.428227</td>\n",
       "      <td>0.043980</td>\n",
       "      <td>0.305712</td>\n",
       "    </tr>\n",
       "    <tr>\n",
       "      <th>4</th>\n",
       "      <td>0.072356</td>\n",
       "      <td>0.000000</td>\n",
       "      <td>0.034705</td>\n",
       "      <td>0.091567</td>\n",
       "      <td>0.000262</td>\n",
       "      <td>0.454888</td>\n",
       "      <td>0.057292</td>\n",
       "      <td>0.353918</td>\n",
       "    </tr>\n",
       "    <tr>\n",
       "      <th>...</th>\n",
       "      <td>...</td>\n",
       "      <td>...</td>\n",
       "      <td>...</td>\n",
       "      <td>...</td>\n",
       "      <td>...</td>\n",
       "      <td>...</td>\n",
       "      <td>...</td>\n",
       "      <td>...</td>\n",
       "    </tr>\n",
       "    <tr>\n",
       "      <th>609</th>\n",
       "      <td>0.034014</td>\n",
       "      <td>0.000000</td>\n",
       "      <td>0.016301</td>\n",
       "      <td>0.091567</td>\n",
       "      <td>0.000262</td>\n",
       "      <td>0.341464</td>\n",
       "      <td>0.018326</td>\n",
       "      <td>0.173438</td>\n",
       "    </tr>\n",
       "    <tr>\n",
       "      <th>610</th>\n",
       "      <td>0.048930</td>\n",
       "      <td>0.000000</td>\n",
       "      <td>0.008150</td>\n",
       "      <td>0.044205</td>\n",
       "      <td>0.000262</td>\n",
       "      <td>0.246603</td>\n",
       "      <td>0.033485</td>\n",
       "      <td>0.259759</td>\n",
       "    </tr>\n",
       "    <tr>\n",
       "      <th>611</th>\n",
       "      <td>0.097984</td>\n",
       "      <td>0.005760</td>\n",
       "      <td>0.064151</td>\n",
       "      <td>0.091567</td>\n",
       "      <td>0.000262</td>\n",
       "      <td>0.551540</td>\n",
       "      <td>0.086352</td>\n",
       "      <td>0.434828</td>\n",
       "    </tr>\n",
       "    <tr>\n",
       "      <th>612</th>\n",
       "      <td>0.091936</td>\n",
       "      <td>0.000000</td>\n",
       "      <td>0.046799</td>\n",
       "      <td>0.091567</td>\n",
       "      <td>0.000262</td>\n",
       "      <td>0.501567</td>\n",
       "      <td>0.077189</td>\n",
       "      <td>0.412042</td>\n",
       "    </tr>\n",
       "    <tr>\n",
       "      <th>613</th>\n",
       "      <td>0.054830</td>\n",
       "      <td>0.000000</td>\n",
       "      <td>0.032602</td>\n",
       "      <td>0.091567</td>\n",
       "      <td>0.000000</td>\n",
       "      <td>0.445232</td>\n",
       "      <td>0.039481</td>\n",
       "      <td>0.287041</td>\n",
       "    </tr>\n",
       "  </tbody>\n",
       "</table>\n",
       "<p>614 rows × 8 columns</p>\n",
       "</div>"
      ],
      "text/plain": [
       "     ApplicantIncome  CoapplicantIncome  LoanAmount  Loan_Amount_Term  \\\n",
       "0           0.070489           0.000000    1.000000          0.091567   \n",
       "1           0.054830           0.036192    0.031287          0.091567   \n",
       "2           0.035250           0.000000    0.014986          0.091567   \n",
       "3           0.030093           0.056592    0.029184          0.091567   \n",
       "4           0.072356           0.000000    0.034705          0.091567   \n",
       "..               ...                ...         ...               ...   \n",
       "609         0.034014           0.000000    0.016301          0.091567   \n",
       "610         0.048930           0.000000    0.008150          0.044205   \n",
       "611         0.097984           0.005760    0.064151          0.091567   \n",
       "612         0.091936           0.000000    0.046799          0.091567   \n",
       "613         0.054830           0.000000    0.032602          0.091567   \n",
       "\n",
       "     Credit_History  LoanAmount_log  CombinedIncome  CombinedIncome_log  \n",
       "0          0.000262        1.000000        0.055394            0.347590  \n",
       "1          0.000262        0.438897        0.058435            0.357654  \n",
       "2          0.000262        0.329392        0.019583            0.181853  \n",
       "3          0.000262        0.428227        0.043980            0.305712  \n",
       "4          0.000262        0.454888        0.057292            0.353918  \n",
       "..              ...             ...             ...                 ...  \n",
       "609        0.000262        0.341464        0.018326            0.173438  \n",
       "610        0.000262        0.246603        0.033485            0.259759  \n",
       "611        0.000262        0.551540        0.086352            0.434828  \n",
       "612        0.000262        0.501567        0.077189            0.412042  \n",
       "613        0.000000        0.445232        0.039481            0.287041  \n",
       "\n",
       "[614 rows x 8 columns]"
      ]
     },
     "execution_count": 137,
     "metadata": {},
     "output_type": "execute_result"
    }
   ],
   "source": [
    "num_df = mx.fit_transform(num_df)\n",
    "num_scaled_df = pd.DataFrame(num_df, columns=num_labels)\n",
    "num_scaled_df"
   ]
  },
  {
   "cell_type": "code",
   "execution_count": 138,
   "metadata": {
    "tags": []
   },
   "outputs": [
    {
     "data": {
      "text/html": [
       "<div>\n",
       "<style scoped>\n",
       "    .dataframe tbody tr th:only-of-type {\n",
       "        vertical-align: middle;\n",
       "    }\n",
       "\n",
       "    .dataframe tbody tr th {\n",
       "        vertical-align: top;\n",
       "    }\n",
       "\n",
       "    .dataframe thead th {\n",
       "        text-align: right;\n",
       "    }\n",
       "</style>\n",
       "<table border=\"1\" class=\"dataframe\">\n",
       "  <thead>\n",
       "    <tr style=\"text-align: right;\">\n",
       "      <th></th>\n",
       "      <th>Gender_Male</th>\n",
       "      <th>Married_Yes</th>\n",
       "      <th>Dependents_1</th>\n",
       "      <th>Dependents_2</th>\n",
       "      <th>Dependents_3+</th>\n",
       "      <th>Education_Not Graduate</th>\n",
       "      <th>Self_Employed_Yes</th>\n",
       "      <th>Property_Area_Semiurban</th>\n",
       "      <th>Property_Area_Urban</th>\n",
       "      <th>Profile_Female, Married, Not Graduate</th>\n",
       "      <th>...</th>\n",
       "      <th>Gender_Marriage_Male, No</th>\n",
       "      <th>Gender_Marriage_Male, Yes</th>\n",
       "      <th>ApplicantIncome</th>\n",
       "      <th>CoapplicantIncome</th>\n",
       "      <th>LoanAmount</th>\n",
       "      <th>Loan_Amount_Term</th>\n",
       "      <th>Credit_History</th>\n",
       "      <th>LoanAmount_log</th>\n",
       "      <th>CombinedIncome</th>\n",
       "      <th>CombinedIncome_log</th>\n",
       "    </tr>\n",
       "  </thead>\n",
       "  <tbody>\n",
       "    <tr>\n",
       "      <th>609</th>\n",
       "      <td>0</td>\n",
       "      <td>0</td>\n",
       "      <td>0</td>\n",
       "      <td>0</td>\n",
       "      <td>0</td>\n",
       "      <td>0</td>\n",
       "      <td>0</td>\n",
       "      <td>0</td>\n",
       "      <td>0</td>\n",
       "      <td>0</td>\n",
       "      <td>...</td>\n",
       "      <td>0</td>\n",
       "      <td>0</td>\n",
       "      <td>0.034014</td>\n",
       "      <td>0.00000</td>\n",
       "      <td>0.016301</td>\n",
       "      <td>0.091567</td>\n",
       "      <td>0.000262</td>\n",
       "      <td>0.341464</td>\n",
       "      <td>0.018326</td>\n",
       "      <td>0.173438</td>\n",
       "    </tr>\n",
       "    <tr>\n",
       "      <th>610</th>\n",
       "      <td>1</td>\n",
       "      <td>1</td>\n",
       "      <td>0</td>\n",
       "      <td>0</td>\n",
       "      <td>1</td>\n",
       "      <td>0</td>\n",
       "      <td>0</td>\n",
       "      <td>0</td>\n",
       "      <td>0</td>\n",
       "      <td>0</td>\n",
       "      <td>...</td>\n",
       "      <td>0</td>\n",
       "      <td>1</td>\n",
       "      <td>0.048930</td>\n",
       "      <td>0.00000</td>\n",
       "      <td>0.008150</td>\n",
       "      <td>0.044205</td>\n",
       "      <td>0.000262</td>\n",
       "      <td>0.246603</td>\n",
       "      <td>0.033485</td>\n",
       "      <td>0.259759</td>\n",
       "    </tr>\n",
       "    <tr>\n",
       "      <th>611</th>\n",
       "      <td>1</td>\n",
       "      <td>1</td>\n",
       "      <td>1</td>\n",
       "      <td>0</td>\n",
       "      <td>0</td>\n",
       "      <td>0</td>\n",
       "      <td>0</td>\n",
       "      <td>0</td>\n",
       "      <td>1</td>\n",
       "      <td>0</td>\n",
       "      <td>...</td>\n",
       "      <td>0</td>\n",
       "      <td>1</td>\n",
       "      <td>0.097984</td>\n",
       "      <td>0.00576</td>\n",
       "      <td>0.064151</td>\n",
       "      <td>0.091567</td>\n",
       "      <td>0.000262</td>\n",
       "      <td>0.551540</td>\n",
       "      <td>0.086352</td>\n",
       "      <td>0.434828</td>\n",
       "    </tr>\n",
       "    <tr>\n",
       "      <th>612</th>\n",
       "      <td>1</td>\n",
       "      <td>1</td>\n",
       "      <td>0</td>\n",
       "      <td>1</td>\n",
       "      <td>0</td>\n",
       "      <td>0</td>\n",
       "      <td>0</td>\n",
       "      <td>0</td>\n",
       "      <td>1</td>\n",
       "      <td>0</td>\n",
       "      <td>...</td>\n",
       "      <td>0</td>\n",
       "      <td>1</td>\n",
       "      <td>0.091936</td>\n",
       "      <td>0.00000</td>\n",
       "      <td>0.046799</td>\n",
       "      <td>0.091567</td>\n",
       "      <td>0.000262</td>\n",
       "      <td>0.501567</td>\n",
       "      <td>0.077189</td>\n",
       "      <td>0.412042</td>\n",
       "    </tr>\n",
       "    <tr>\n",
       "      <th>613</th>\n",
       "      <td>0</td>\n",
       "      <td>0</td>\n",
       "      <td>0</td>\n",
       "      <td>0</td>\n",
       "      <td>0</td>\n",
       "      <td>0</td>\n",
       "      <td>1</td>\n",
       "      <td>1</td>\n",
       "      <td>0</td>\n",
       "      <td>0</td>\n",
       "      <td>...</td>\n",
       "      <td>0</td>\n",
       "      <td>0</td>\n",
       "      <td>0.054830</td>\n",
       "      <td>0.00000</td>\n",
       "      <td>0.032602</td>\n",
       "      <td>0.091567</td>\n",
       "      <td>0.000000</td>\n",
       "      <td>0.445232</td>\n",
       "      <td>0.039481</td>\n",
       "      <td>0.287041</td>\n",
       "    </tr>\n",
       "  </tbody>\n",
       "</table>\n",
       "<p>5 rows × 27 columns</p>\n",
       "</div>"
      ],
      "text/plain": [
       "     Gender_Male  Married_Yes  Dependents_1  Dependents_2  Dependents_3+  \\\n",
       "609            0            0             0             0              0   \n",
       "610            1            1             0             0              1   \n",
       "611            1            1             1             0              0   \n",
       "612            1            1             0             1              0   \n",
       "613            0            0             0             0              0   \n",
       "\n",
       "     Education_Not Graduate  Self_Employed_Yes  Property_Area_Semiurban  \\\n",
       "609                       0                  0                        0   \n",
       "610                       0                  0                        0   \n",
       "611                       0                  0                        0   \n",
       "612                       0                  0                        0   \n",
       "613                       0                  1                        1   \n",
       "\n",
       "     Property_Area_Urban  Profile_Female, Married, Not Graduate  ...  \\\n",
       "609                    0                                      0  ...   \n",
       "610                    0                                      0  ...   \n",
       "611                    1                                      0  ...   \n",
       "612                    1                                      0  ...   \n",
       "613                    0                                      0  ...   \n",
       "\n",
       "     Gender_Marriage_Male, No  Gender_Marriage_Male, Yes  ApplicantIncome  \\\n",
       "609                         0                          0         0.034014   \n",
       "610                         0                          1         0.048930   \n",
       "611                         0                          1         0.097984   \n",
       "612                         0                          1         0.091936   \n",
       "613                         0                          0         0.054830   \n",
       "\n",
       "     CoapplicantIncome  LoanAmount  Loan_Amount_Term  Credit_History  \\\n",
       "609            0.00000    0.016301          0.091567        0.000262   \n",
       "610            0.00000    0.008150          0.044205        0.000262   \n",
       "611            0.00576    0.064151          0.091567        0.000262   \n",
       "612            0.00000    0.046799          0.091567        0.000262   \n",
       "613            0.00000    0.032602          0.091567        0.000000   \n",
       "\n",
       "     LoanAmount_log  CombinedIncome  CombinedIncome_log  \n",
       "609        0.341464        0.018326            0.173438  \n",
       "610        0.246603        0.033485            0.259759  \n",
       "611        0.551540        0.086352            0.434828  \n",
       "612        0.501567        0.077189            0.412042  \n",
       "613        0.445232        0.039481            0.287041  \n",
       "\n",
       "[5 rows x 27 columns]"
      ]
     },
     "execution_count": 138,
     "metadata": {},
     "output_type": "execute_result"
    }
   ],
   "source": [
    "#Concatenate the dummy df to the scaled num df, define as X\n",
    "X = pd.concat([ohe_cat_df, num_scaled_df], axis=1)\n",
    "X.tail()"
   ]
  },
  {
   "cell_type": "markdown",
   "metadata": {
    "tags": []
   },
   "source": [
    "## 4. Building a Predictive Model"
   ]
  },
  {
   "cell_type": "code",
   "execution_count": 139,
   "metadata": {},
   "outputs": [],
   "source": [
    "from sklearn.ensemble import RandomForestClassifier\n",
    "from sklearn.model_selection import train_test_split\n",
    "from sklearn import metrics"
   ]
  },
  {
   "cell_type": "code",
   "execution_count": 140,
   "metadata": {},
   "outputs": [],
   "source": [
    "RFC = RandomForestClassifier()"
   ]
  },
  {
   "cell_type": "code",
   "execution_count": 141,
   "metadata": {},
   "outputs": [],
   "source": [
    "X_train,X_test,y_train,y_test = train_test_split(X,y,test_size=0.22)"
   ]
  },
  {
   "cell_type": "code",
   "execution_count": 142,
   "metadata": {
    "collapsed": false,
    "jupyter": {
     "outputs_hidden": false
    }
   },
   "outputs": [
    {
     "data": {
      "text/html": [
       "<style>#sk-container-id-1 {color: black;background-color: white;}#sk-container-id-1 pre{padding: 0;}#sk-container-id-1 div.sk-toggleable {background-color: white;}#sk-container-id-1 label.sk-toggleable__label {cursor: pointer;display: block;width: 100%;margin-bottom: 0;padding: 0.3em;box-sizing: border-box;text-align: center;}#sk-container-id-1 label.sk-toggleable__label-arrow:before {content: \"▸\";float: left;margin-right: 0.25em;color: #696969;}#sk-container-id-1 label.sk-toggleable__label-arrow:hover:before {color: black;}#sk-container-id-1 div.sk-estimator:hover label.sk-toggleable__label-arrow:before {color: black;}#sk-container-id-1 div.sk-toggleable__content {max-height: 0;max-width: 0;overflow: hidden;text-align: left;background-color: #f0f8ff;}#sk-container-id-1 div.sk-toggleable__content pre {margin: 0.2em;color: black;border-radius: 0.25em;background-color: #f0f8ff;}#sk-container-id-1 input.sk-toggleable__control:checked~div.sk-toggleable__content {max-height: 200px;max-width: 100%;overflow: auto;}#sk-container-id-1 input.sk-toggleable__control:checked~label.sk-toggleable__label-arrow:before {content: \"▾\";}#sk-container-id-1 div.sk-estimator input.sk-toggleable__control:checked~label.sk-toggleable__label {background-color: #d4ebff;}#sk-container-id-1 div.sk-label input.sk-toggleable__control:checked~label.sk-toggleable__label {background-color: #d4ebff;}#sk-container-id-1 input.sk-hidden--visually {border: 0;clip: rect(1px 1px 1px 1px);clip: rect(1px, 1px, 1px, 1px);height: 1px;margin: -1px;overflow: hidden;padding: 0;position: absolute;width: 1px;}#sk-container-id-1 div.sk-estimator {font-family: monospace;background-color: #f0f8ff;border: 1px dotted black;border-radius: 0.25em;box-sizing: border-box;margin-bottom: 0.5em;}#sk-container-id-1 div.sk-estimator:hover {background-color: #d4ebff;}#sk-container-id-1 div.sk-parallel-item::after {content: \"\";width: 100%;border-bottom: 1px solid gray;flex-grow: 1;}#sk-container-id-1 div.sk-label:hover label.sk-toggleable__label {background-color: #d4ebff;}#sk-container-id-1 div.sk-serial::before {content: \"\";position: absolute;border-left: 1px solid gray;box-sizing: border-box;top: 0;bottom: 0;left: 50%;z-index: 0;}#sk-container-id-1 div.sk-serial {display: flex;flex-direction: column;align-items: center;background-color: white;padding-right: 0.2em;padding-left: 0.2em;position: relative;}#sk-container-id-1 div.sk-item {position: relative;z-index: 1;}#sk-container-id-1 div.sk-parallel {display: flex;align-items: stretch;justify-content: center;background-color: white;position: relative;}#sk-container-id-1 div.sk-item::before, #sk-container-id-1 div.sk-parallel-item::before {content: \"\";position: absolute;border-left: 1px solid gray;box-sizing: border-box;top: 0;bottom: 0;left: 50%;z-index: -1;}#sk-container-id-1 div.sk-parallel-item {display: flex;flex-direction: column;z-index: 1;position: relative;background-color: white;}#sk-container-id-1 div.sk-parallel-item:first-child::after {align-self: flex-end;width: 50%;}#sk-container-id-1 div.sk-parallel-item:last-child::after {align-self: flex-start;width: 50%;}#sk-container-id-1 div.sk-parallel-item:only-child::after {width: 0;}#sk-container-id-1 div.sk-dashed-wrapped {border: 1px dashed gray;margin: 0 0.4em 0.5em 0.4em;box-sizing: border-box;padding-bottom: 0.4em;background-color: white;}#sk-container-id-1 div.sk-label label {font-family: monospace;font-weight: bold;display: inline-block;line-height: 1.2em;}#sk-container-id-1 div.sk-label-container {text-align: center;}#sk-container-id-1 div.sk-container {/* jupyter's `normalize.less` sets `[hidden] { display: none; }` but bootstrap.min.css set `[hidden] { display: none !important; }` so we also need the `!important` here to be able to override the default hidden behavior on the sphinx rendered scikit-learn.org. See: https://github.com/scikit-learn/scikit-learn/issues/21755 */display: inline-block !important;position: relative;}#sk-container-id-1 div.sk-text-repr-fallback {display: none;}</style><div id=\"sk-container-id-1\" class=\"sk-top-container\"><div class=\"sk-text-repr-fallback\"><pre>RandomForestClassifier()</pre><b>In a Jupyter environment, please rerun this cell to show the HTML representation or trust the notebook. <br />On GitHub, the HTML representation is unable to render, please try loading this page with nbviewer.org.</b></div><div class=\"sk-container\" hidden><div class=\"sk-item\"><div class=\"sk-estimator sk-toggleable\"><input class=\"sk-toggleable__control sk-hidden--visually\" id=\"sk-estimator-id-1\" type=\"checkbox\" checked><label for=\"sk-estimator-id-1\" class=\"sk-toggleable__label sk-toggleable__label-arrow\">RandomForestClassifier</label><div class=\"sk-toggleable__content\"><pre>RandomForestClassifier()</pre></div></div></div></div></div>"
      ],
      "text/plain": [
       "RandomForestClassifier()"
      ]
     },
     "execution_count": 142,
     "metadata": {},
     "output_type": "execute_result"
    }
   ],
   "source": [
    "RFC.fit(X_train, y_train)"
   ]
  },
  {
   "cell_type": "code",
   "execution_count": 143,
   "metadata": {},
   "outputs": [
    {
     "data": {
      "text/plain": [
       "array([1, 1, 1, 1, 0, 0, 1, 1, 1, 1, 1, 1, 0, 1, 0, 1, 1, 1, 1, 0, 1, 0,\n",
       "       1, 0, 0, 0, 1, 1, 1, 1, 1, 1, 0, 0, 0, 1, 1, 1, 1, 0, 1, 1, 1, 1,\n",
       "       1, 1, 1, 0, 1, 0, 1, 1, 1, 0, 0, 1, 1, 1, 1, 0, 1, 0, 1, 0, 1, 1,\n",
       "       1, 0, 1, 1, 1, 1, 1, 1, 1, 0, 1, 1, 0, 0, 1, 1, 1, 0, 1, 1, 1, 1,\n",
       "       1, 1, 1, 1, 1, 1, 1, 1, 1, 1, 0, 1, 1, 1, 1, 1, 0, 1, 1, 1, 1, 1,\n",
       "       1, 1, 0, 1, 0, 1, 0, 1, 0, 1, 1, 0, 1, 0, 1, 1, 0, 0, 1, 1, 1, 0,\n",
       "       0, 1, 1, 1])"
      ]
     },
     "execution_count": 143,
     "metadata": {},
     "output_type": "execute_result"
    }
   ],
   "source": [
    "y_pred = RFC.predict(X_test)\n",
    "y_pred"
   ]
  },
  {
   "cell_type": "code",
   "execution_count": 144,
   "metadata": {},
   "outputs": [
    {
     "name": "stdout",
     "output_type": "stream",
     "text": [
      "The accuracy score:\n",
      "\n",
      "0.7647058823529411 \n",
      "\n",
      "The f1 score:\n",
      "\n",
      "0.8350515463917525 \n",
      "\n",
      "The precision score:\n",
      "\n",
      "0.8181818181818182 \n",
      "\n",
      "The recall score:\n",
      "\n",
      "0.8526315789473684 \n",
      "\n"
     ]
    }
   ],
   "source": [
    "print(\"The accuracy score:\\n\")\n",
    "print(metrics.accuracy_score(y_test, y_pred), '\\n')\n",
    "print(\"The f1 score:\\n\")\n",
    "print(metrics.f1_score(y_test, y_pred),'\\n')\n",
    "print(\"The precision score:\\n\")\n",
    "print(metrics.precision_score(y_test, y_pred),'\\n')\n",
    "print(\"The recall score:\\n\")\n",
    "print(metrics.recall_score(y_test, y_pred),'\\n')"
   ]
  },
  {
   "cell_type": "markdown",
   "metadata": {},
   "source": [
    "Try paramater grid search to improve the results"
   ]
  },
  {
   "cell_type": "code",
   "execution_count": 145,
   "metadata": {
    "collapsed": false,
    "jupyter": {
     "outputs_hidden": false
    }
   },
   "outputs": [],
   "source": [
    "from sklearn.model_selection import GridSearchCV"
   ]
  },
  {
   "cell_type": "code",
   "execution_count": 146,
   "metadata": {},
   "outputs": [],
   "source": [
    "# Parameter dictionary\n",
    "params = {\"n_estimators\" : np.arange(100,2000,200),\n",
    "          \"max_depth\" : np.arange(1,15,2),\n",
    "          \"min_samples_split\" : np.arange(2,10,2)\n",
    "         }"
   ]
  },
  {
   "cell_type": "code",
   "execution_count": 147,
   "metadata": {
    "collapsed": false,
    "jupyter": {
     "outputs_hidden": false
    }
   },
   "outputs": [],
   "source": [
    "GSCV = GridSearchCV(estimator=RFC, param_grid=params, n_jobs=-1)"
   ]
  },
  {
   "cell_type": "code",
   "execution_count": 148,
   "metadata": {},
   "outputs": [
    {
     "data": {
      "text/html": [
       "<style>#sk-container-id-2 {color: black;background-color: white;}#sk-container-id-2 pre{padding: 0;}#sk-container-id-2 div.sk-toggleable {background-color: white;}#sk-container-id-2 label.sk-toggleable__label {cursor: pointer;display: block;width: 100%;margin-bottom: 0;padding: 0.3em;box-sizing: border-box;text-align: center;}#sk-container-id-2 label.sk-toggleable__label-arrow:before {content: \"▸\";float: left;margin-right: 0.25em;color: #696969;}#sk-container-id-2 label.sk-toggleable__label-arrow:hover:before {color: black;}#sk-container-id-2 div.sk-estimator:hover label.sk-toggleable__label-arrow:before {color: black;}#sk-container-id-2 div.sk-toggleable__content {max-height: 0;max-width: 0;overflow: hidden;text-align: left;background-color: #f0f8ff;}#sk-container-id-2 div.sk-toggleable__content pre {margin: 0.2em;color: black;border-radius: 0.25em;background-color: #f0f8ff;}#sk-container-id-2 input.sk-toggleable__control:checked~div.sk-toggleable__content {max-height: 200px;max-width: 100%;overflow: auto;}#sk-container-id-2 input.sk-toggleable__control:checked~label.sk-toggleable__label-arrow:before {content: \"▾\";}#sk-container-id-2 div.sk-estimator input.sk-toggleable__control:checked~label.sk-toggleable__label {background-color: #d4ebff;}#sk-container-id-2 div.sk-label input.sk-toggleable__control:checked~label.sk-toggleable__label {background-color: #d4ebff;}#sk-container-id-2 input.sk-hidden--visually {border: 0;clip: rect(1px 1px 1px 1px);clip: rect(1px, 1px, 1px, 1px);height: 1px;margin: -1px;overflow: hidden;padding: 0;position: absolute;width: 1px;}#sk-container-id-2 div.sk-estimator {font-family: monospace;background-color: #f0f8ff;border: 1px dotted black;border-radius: 0.25em;box-sizing: border-box;margin-bottom: 0.5em;}#sk-container-id-2 div.sk-estimator:hover {background-color: #d4ebff;}#sk-container-id-2 div.sk-parallel-item::after {content: \"\";width: 100%;border-bottom: 1px solid gray;flex-grow: 1;}#sk-container-id-2 div.sk-label:hover label.sk-toggleable__label {background-color: #d4ebff;}#sk-container-id-2 div.sk-serial::before {content: \"\";position: absolute;border-left: 1px solid gray;box-sizing: border-box;top: 0;bottom: 0;left: 50%;z-index: 0;}#sk-container-id-2 div.sk-serial {display: flex;flex-direction: column;align-items: center;background-color: white;padding-right: 0.2em;padding-left: 0.2em;position: relative;}#sk-container-id-2 div.sk-item {position: relative;z-index: 1;}#sk-container-id-2 div.sk-parallel {display: flex;align-items: stretch;justify-content: center;background-color: white;position: relative;}#sk-container-id-2 div.sk-item::before, #sk-container-id-2 div.sk-parallel-item::before {content: \"\";position: absolute;border-left: 1px solid gray;box-sizing: border-box;top: 0;bottom: 0;left: 50%;z-index: -1;}#sk-container-id-2 div.sk-parallel-item {display: flex;flex-direction: column;z-index: 1;position: relative;background-color: white;}#sk-container-id-2 div.sk-parallel-item:first-child::after {align-self: flex-end;width: 50%;}#sk-container-id-2 div.sk-parallel-item:last-child::after {align-self: flex-start;width: 50%;}#sk-container-id-2 div.sk-parallel-item:only-child::after {width: 0;}#sk-container-id-2 div.sk-dashed-wrapped {border: 1px dashed gray;margin: 0 0.4em 0.5em 0.4em;box-sizing: border-box;padding-bottom: 0.4em;background-color: white;}#sk-container-id-2 div.sk-label label {font-family: monospace;font-weight: bold;display: inline-block;line-height: 1.2em;}#sk-container-id-2 div.sk-label-container {text-align: center;}#sk-container-id-2 div.sk-container {/* jupyter's `normalize.less` sets `[hidden] { display: none; }` but bootstrap.min.css set `[hidden] { display: none !important; }` so we also need the `!important` here to be able to override the default hidden behavior on the sphinx rendered scikit-learn.org. See: https://github.com/scikit-learn/scikit-learn/issues/21755 */display: inline-block !important;position: relative;}#sk-container-id-2 div.sk-text-repr-fallback {display: none;}</style><div id=\"sk-container-id-2\" class=\"sk-top-container\"><div class=\"sk-text-repr-fallback\"><pre>GridSearchCV(estimator=RandomForestClassifier(), n_jobs=-1,\n",
       "             param_grid={&#x27;max_depth&#x27;: array([ 1,  3,  5,  7,  9, 11, 13]),\n",
       "                         &#x27;min_samples_split&#x27;: array([2, 4, 6, 8]),\n",
       "                         &#x27;n_estimators&#x27;: array([ 100,  300,  500,  700,  900, 1100, 1300, 1500, 1700, 1900])})</pre><b>In a Jupyter environment, please rerun this cell to show the HTML representation or trust the notebook. <br />On GitHub, the HTML representation is unable to render, please try loading this page with nbviewer.org.</b></div><div class=\"sk-container\" hidden><div class=\"sk-item sk-dashed-wrapped\"><div class=\"sk-label-container\"><div class=\"sk-label sk-toggleable\"><input class=\"sk-toggleable__control sk-hidden--visually\" id=\"sk-estimator-id-2\" type=\"checkbox\" ><label for=\"sk-estimator-id-2\" class=\"sk-toggleable__label sk-toggleable__label-arrow\">GridSearchCV</label><div class=\"sk-toggleable__content\"><pre>GridSearchCV(estimator=RandomForestClassifier(), n_jobs=-1,\n",
       "             param_grid={&#x27;max_depth&#x27;: array([ 1,  3,  5,  7,  9, 11, 13]),\n",
       "                         &#x27;min_samples_split&#x27;: array([2, 4, 6, 8]),\n",
       "                         &#x27;n_estimators&#x27;: array([ 100,  300,  500,  700,  900, 1100, 1300, 1500, 1700, 1900])})</pre></div></div></div><div class=\"sk-parallel\"><div class=\"sk-parallel-item\"><div class=\"sk-item\"><div class=\"sk-label-container\"><div class=\"sk-label sk-toggleable\"><input class=\"sk-toggleable__control sk-hidden--visually\" id=\"sk-estimator-id-3\" type=\"checkbox\" ><label for=\"sk-estimator-id-3\" class=\"sk-toggleable__label sk-toggleable__label-arrow\">estimator: RandomForestClassifier</label><div class=\"sk-toggleable__content\"><pre>RandomForestClassifier()</pre></div></div></div><div class=\"sk-serial\"><div class=\"sk-item\"><div class=\"sk-estimator sk-toggleable\"><input class=\"sk-toggleable__control sk-hidden--visually\" id=\"sk-estimator-id-4\" type=\"checkbox\" ><label for=\"sk-estimator-id-4\" class=\"sk-toggleable__label sk-toggleable__label-arrow\">RandomForestClassifier</label><div class=\"sk-toggleable__content\"><pre>RandomForestClassifier()</pre></div></div></div></div></div></div></div></div></div></div>"
      ],
      "text/plain": [
       "GridSearchCV(estimator=RandomForestClassifier(), n_jobs=-1,\n",
       "             param_grid={'max_depth': array([ 1,  3,  5,  7,  9, 11, 13]),\n",
       "                         'min_samples_split': array([2, 4, 6, 8]),\n",
       "                         'n_estimators': array([ 100,  300,  500,  700,  900, 1100, 1300, 1500, 1700, 1900])})"
      ]
     },
     "execution_count": 148,
     "metadata": {},
     "output_type": "execute_result"
    }
   ],
   "source": [
    "GSCV.fit(X_train, y_train)"
   ]
  },
  {
   "cell_type": "code",
   "execution_count": 149,
   "metadata": {},
   "outputs": [
    {
     "data": {
      "text/plain": [
       "array([1, 1, 1, 1, 0, 1, 1, 1, 1, 1, 1, 1, 1, 1, 1, 1, 1, 1, 1, 0, 1, 0,\n",
       "       1, 0, 0, 0, 1, 1, 1, 1, 1, 1, 0, 0, 1, 1, 1, 1, 1, 0, 1, 1, 1, 1,\n",
       "       1, 1, 1, 0, 1, 0, 1, 1, 1, 0, 1, 1, 1, 1, 1, 1, 1, 0, 1, 0, 1, 1,\n",
       "       1, 1, 1, 1, 1, 1, 1, 1, 1, 0, 1, 1, 1, 0, 1, 1, 1, 0, 1, 1, 1, 1,\n",
       "       1, 1, 1, 1, 1, 1, 1, 1, 1, 1, 0, 1, 1, 1, 1, 1, 0, 1, 1, 1, 1, 1,\n",
       "       1, 1, 1, 1, 0, 1, 0, 1, 1, 1, 1, 1, 1, 1, 1, 1, 0, 0, 1, 1, 1, 0,\n",
       "       0, 1, 1, 1])"
      ]
     },
     "execution_count": 149,
     "metadata": {},
     "output_type": "execute_result"
    }
   ],
   "source": [
    "GSCV.predict(X_test)"
   ]
  },
  {
   "cell_type": "code",
   "execution_count": 150,
   "metadata": {},
   "outputs": [
    {
     "name": "stdout",
     "output_type": "stream",
     "text": [
      "Best Parameters: {'max_depth': 5, 'min_samples_split': 2, 'n_estimators': 100}\n",
      "Best Score: 0.7970614035087719\n"
     ]
    }
   ],
   "source": [
    "print(\"Best Parameters:\", GSCV.best_params_)\n",
    "print(\"Best Score:\", GSCV.best_score_)\n"
   ]
  },
  {
   "cell_type": "markdown",
   "metadata": {
    "jupyter": {
     "outputs_hidden": false
    }
   },
   "source": [
    "## 5. Using Pipeline\n",
    "If you didn't use pipelines before, transform your data prep, feat. engineering and modeling steps into Pipeline. It will be helpful for deployment.\n",
    "\n",
    "The goal here is to create the pipeline that will take one row of our dataset and predict the probability of being granted a loan.\n",
    "\n",
    "`pipeline.predict(x)`"
   ]
  },
  {
   "cell_type": "markdown",
   "metadata": {},
   "source": [
    "# REFER TO NOTEBOOK Model_Pipeline.ipynb"
   ]
  },
  {
   "cell_type": "code",
   "execution_count": 151,
   "metadata": {
    "jupyter": {
     "source_hidden": true
    },
    "tags": []
   },
   "outputs": [],
   "source": [
    "from sklearn.compose import ColumnTransformer\n",
    "from sklearn.pipeline import Pipeline, FeatureUnion, FunctionTransformer\n",
    "from sklearn.impute import SimpleImputer\n",
    "from sklearn.decomposition import PCA\n",
    "from sklearn.feature_selection import SelectKBest"
   ]
  },
  {
   "cell_type": "markdown",
   "metadata": {
    "jupyter": {
     "source_hidden": true
    },
    "tags": []
   },
   "source": [
    "class DataTransformations():\n",
    "    def __init__(self, func):\n",
    "        self.func = func\n",
    "\n",
    "    def transform(self, input_df, **transform_params):\n",
    "        return self.func(input_df)\n",
    "\n",
    "    def fit(self, X, y=None, **fit_params):\n",
    "        return self\n",
    "    \n",
    "    def impute_nulls(df):\n",
    "        df = df.fillna(df.select_dtypes(include=object).mode().iloc[0])\n",
    "        df = df.fillna(df.select_dtypes(include='number').median().iloc[0])\n",
    "        return df\n",
    "    \n",
    "    def make_dummies(df):\n",
    "        from sklearn.preprocessing import MinMaxScaler\n",
    "\n",
    "        # Separate object columns from numerical\n",
    "        num_df = df_drop.select_dtypes(exclude=object)\n",
    "        cat_df = df_drop.select_dtypes(include=object)\n",
    "\n",
    "        # Make label lists from column names\n",
    "        num_labels = list(num_df.columns)\n",
    "        cat_labels = list(cat_df.columns)\n",
    "\n",
    "        # Conduct encoding of each category column\n",
    "        ohe_cat_df = pd.get_dummies(cat_df, columns=cat_labels, drop_first=True)\n",
    "\n",
    "        # Concatenate OHE dataframe to numerical\n",
    "        X = pd.concat([ohe_cat_df, num_df], axis=1)\n",
    "        return X"
   ]
  },
  {
   "cell_type": "code",
   "execution_count": 140,
   "metadata": {
    "jupyter": {
     "source_hidden": true
    },
    "tags": []
   },
   "outputs": [],
   "source": [
    "def make_profile(df):\n",
    "    df['Profile'] = df['Gender'] +', ' + df['Married'].map({'No':'Single','Yes':'Married'}) + ', ' + df['Education']\n",
    "    return df"
   ]
  },
  {
   "cell_type": "code",
   "execution_count": 141,
   "metadata": {
    "jupyter": {
     "source_hidden": true
    },
    "tags": []
   },
   "outputs": [],
   "source": [
    "def make_dummies(df):\n",
    "\n",
    "    # Separate object columns from numerical\n",
    "    num_df = df_drop.select_dtypes(exclude=object)\n",
    "    cat_df = df_drop.select_dtypes(include=object)\n",
    "\n",
    "    # Make label lists from column names\n",
    "    num_labels = list(num_df.columns)\n",
    "    cat_labels = list(cat_df.columns)\n",
    "\n",
    "    # Conduct encoding of each category column\n",
    "    ohe_cat_df = pd.get_dummies(cat_df, columns=cat_labels, drop_first=True)\n",
    "\n",
    "    # Concatenate OHE dataframe to numerical\n",
    "    X = pd.concat([ohe_cat_df, num_df], axis=1)\n",
    "    return X"
   ]
  },
  {
   "cell_type": "code",
   "execution_count": 142,
   "metadata": {
    "jupyter": {
     "source_hidden": true
    },
    "tags": []
   },
   "outputs": [],
   "source": [
    "profile_maker = FunctionTransformer(make_profile)\n",
    "dummy_maker = FunctionTransformer(make_dummies)"
   ]
  },
  {
   "cell_type": "code",
   "execution_count": 143,
   "metadata": {
    "collapsed": true,
    "jupyter": {
     "outputs_hidden": true,
     "source_hidden": true
    },
    "tags": []
   },
   "outputs": [
    {
     "data": {
      "text/html": [
       "<div>\n",
       "<style scoped>\n",
       "    .dataframe tbody tr th:only-of-type {\n",
       "        vertical-align: middle;\n",
       "    }\n",
       "\n",
       "    .dataframe tbody tr th {\n",
       "        vertical-align: top;\n",
       "    }\n",
       "\n",
       "    .dataframe thead th {\n",
       "        text-align: right;\n",
       "    }\n",
       "</style>\n",
       "<table border=\"1\" class=\"dataframe\">\n",
       "  <thead>\n",
       "    <tr style=\"text-align: right;\">\n",
       "      <th></th>\n",
       "      <th>Loan_ID</th>\n",
       "      <th>Gender</th>\n",
       "      <th>Married</th>\n",
       "      <th>Dependents</th>\n",
       "      <th>Education</th>\n",
       "      <th>Self_Employed</th>\n",
       "      <th>ApplicantIncome</th>\n",
       "      <th>CoapplicantIncome</th>\n",
       "      <th>LoanAmount</th>\n",
       "      <th>Loan_Amount_Term</th>\n",
       "      <th>Credit_History</th>\n",
       "      <th>Property_Area</th>\n",
       "      <th>Loan_Status</th>\n",
       "      <th>LoanAmount_log</th>\n",
       "      <th>CombinedIncome</th>\n",
       "      <th>CombinedIncome_log</th>\n",
       "      <th>Profile</th>\n",
       "    </tr>\n",
       "  </thead>\n",
       "  <tbody>\n",
       "    <tr>\n",
       "      <th>0</th>\n",
       "      <td>LP001002</td>\n",
       "      <td>Male</td>\n",
       "      <td>No</td>\n",
       "      <td>0</td>\n",
       "      <td>Graduate</td>\n",
       "      <td>No</td>\n",
       "      <td>5849</td>\n",
       "      <td>0.0</td>\n",
       "      <td>3812.5</td>\n",
       "      <td>360.0</td>\n",
       "      <td>1.0</td>\n",
       "      <td>Urban</td>\n",
       "      <td>Y</td>\n",
       "      <td>8.246040</td>\n",
       "      <td>5849.0</td>\n",
       "      <td>8.674026</td>\n",
       "      <td>Male, Single, Graduate</td>\n",
       "    </tr>\n",
       "    <tr>\n",
       "      <th>1</th>\n",
       "      <td>LP001003</td>\n",
       "      <td>Male</td>\n",
       "      <td>Yes</td>\n",
       "      <td>1</td>\n",
       "      <td>Graduate</td>\n",
       "      <td>No</td>\n",
       "      <td>4583</td>\n",
       "      <td>1508.0</td>\n",
       "      <td>128.0</td>\n",
       "      <td>360.0</td>\n",
       "      <td>1.0</td>\n",
       "      <td>Rural</td>\n",
       "      <td>N</td>\n",
       "      <td>4.852030</td>\n",
       "      <td>6091.0</td>\n",
       "      <td>8.714568</td>\n",
       "      <td>Male, Married, Graduate</td>\n",
       "    </tr>\n",
       "    <tr>\n",
       "      <th>2</th>\n",
       "      <td>LP001005</td>\n",
       "      <td>Male</td>\n",
       "      <td>Yes</td>\n",
       "      <td>0</td>\n",
       "      <td>Graduate</td>\n",
       "      <td>Yes</td>\n",
       "      <td>3000</td>\n",
       "      <td>0.0</td>\n",
       "      <td>66.0</td>\n",
       "      <td>360.0</td>\n",
       "      <td>1.0</td>\n",
       "      <td>Urban</td>\n",
       "      <td>Y</td>\n",
       "      <td>4.189655</td>\n",
       "      <td>3000.0</td>\n",
       "      <td>8.006368</td>\n",
       "      <td>Male, Married, Graduate</td>\n",
       "    </tr>\n",
       "    <tr>\n",
       "      <th>3</th>\n",
       "      <td>LP001006</td>\n",
       "      <td>Male</td>\n",
       "      <td>Yes</td>\n",
       "      <td>0</td>\n",
       "      <td>Not Graduate</td>\n",
       "      <td>No</td>\n",
       "      <td>2583</td>\n",
       "      <td>2358.0</td>\n",
       "      <td>120.0</td>\n",
       "      <td>360.0</td>\n",
       "      <td>1.0</td>\n",
       "      <td>Urban</td>\n",
       "      <td>Y</td>\n",
       "      <td>4.787492</td>\n",
       "      <td>4941.0</td>\n",
       "      <td>8.505323</td>\n",
       "      <td>Male, Married, Not Graduate</td>\n",
       "    </tr>\n",
       "    <tr>\n",
       "      <th>4</th>\n",
       "      <td>LP001008</td>\n",
       "      <td>Male</td>\n",
       "      <td>No</td>\n",
       "      <td>0</td>\n",
       "      <td>Graduate</td>\n",
       "      <td>No</td>\n",
       "      <td>6000</td>\n",
       "      <td>0.0</td>\n",
       "      <td>141.0</td>\n",
       "      <td>360.0</td>\n",
       "      <td>1.0</td>\n",
       "      <td>Urban</td>\n",
       "      <td>Y</td>\n",
       "      <td>4.948760</td>\n",
       "      <td>6000.0</td>\n",
       "      <td>8.699515</td>\n",
       "      <td>Male, Single, Graduate</td>\n",
       "    </tr>\n",
       "  </tbody>\n",
       "</table>\n",
       "</div>"
      ],
      "text/plain": [
       "    Loan_ID Gender Married Dependents     Education Self_Employed  \\\n",
       "0  LP001002   Male      No          0      Graduate            No   \n",
       "1  LP001003   Male     Yes          1      Graduate            No   \n",
       "2  LP001005   Male     Yes          0      Graduate           Yes   \n",
       "3  LP001006   Male     Yes          0  Not Graduate            No   \n",
       "4  LP001008   Male      No          0      Graduate            No   \n",
       "\n",
       "   ApplicantIncome  CoapplicantIncome  LoanAmount  Loan_Amount_Term  \\\n",
       "0             5849                0.0      3812.5             360.0   \n",
       "1             4583             1508.0       128.0             360.0   \n",
       "2             3000                0.0        66.0             360.0   \n",
       "3             2583             2358.0       120.0             360.0   \n",
       "4             6000                0.0       141.0             360.0   \n",
       "\n",
       "   Credit_History Property_Area Loan_Status  LoanAmount_log  CombinedIncome  \\\n",
       "0             1.0         Urban           Y        8.246040          5849.0   \n",
       "1             1.0         Rural           N        4.852030          6091.0   \n",
       "2             1.0         Urban           Y        4.189655          3000.0   \n",
       "3             1.0         Urban           Y        4.787492          4941.0   \n",
       "4             1.0         Urban           Y        4.948760          6000.0   \n",
       "\n",
       "   CombinedIncome_log                      Profile  \n",
       "0            8.674026       Male, Single, Graduate  \n",
       "1            8.714568      Male, Married, Graduate  \n",
       "2            8.006368      Male, Married, Graduate  \n",
       "3            8.505323  Male, Married, Not Graduate  \n",
       "4            8.699515       Male, Single, Graduate  "
      ]
     },
     "execution_count": 143,
     "metadata": {},
     "output_type": "execute_result"
    }
   ],
   "source": [
    "df.head()"
   ]
  },
  {
   "cell_type": "code",
   "execution_count": 176,
   "metadata": {
    "jupyter": {
     "source_hidden": true
    },
    "tags": []
   },
   "outputs": [],
   "source": [
    "# This dataset is way too high-dimensional. Better do PCA:\n",
    "pca = PCA(n_components=2)\n",
    "\n",
    "# Maybe some of the original features were good, too?\n",
    "selection = SelectKBest(k=3)\n",
    "\n",
    "#Define the model\n",
    "rfc = RandomForestClassifier()"
   ]
  },
  {
   "cell_type": "code",
   "execution_count": 177,
   "metadata": {
    "jupyter": {
     "source_hidden": true
    },
    "tags": []
   },
   "outputs": [],
   "source": [
    " preprocess = ColumnTransformer([('profile', profile_maker),\n",
    "                                 ('dummy', dummy_maker)])\n",
    "\n",
    "featureselect = FeatureUnion([(\"pca\", pca), \n",
    "                              (\"univ_select\", selection)])\n",
    "\n",
    "pipeline = Pipeline ([(\"preprocess\", preprocess),\n",
    "                      (\"featselect\", featureselect),\n",
    "                      (\"rfc\", rfc)])"
   ]
  },
  {
   "cell_type": "code",
   "execution_count": 178,
   "metadata": {
    "jupyter": {
     "source_hidden": true
    },
    "tags": []
   },
   "outputs": [],
   "source": [
    "# set up our parameters grid\n",
    "param_grid = {\"featselect__pca__n_components\": [1, 2, 3],\n",
    "              \"featselect__univ_select__k\": [1, 2, 3],\n",
    "              \"rfc__n_estimators\" : np.arange(200,600,200),\n",
    "              \"rfc__max_depth\" : np.arange(2,6,2),\n",
    "              \"rfc__min_samples_split\" : np.arange(2,6,2)}"
   ]
  },
  {
   "cell_type": "code",
   "execution_count": 179,
   "metadata": {
    "jupyter": {
     "source_hidden": true
    },
    "tags": []
   },
   "outputs": [],
   "source": [
    "grid_search = GridSearchCV(pipeline, param_grid, verbose=10, refit=True)"
   ]
  },
  {
   "cell_type": "code",
   "execution_count": 180,
   "metadata": {
    "collapsed": true,
    "jupyter": {
     "outputs_hidden": true,
     "source_hidden": true
    },
    "tags": []
   },
   "outputs": [
    {
     "name": "stdout",
     "output_type": "stream",
     "text": [
      "Fitting 5 folds for each of 72 candidates, totalling 360 fits\n",
      "[CV 1/5; 1/72] START featselect__pca__n_components=1, featselect__univ_select__k=1, rfc__max_depth=2, rfc__min_samples_split=2, rfc__n_estimators=200\n",
      "[CV 1/5; 1/72] END featselect__pca__n_components=1, featselect__univ_select__k=1, rfc__max_depth=2, rfc__min_samples_split=2, rfc__n_estimators=200;, score=nan total time=   0.0s\n",
      "[CV 2/5; 1/72] START featselect__pca__n_components=1, featselect__univ_select__k=1, rfc__max_depth=2, rfc__min_samples_split=2, rfc__n_estimators=200\n",
      "[CV 2/5; 1/72] END featselect__pca__n_components=1, featselect__univ_select__k=1, rfc__max_depth=2, rfc__min_samples_split=2, rfc__n_estimators=200;, score=nan total time=   0.0s\n",
      "[CV 3/5; 1/72] START featselect__pca__n_components=1, featselect__univ_select__k=1, rfc__max_depth=2, rfc__min_samples_split=2, rfc__n_estimators=200\n",
      "[CV 3/5; 1/72] END featselect__pca__n_components=1, featselect__univ_select__k=1, rfc__max_depth=2, rfc__min_samples_split=2, rfc__n_estimators=200;, score=nan total time=   0.0s\n",
      "[CV 4/5; 1/72] START featselect__pca__n_components=1, featselect__univ_select__k=1, rfc__max_depth=2, rfc__min_samples_split=2, rfc__n_estimators=200\n",
      "[CV 4/5; 1/72] END featselect__pca__n_components=1, featselect__univ_select__k=1, rfc__max_depth=2, rfc__min_samples_split=2, rfc__n_estimators=200;, score=nan total time=   0.0s\n",
      "[CV 5/5; 1/72] START featselect__pca__n_components=1, featselect__univ_select__k=1, rfc__max_depth=2, rfc__min_samples_split=2, rfc__n_estimators=200\n",
      "[CV 5/5; 1/72] END featselect__pca__n_components=1, featselect__univ_select__k=1, rfc__max_depth=2, rfc__min_samples_split=2, rfc__n_estimators=200;, score=nan total time=   0.0s\n",
      "[CV 1/5; 2/72] START featselect__pca__n_components=1, featselect__univ_select__k=1, rfc__max_depth=2, rfc__min_samples_split=2, rfc__n_estimators=400\n",
      "[CV 1/5; 2/72] END featselect__pca__n_components=1, featselect__univ_select__k=1, rfc__max_depth=2, rfc__min_samples_split=2, rfc__n_estimators=400;, score=nan total time=   0.0s\n",
      "[CV 2/5; 2/72] START featselect__pca__n_components=1, featselect__univ_select__k=1, rfc__max_depth=2, rfc__min_samples_split=2, rfc__n_estimators=400\n",
      "[CV 2/5; 2/72] END featselect__pca__n_components=1, featselect__univ_select__k=1, rfc__max_depth=2, rfc__min_samples_split=2, rfc__n_estimators=400;, score=nan total time=   0.0s\n",
      "[CV 3/5; 2/72] START featselect__pca__n_components=1, featselect__univ_select__k=1, rfc__max_depth=2, rfc__min_samples_split=2, rfc__n_estimators=400\n",
      "[CV 3/5; 2/72] END featselect__pca__n_components=1, featselect__univ_select__k=1, rfc__max_depth=2, rfc__min_samples_split=2, rfc__n_estimators=400;, score=nan total time=   0.0s\n",
      "[CV 4/5; 2/72] START featselect__pca__n_components=1, featselect__univ_select__k=1, rfc__max_depth=2, rfc__min_samples_split=2, rfc__n_estimators=400\n",
      "[CV 4/5; 2/72] END featselect__pca__n_components=1, featselect__univ_select__k=1, rfc__max_depth=2, rfc__min_samples_split=2, rfc__n_estimators=400;, score=nan total time=   0.0s\n",
      "[CV 5/5; 2/72] START featselect__pca__n_components=1, featselect__univ_select__k=1, rfc__max_depth=2, rfc__min_samples_split=2, rfc__n_estimators=400\n",
      "[CV 5/5; 2/72] END featselect__pca__n_components=1, featselect__univ_select__k=1, rfc__max_depth=2, rfc__min_samples_split=2, rfc__n_estimators=400;, score=nan total time=   0.0s\n",
      "[CV 1/5; 3/72] START featselect__pca__n_components=1, featselect__univ_select__k=1, rfc__max_depth=2, rfc__min_samples_split=4, rfc__n_estimators=200\n",
      "[CV 1/5; 3/72] END featselect__pca__n_components=1, featselect__univ_select__k=1, rfc__max_depth=2, rfc__min_samples_split=4, rfc__n_estimators=200;, score=nan total time=   0.0s\n",
      "[CV 2/5; 3/72] START featselect__pca__n_components=1, featselect__univ_select__k=1, rfc__max_depth=2, rfc__min_samples_split=4, rfc__n_estimators=200\n",
      "[CV 2/5; 3/72] END featselect__pca__n_components=1, featselect__univ_select__k=1, rfc__max_depth=2, rfc__min_samples_split=4, rfc__n_estimators=200;, score=nan total time=   0.0s\n",
      "[CV 3/5; 3/72] START featselect__pca__n_components=1, featselect__univ_select__k=1, rfc__max_depth=2, rfc__min_samples_split=4, rfc__n_estimators=200\n",
      "[CV 3/5; 3/72] END featselect__pca__n_components=1, featselect__univ_select__k=1, rfc__max_depth=2, rfc__min_samples_split=4, rfc__n_estimators=200;, score=nan total time=   0.0s\n",
      "[CV 4/5; 3/72] START featselect__pca__n_components=1, featselect__univ_select__k=1, rfc__max_depth=2, rfc__min_samples_split=4, rfc__n_estimators=200\n",
      "[CV 4/5; 3/72] END featselect__pca__n_components=1, featselect__univ_select__k=1, rfc__max_depth=2, rfc__min_samples_split=4, rfc__n_estimators=200;, score=nan total time=   0.0s\n",
      "[CV 5/5; 3/72] START featselect__pca__n_components=1, featselect__univ_select__k=1, rfc__max_depth=2, rfc__min_samples_split=4, rfc__n_estimators=200\n",
      "[CV 5/5; 3/72] END featselect__pca__n_components=1, featselect__univ_select__k=1, rfc__max_depth=2, rfc__min_samples_split=4, rfc__n_estimators=200;, score=nan total time=   0.0s\n",
      "[CV 1/5; 4/72] START featselect__pca__n_components=1, featselect__univ_select__k=1, rfc__max_depth=2, rfc__min_samples_split=4, rfc__n_estimators=400\n",
      "[CV 1/5; 4/72] END featselect__pca__n_components=1, featselect__univ_select__k=1, rfc__max_depth=2, rfc__min_samples_split=4, rfc__n_estimators=400;, score=nan total time=   0.0s\n",
      "[CV 2/5; 4/72] START featselect__pca__n_components=1, featselect__univ_select__k=1, rfc__max_depth=2, rfc__min_samples_split=4, rfc__n_estimators=400\n",
      "[CV 2/5; 4/72] END featselect__pca__n_components=1, featselect__univ_select__k=1, rfc__max_depth=2, rfc__min_samples_split=4, rfc__n_estimators=400;, score=nan total time=   0.0s\n",
      "[CV 3/5; 4/72] START featselect__pca__n_components=1, featselect__univ_select__k=1, rfc__max_depth=2, rfc__min_samples_split=4, rfc__n_estimators=400\n",
      "[CV 3/5; 4/72] END featselect__pca__n_components=1, featselect__univ_select__k=1, rfc__max_depth=2, rfc__min_samples_split=4, rfc__n_estimators=400;, score=nan total time=   0.0s\n",
      "[CV 4/5; 4/72] START featselect__pca__n_components=1, featselect__univ_select__k=1, rfc__max_depth=2, rfc__min_samples_split=4, rfc__n_estimators=400\n",
      "[CV 4/5; 4/72] END featselect__pca__n_components=1, featselect__univ_select__k=1, rfc__max_depth=2, rfc__min_samples_split=4, rfc__n_estimators=400;, score=nan total time=   0.0s\n",
      "[CV 5/5; 4/72] START featselect__pca__n_components=1, featselect__univ_select__k=1, rfc__max_depth=2, rfc__min_samples_split=4, rfc__n_estimators=400\n",
      "[CV 5/5; 4/72] END featselect__pca__n_components=1, featselect__univ_select__k=1, rfc__max_depth=2, rfc__min_samples_split=4, rfc__n_estimators=400;, score=nan total time=   0.0s\n",
      "[CV 1/5; 5/72] START featselect__pca__n_components=1, featselect__univ_select__k=1, rfc__max_depth=4, rfc__min_samples_split=2, rfc__n_estimators=200\n",
      "[CV 1/5; 5/72] END featselect__pca__n_components=1, featselect__univ_select__k=1, rfc__max_depth=4, rfc__min_samples_split=2, rfc__n_estimators=200;, score=nan total time=   0.0s\n",
      "[CV 2/5; 5/72] START featselect__pca__n_components=1, featselect__univ_select__k=1, rfc__max_depth=4, rfc__min_samples_split=2, rfc__n_estimators=200\n",
      "[CV 2/5; 5/72] END featselect__pca__n_components=1, featselect__univ_select__k=1, rfc__max_depth=4, rfc__min_samples_split=2, rfc__n_estimators=200;, score=nan total time=   0.0s\n",
      "[CV 3/5; 5/72] START featselect__pca__n_components=1, featselect__univ_select__k=1, rfc__max_depth=4, rfc__min_samples_split=2, rfc__n_estimators=200\n",
      "[CV 3/5; 5/72] END featselect__pca__n_components=1, featselect__univ_select__k=1, rfc__max_depth=4, rfc__min_samples_split=2, rfc__n_estimators=200;, score=nan total time=   0.0s\n",
      "[CV 4/5; 5/72] START featselect__pca__n_components=1, featselect__univ_select__k=1, rfc__max_depth=4, rfc__min_samples_split=2, rfc__n_estimators=200\n",
      "[CV 4/5; 5/72] END featselect__pca__n_components=1, featselect__univ_select__k=1, rfc__max_depth=4, rfc__min_samples_split=2, rfc__n_estimators=200;, score=nan total time=   0.0s\n",
      "[CV 5/5; 5/72] START featselect__pca__n_components=1, featselect__univ_select__k=1, rfc__max_depth=4, rfc__min_samples_split=2, rfc__n_estimators=200\n",
      "[CV 5/5; 5/72] END featselect__pca__n_components=1, featselect__univ_select__k=1, rfc__max_depth=4, rfc__min_samples_split=2, rfc__n_estimators=200;, score=nan total time=   0.0s\n",
      "[CV 1/5; 6/72] START featselect__pca__n_components=1, featselect__univ_select__k=1, rfc__max_depth=4, rfc__min_samples_split=2, rfc__n_estimators=400\n",
      "[CV 1/5; 6/72] END featselect__pca__n_components=1, featselect__univ_select__k=1, rfc__max_depth=4, rfc__min_samples_split=2, rfc__n_estimators=400;, score=nan total time=   0.0s\n",
      "[CV 2/5; 6/72] START featselect__pca__n_components=1, featselect__univ_select__k=1, rfc__max_depth=4, rfc__min_samples_split=2, rfc__n_estimators=400\n",
      "[CV 2/5; 6/72] END featselect__pca__n_components=1, featselect__univ_select__k=1, rfc__max_depth=4, rfc__min_samples_split=2, rfc__n_estimators=400;, score=nan total time=   0.0s\n",
      "[CV 3/5; 6/72] START featselect__pca__n_components=1, featselect__univ_select__k=1, rfc__max_depth=4, rfc__min_samples_split=2, rfc__n_estimators=400\n",
      "[CV 3/5; 6/72] END featselect__pca__n_components=1, featselect__univ_select__k=1, rfc__max_depth=4, rfc__min_samples_split=2, rfc__n_estimators=400;, score=nan total time=   0.0s\n",
      "[CV 4/5; 6/72] START featselect__pca__n_components=1, featselect__univ_select__k=1, rfc__max_depth=4, rfc__min_samples_split=2, rfc__n_estimators=400\n",
      "[CV 4/5; 6/72] END featselect__pca__n_components=1, featselect__univ_select__k=1, rfc__max_depth=4, rfc__min_samples_split=2, rfc__n_estimators=400;, score=nan total time=   0.0s\n",
      "[CV 5/5; 6/72] START featselect__pca__n_components=1, featselect__univ_select__k=1, rfc__max_depth=4, rfc__min_samples_split=2, rfc__n_estimators=400\n",
      "[CV 5/5; 6/72] END featselect__pca__n_components=1, featselect__univ_select__k=1, rfc__max_depth=4, rfc__min_samples_split=2, rfc__n_estimators=400;, score=nan total time=   0.0s\n",
      "[CV 1/5; 7/72] START featselect__pca__n_components=1, featselect__univ_select__k=1, rfc__max_depth=4, rfc__min_samples_split=4, rfc__n_estimators=200\n",
      "[CV 1/5; 7/72] END featselect__pca__n_components=1, featselect__univ_select__k=1, rfc__max_depth=4, rfc__min_samples_split=4, rfc__n_estimators=200;, score=nan total time=   0.0s\n",
      "[CV 2/5; 7/72] START featselect__pca__n_components=1, featselect__univ_select__k=1, rfc__max_depth=4, rfc__min_samples_split=4, rfc__n_estimators=200\n",
      "[CV 2/5; 7/72] END featselect__pca__n_components=1, featselect__univ_select__k=1, rfc__max_depth=4, rfc__min_samples_split=4, rfc__n_estimators=200;, score=nan total time=   0.0s\n",
      "[CV 3/5; 7/72] START featselect__pca__n_components=1, featselect__univ_select__k=1, rfc__max_depth=4, rfc__min_samples_split=4, rfc__n_estimators=200\n",
      "[CV 3/5; 7/72] END featselect__pca__n_components=1, featselect__univ_select__k=1, rfc__max_depth=4, rfc__min_samples_split=4, rfc__n_estimators=200;, score=nan total time=   0.0s\n",
      "[CV 4/5; 7/72] START featselect__pca__n_components=1, featselect__univ_select__k=1, rfc__max_depth=4, rfc__min_samples_split=4, rfc__n_estimators=200\n",
      "[CV 4/5; 7/72] END featselect__pca__n_components=1, featselect__univ_select__k=1, rfc__max_depth=4, rfc__min_samples_split=4, rfc__n_estimators=200;, score=nan total time=   0.0s\n",
      "[CV 5/5; 7/72] START featselect__pca__n_components=1, featselect__univ_select__k=1, rfc__max_depth=4, rfc__min_samples_split=4, rfc__n_estimators=200\n",
      "[CV 5/5; 7/72] END featselect__pca__n_components=1, featselect__univ_select__k=1, rfc__max_depth=4, rfc__min_samples_split=4, rfc__n_estimators=200;, score=nan total time=   0.0s\n",
      "[CV 1/5; 8/72] START featselect__pca__n_components=1, featselect__univ_select__k=1, rfc__max_depth=4, rfc__min_samples_split=4, rfc__n_estimators=400\n",
      "[CV 1/5; 8/72] END featselect__pca__n_components=1, featselect__univ_select__k=1, rfc__max_depth=4, rfc__min_samples_split=4, rfc__n_estimators=400;, score=nan total time=   0.0s\n",
      "[CV 2/5; 8/72] START featselect__pca__n_components=1, featselect__univ_select__k=1, rfc__max_depth=4, rfc__min_samples_split=4, rfc__n_estimators=400\n",
      "[CV 2/5; 8/72] END featselect__pca__n_components=1, featselect__univ_select__k=1, rfc__max_depth=4, rfc__min_samples_split=4, rfc__n_estimators=400;, score=nan total time=   0.0s\n",
      "[CV 3/5; 8/72] START featselect__pca__n_components=1, featselect__univ_select__k=1, rfc__max_depth=4, rfc__min_samples_split=4, rfc__n_estimators=400\n",
      "[CV 3/5; 8/72] END featselect__pca__n_components=1, featselect__univ_select__k=1, rfc__max_depth=4, rfc__min_samples_split=4, rfc__n_estimators=400;, score=nan total time=   0.0s\n",
      "[CV 4/5; 8/72] START featselect__pca__n_components=1, featselect__univ_select__k=1, rfc__max_depth=4, rfc__min_samples_split=4, rfc__n_estimators=400\n",
      "[CV 4/5; 8/72] END featselect__pca__n_components=1, featselect__univ_select__k=1, rfc__max_depth=4, rfc__min_samples_split=4, rfc__n_estimators=400;, score=nan total time=   0.0s\n",
      "[CV 5/5; 8/72] START featselect__pca__n_components=1, featselect__univ_select__k=1, rfc__max_depth=4, rfc__min_samples_split=4, rfc__n_estimators=400\n",
      "[CV 5/5; 8/72] END featselect__pca__n_components=1, featselect__univ_select__k=1, rfc__max_depth=4, rfc__min_samples_split=4, rfc__n_estimators=400;, score=nan total time=   0.0s\n",
      "[CV 1/5; 9/72] START featselect__pca__n_components=1, featselect__univ_select__k=2, rfc__max_depth=2, rfc__min_samples_split=2, rfc__n_estimators=200\n",
      "[CV 1/5; 9/72] END featselect__pca__n_components=1, featselect__univ_select__k=2, rfc__max_depth=2, rfc__min_samples_split=2, rfc__n_estimators=200;, score=nan total time=   0.0s\n",
      "[CV 2/5; 9/72] START featselect__pca__n_components=1, featselect__univ_select__k=2, rfc__max_depth=2, rfc__min_samples_split=2, rfc__n_estimators=200\n",
      "[CV 2/5; 9/72] END featselect__pca__n_components=1, featselect__univ_select__k=2, rfc__max_depth=2, rfc__min_samples_split=2, rfc__n_estimators=200;, score=nan total time=   0.0s\n",
      "[CV 3/5; 9/72] START featselect__pca__n_components=1, featselect__univ_select__k=2, rfc__max_depth=2, rfc__min_samples_split=2, rfc__n_estimators=200\n",
      "[CV 3/5; 9/72] END featselect__pca__n_components=1, featselect__univ_select__k=2, rfc__max_depth=2, rfc__min_samples_split=2, rfc__n_estimators=200;, score=nan total time=   0.0s\n",
      "[CV 4/5; 9/72] START featselect__pca__n_components=1, featselect__univ_select__k=2, rfc__max_depth=2, rfc__min_samples_split=2, rfc__n_estimators=200\n",
      "[CV 4/5; 9/72] END featselect__pca__n_components=1, featselect__univ_select__k=2, rfc__max_depth=2, rfc__min_samples_split=2, rfc__n_estimators=200;, score=nan total time=   0.0s\n",
      "[CV 5/5; 9/72] START featselect__pca__n_components=1, featselect__univ_select__k=2, rfc__max_depth=2, rfc__min_samples_split=2, rfc__n_estimators=200\n",
      "[CV 5/5; 9/72] END featselect__pca__n_components=1, featselect__univ_select__k=2, rfc__max_depth=2, rfc__min_samples_split=2, rfc__n_estimators=200;, score=nan total time=   0.0s\n",
      "[CV 1/5; 10/72] START featselect__pca__n_components=1, featselect__univ_select__k=2, rfc__max_depth=2, rfc__min_samples_split=2, rfc__n_estimators=400\n",
      "[CV 1/5; 10/72] END featselect__pca__n_components=1, featselect__univ_select__k=2, rfc__max_depth=2, rfc__min_samples_split=2, rfc__n_estimators=400;, score=nan total time=   0.0s\n",
      "[CV 2/5; 10/72] START featselect__pca__n_components=1, featselect__univ_select__k=2, rfc__max_depth=2, rfc__min_samples_split=2, rfc__n_estimators=400\n",
      "[CV 2/5; 10/72] END featselect__pca__n_components=1, featselect__univ_select__k=2, rfc__max_depth=2, rfc__min_samples_split=2, rfc__n_estimators=400;, score=nan total time=   0.0s\n",
      "[CV 3/5; 10/72] START featselect__pca__n_components=1, featselect__univ_select__k=2, rfc__max_depth=2, rfc__min_samples_split=2, rfc__n_estimators=400\n",
      "[CV 3/5; 10/72] END featselect__pca__n_components=1, featselect__univ_select__k=2, rfc__max_depth=2, rfc__min_samples_split=2, rfc__n_estimators=400;, score=nan total time=   0.0s\n",
      "[CV 4/5; 10/72] START featselect__pca__n_components=1, featselect__univ_select__k=2, rfc__max_depth=2, rfc__min_samples_split=2, rfc__n_estimators=400\n",
      "[CV 4/5; 10/72] END featselect__pca__n_components=1, featselect__univ_select__k=2, rfc__max_depth=2, rfc__min_samples_split=2, rfc__n_estimators=400;, score=nan total time=   0.0s\n",
      "[CV 5/5; 10/72] START featselect__pca__n_components=1, featselect__univ_select__k=2, rfc__max_depth=2, rfc__min_samples_split=2, rfc__n_estimators=400\n",
      "[CV 5/5; 10/72] END featselect__pca__n_components=1, featselect__univ_select__k=2, rfc__max_depth=2, rfc__min_samples_split=2, rfc__n_estimators=400;, score=nan total time=   0.0s\n",
      "[CV 1/5; 11/72] START featselect__pca__n_components=1, featselect__univ_select__k=2, rfc__max_depth=2, rfc__min_samples_split=4, rfc__n_estimators=200\n",
      "[CV 1/5; 11/72] END featselect__pca__n_components=1, featselect__univ_select__k=2, rfc__max_depth=2, rfc__min_samples_split=4, rfc__n_estimators=200;, score=nan total time=   0.0s\n",
      "[CV 2/5; 11/72] START featselect__pca__n_components=1, featselect__univ_select__k=2, rfc__max_depth=2, rfc__min_samples_split=4, rfc__n_estimators=200\n",
      "[CV 2/5; 11/72] END featselect__pca__n_components=1, featselect__univ_select__k=2, rfc__max_depth=2, rfc__min_samples_split=4, rfc__n_estimators=200;, score=nan total time=   0.0s\n",
      "[CV 3/5; 11/72] START featselect__pca__n_components=1, featselect__univ_select__k=2, rfc__max_depth=2, rfc__min_samples_split=4, rfc__n_estimators=200\n",
      "[CV 3/5; 11/72] END featselect__pca__n_components=1, featselect__univ_select__k=2, rfc__max_depth=2, rfc__min_samples_split=4, rfc__n_estimators=200;, score=nan total time=   0.0s\n",
      "[CV 4/5; 11/72] START featselect__pca__n_components=1, featselect__univ_select__k=2, rfc__max_depth=2, rfc__min_samples_split=4, rfc__n_estimators=200\n",
      "[CV 4/5; 11/72] END featselect__pca__n_components=1, featselect__univ_select__k=2, rfc__max_depth=2, rfc__min_samples_split=4, rfc__n_estimators=200;, score=nan total time=   0.0s\n",
      "[CV 5/5; 11/72] START featselect__pca__n_components=1, featselect__univ_select__k=2, rfc__max_depth=2, rfc__min_samples_split=4, rfc__n_estimators=200\n",
      "[CV 5/5; 11/72] END featselect__pca__n_components=1, featselect__univ_select__k=2, rfc__max_depth=2, rfc__min_samples_split=4, rfc__n_estimators=200;, score=nan total time=   0.0s\n",
      "[CV 1/5; 12/72] START featselect__pca__n_components=1, featselect__univ_select__k=2, rfc__max_depth=2, rfc__min_samples_split=4, rfc__n_estimators=400\n",
      "[CV 1/5; 12/72] END featselect__pca__n_components=1, featselect__univ_select__k=2, rfc__max_depth=2, rfc__min_samples_split=4, rfc__n_estimators=400;, score=nan total time=   0.0s\n",
      "[CV 2/5; 12/72] START featselect__pca__n_components=1, featselect__univ_select__k=2, rfc__max_depth=2, rfc__min_samples_split=4, rfc__n_estimators=400\n",
      "[CV 2/5; 12/72] END featselect__pca__n_components=1, featselect__univ_select__k=2, rfc__max_depth=2, rfc__min_samples_split=4, rfc__n_estimators=400;, score=nan total time=   0.0s\n",
      "[CV 3/5; 12/72] START featselect__pca__n_components=1, featselect__univ_select__k=2, rfc__max_depth=2, rfc__min_samples_split=4, rfc__n_estimators=400\n",
      "[CV 3/5; 12/72] END featselect__pca__n_components=1, featselect__univ_select__k=2, rfc__max_depth=2, rfc__min_samples_split=4, rfc__n_estimators=400;, score=nan total time=   0.0s\n",
      "[CV 4/5; 12/72] START featselect__pca__n_components=1, featselect__univ_select__k=2, rfc__max_depth=2, rfc__min_samples_split=4, rfc__n_estimators=400\n",
      "[CV 4/5; 12/72] END featselect__pca__n_components=1, featselect__univ_select__k=2, rfc__max_depth=2, rfc__min_samples_split=4, rfc__n_estimators=400;, score=nan total time=   0.0s\n",
      "[CV 5/5; 12/72] START featselect__pca__n_components=1, featselect__univ_select__k=2, rfc__max_depth=2, rfc__min_samples_split=4, rfc__n_estimators=400\n",
      "[CV 5/5; 12/72] END featselect__pca__n_components=1, featselect__univ_select__k=2, rfc__max_depth=2, rfc__min_samples_split=4, rfc__n_estimators=400;, score=nan total time=   0.0s\n",
      "[CV 1/5; 13/72] START featselect__pca__n_components=1, featselect__univ_select__k=2, rfc__max_depth=4, rfc__min_samples_split=2, rfc__n_estimators=200\n",
      "[CV 1/5; 13/72] END featselect__pca__n_components=1, featselect__univ_select__k=2, rfc__max_depth=4, rfc__min_samples_split=2, rfc__n_estimators=200;, score=nan total time=   0.0s\n",
      "[CV 2/5; 13/72] START featselect__pca__n_components=1, featselect__univ_select__k=2, rfc__max_depth=4, rfc__min_samples_split=2, rfc__n_estimators=200\n",
      "[CV 2/5; 13/72] END featselect__pca__n_components=1, featselect__univ_select__k=2, rfc__max_depth=4, rfc__min_samples_split=2, rfc__n_estimators=200;, score=nan total time=   0.0s\n",
      "[CV 3/5; 13/72] START featselect__pca__n_components=1, featselect__univ_select__k=2, rfc__max_depth=4, rfc__min_samples_split=2, rfc__n_estimators=200\n",
      "[CV 3/5; 13/72] END featselect__pca__n_components=1, featselect__univ_select__k=2, rfc__max_depth=4, rfc__min_samples_split=2, rfc__n_estimators=200;, score=nan total time=   0.0s\n",
      "[CV 4/5; 13/72] START featselect__pca__n_components=1, featselect__univ_select__k=2, rfc__max_depth=4, rfc__min_samples_split=2, rfc__n_estimators=200\n",
      "[CV 4/5; 13/72] END featselect__pca__n_components=1, featselect__univ_select__k=2, rfc__max_depth=4, rfc__min_samples_split=2, rfc__n_estimators=200;, score=nan total time=   0.0s\n",
      "[CV 5/5; 13/72] START featselect__pca__n_components=1, featselect__univ_select__k=2, rfc__max_depth=4, rfc__min_samples_split=2, rfc__n_estimators=200\n",
      "[CV 5/5; 13/72] END featselect__pca__n_components=1, featselect__univ_select__k=2, rfc__max_depth=4, rfc__min_samples_split=2, rfc__n_estimators=200;, score=nan total time=   0.0s\n",
      "[CV 1/5; 14/72] START featselect__pca__n_components=1, featselect__univ_select__k=2, rfc__max_depth=4, rfc__min_samples_split=2, rfc__n_estimators=400\n",
      "[CV 1/5; 14/72] END featselect__pca__n_components=1, featselect__univ_select__k=2, rfc__max_depth=4, rfc__min_samples_split=2, rfc__n_estimators=400;, score=nan total time=   0.0s\n",
      "[CV 2/5; 14/72] START featselect__pca__n_components=1, featselect__univ_select__k=2, rfc__max_depth=4, rfc__min_samples_split=2, rfc__n_estimators=400\n",
      "[CV 2/5; 14/72] END featselect__pca__n_components=1, featselect__univ_select__k=2, rfc__max_depth=4, rfc__min_samples_split=2, rfc__n_estimators=400;, score=nan total time=   0.0s\n",
      "[CV 3/5; 14/72] START featselect__pca__n_components=1, featselect__univ_select__k=2, rfc__max_depth=4, rfc__min_samples_split=2, rfc__n_estimators=400\n",
      "[CV 3/5; 14/72] END featselect__pca__n_components=1, featselect__univ_select__k=2, rfc__max_depth=4, rfc__min_samples_split=2, rfc__n_estimators=400;, score=nan total time=   0.0s\n",
      "[CV 4/5; 14/72] START featselect__pca__n_components=1, featselect__univ_select__k=2, rfc__max_depth=4, rfc__min_samples_split=2, rfc__n_estimators=400\n",
      "[CV 4/5; 14/72] END featselect__pca__n_components=1, featselect__univ_select__k=2, rfc__max_depth=4, rfc__min_samples_split=2, rfc__n_estimators=400;, score=nan total time=   0.0s\n",
      "[CV 5/5; 14/72] START featselect__pca__n_components=1, featselect__univ_select__k=2, rfc__max_depth=4, rfc__min_samples_split=2, rfc__n_estimators=400\n",
      "[CV 5/5; 14/72] END featselect__pca__n_components=1, featselect__univ_select__k=2, rfc__max_depth=4, rfc__min_samples_split=2, rfc__n_estimators=400;, score=nan total time=   0.0s\n",
      "[CV 1/5; 15/72] START featselect__pca__n_components=1, featselect__univ_select__k=2, rfc__max_depth=4, rfc__min_samples_split=4, rfc__n_estimators=200\n",
      "[CV 1/5; 15/72] END featselect__pca__n_components=1, featselect__univ_select__k=2, rfc__max_depth=4, rfc__min_samples_split=4, rfc__n_estimators=200;, score=nan total time=   0.0s\n",
      "[CV 2/5; 15/72] START featselect__pca__n_components=1, featselect__univ_select__k=2, rfc__max_depth=4, rfc__min_samples_split=4, rfc__n_estimators=200\n",
      "[CV 2/5; 15/72] END featselect__pca__n_components=1, featselect__univ_select__k=2, rfc__max_depth=4, rfc__min_samples_split=4, rfc__n_estimators=200;, score=nan total time=   0.0s\n",
      "[CV 3/5; 15/72] START featselect__pca__n_components=1, featselect__univ_select__k=2, rfc__max_depth=4, rfc__min_samples_split=4, rfc__n_estimators=200\n",
      "[CV 3/5; 15/72] END featselect__pca__n_components=1, featselect__univ_select__k=2, rfc__max_depth=4, rfc__min_samples_split=4, rfc__n_estimators=200;, score=nan total time=   0.0s\n",
      "[CV 4/5; 15/72] START featselect__pca__n_components=1, featselect__univ_select__k=2, rfc__max_depth=4, rfc__min_samples_split=4, rfc__n_estimators=200\n",
      "[CV 4/5; 15/72] END featselect__pca__n_components=1, featselect__univ_select__k=2, rfc__max_depth=4, rfc__min_samples_split=4, rfc__n_estimators=200;, score=nan total time=   0.0s\n",
      "[CV 5/5; 15/72] START featselect__pca__n_components=1, featselect__univ_select__k=2, rfc__max_depth=4, rfc__min_samples_split=4, rfc__n_estimators=200\n",
      "[CV 5/5; 15/72] END featselect__pca__n_components=1, featselect__univ_select__k=2, rfc__max_depth=4, rfc__min_samples_split=4, rfc__n_estimators=200;, score=nan total time=   0.0s\n",
      "[CV 1/5; 16/72] START featselect__pca__n_components=1, featselect__univ_select__k=2, rfc__max_depth=4, rfc__min_samples_split=4, rfc__n_estimators=400\n",
      "[CV 1/5; 16/72] END featselect__pca__n_components=1, featselect__univ_select__k=2, rfc__max_depth=4, rfc__min_samples_split=4, rfc__n_estimators=400;, score=nan total time=   0.0s\n",
      "[CV 2/5; 16/72] START featselect__pca__n_components=1, featselect__univ_select__k=2, rfc__max_depth=4, rfc__min_samples_split=4, rfc__n_estimators=400\n",
      "[CV 2/5; 16/72] END featselect__pca__n_components=1, featselect__univ_select__k=2, rfc__max_depth=4, rfc__min_samples_split=4, rfc__n_estimators=400;, score=nan total time=   0.0s\n",
      "[CV 3/5; 16/72] START featselect__pca__n_components=1, featselect__univ_select__k=2, rfc__max_depth=4, rfc__min_samples_split=4, rfc__n_estimators=400\n",
      "[CV 3/5; 16/72] END featselect__pca__n_components=1, featselect__univ_select__k=2, rfc__max_depth=4, rfc__min_samples_split=4, rfc__n_estimators=400;, score=nan total time=   0.0s\n",
      "[CV 4/5; 16/72] START featselect__pca__n_components=1, featselect__univ_select__k=2, rfc__max_depth=4, rfc__min_samples_split=4, rfc__n_estimators=400\n",
      "[CV 4/5; 16/72] END featselect__pca__n_components=1, featselect__univ_select__k=2, rfc__max_depth=4, rfc__min_samples_split=4, rfc__n_estimators=400;, score=nan total time=   0.0s\n",
      "[CV 5/5; 16/72] START featselect__pca__n_components=1, featselect__univ_select__k=2, rfc__max_depth=4, rfc__min_samples_split=4, rfc__n_estimators=400\n",
      "[CV 5/5; 16/72] END featselect__pca__n_components=1, featselect__univ_select__k=2, rfc__max_depth=4, rfc__min_samples_split=4, rfc__n_estimators=400;, score=nan total time=   0.0s\n",
      "[CV 1/5; 17/72] START featselect__pca__n_components=1, featselect__univ_select__k=3, rfc__max_depth=2, rfc__min_samples_split=2, rfc__n_estimators=200\n",
      "[CV 1/5; 17/72] END featselect__pca__n_components=1, featselect__univ_select__k=3, rfc__max_depth=2, rfc__min_samples_split=2, rfc__n_estimators=200;, score=nan total time=   0.0s\n",
      "[CV 2/5; 17/72] START featselect__pca__n_components=1, featselect__univ_select__k=3, rfc__max_depth=2, rfc__min_samples_split=2, rfc__n_estimators=200\n",
      "[CV 2/5; 17/72] END featselect__pca__n_components=1, featselect__univ_select__k=3, rfc__max_depth=2, rfc__min_samples_split=2, rfc__n_estimators=200;, score=nan total time=   0.0s\n",
      "[CV 3/5; 17/72] START featselect__pca__n_components=1, featselect__univ_select__k=3, rfc__max_depth=2, rfc__min_samples_split=2, rfc__n_estimators=200\n",
      "[CV 3/5; 17/72] END featselect__pca__n_components=1, featselect__univ_select__k=3, rfc__max_depth=2, rfc__min_samples_split=2, rfc__n_estimators=200;, score=nan total time=   0.0s\n",
      "[CV 4/5; 17/72] START featselect__pca__n_components=1, featselect__univ_select__k=3, rfc__max_depth=2, rfc__min_samples_split=2, rfc__n_estimators=200\n",
      "[CV 4/5; 17/72] END featselect__pca__n_components=1, featselect__univ_select__k=3, rfc__max_depth=2, rfc__min_samples_split=2, rfc__n_estimators=200;, score=nan total time=   0.0s\n",
      "[CV 5/5; 17/72] START featselect__pca__n_components=1, featselect__univ_select__k=3, rfc__max_depth=2, rfc__min_samples_split=2, rfc__n_estimators=200\n",
      "[CV 5/5; 17/72] END featselect__pca__n_components=1, featselect__univ_select__k=3, rfc__max_depth=2, rfc__min_samples_split=2, rfc__n_estimators=200;, score=nan total time=   0.0s\n",
      "[CV 1/5; 18/72] START featselect__pca__n_components=1, featselect__univ_select__k=3, rfc__max_depth=2, rfc__min_samples_split=2, rfc__n_estimators=400\n",
      "[CV 1/5; 18/72] END featselect__pca__n_components=1, featselect__univ_select__k=3, rfc__max_depth=2, rfc__min_samples_split=2, rfc__n_estimators=400;, score=nan total time=   0.0s\n",
      "[CV 2/5; 18/72] START featselect__pca__n_components=1, featselect__univ_select__k=3, rfc__max_depth=2, rfc__min_samples_split=2, rfc__n_estimators=400\n",
      "[CV 2/5; 18/72] END featselect__pca__n_components=1, featselect__univ_select__k=3, rfc__max_depth=2, rfc__min_samples_split=2, rfc__n_estimators=400;, score=nan total time=   0.0s\n",
      "[CV 3/5; 18/72] START featselect__pca__n_components=1, featselect__univ_select__k=3, rfc__max_depth=2, rfc__min_samples_split=2, rfc__n_estimators=400\n",
      "[CV 3/5; 18/72] END featselect__pca__n_components=1, featselect__univ_select__k=3, rfc__max_depth=2, rfc__min_samples_split=2, rfc__n_estimators=400;, score=nan total time=   0.0s\n",
      "[CV 4/5; 18/72] START featselect__pca__n_components=1, featselect__univ_select__k=3, rfc__max_depth=2, rfc__min_samples_split=2, rfc__n_estimators=400\n",
      "[CV 4/5; 18/72] END featselect__pca__n_components=1, featselect__univ_select__k=3, rfc__max_depth=2, rfc__min_samples_split=2, rfc__n_estimators=400;, score=nan total time=   0.0s\n",
      "[CV 5/5; 18/72] START featselect__pca__n_components=1, featselect__univ_select__k=3, rfc__max_depth=2, rfc__min_samples_split=2, rfc__n_estimators=400\n",
      "[CV 5/5; 18/72] END featselect__pca__n_components=1, featselect__univ_select__k=3, rfc__max_depth=2, rfc__min_samples_split=2, rfc__n_estimators=400;, score=nan total time=   0.0s\n",
      "[CV 1/5; 19/72] START featselect__pca__n_components=1, featselect__univ_select__k=3, rfc__max_depth=2, rfc__min_samples_split=4, rfc__n_estimators=200\n",
      "[CV 1/5; 19/72] END featselect__pca__n_components=1, featselect__univ_select__k=3, rfc__max_depth=2, rfc__min_samples_split=4, rfc__n_estimators=200;, score=nan total time=   0.0s\n",
      "[CV 2/5; 19/72] START featselect__pca__n_components=1, featselect__univ_select__k=3, rfc__max_depth=2, rfc__min_samples_split=4, rfc__n_estimators=200\n",
      "[CV 2/5; 19/72] END featselect__pca__n_components=1, featselect__univ_select__k=3, rfc__max_depth=2, rfc__min_samples_split=4, rfc__n_estimators=200;, score=nan total time=   0.0s\n",
      "[CV 3/5; 19/72] START featselect__pca__n_components=1, featselect__univ_select__k=3, rfc__max_depth=2, rfc__min_samples_split=4, rfc__n_estimators=200\n",
      "[CV 3/5; 19/72] END featselect__pca__n_components=1, featselect__univ_select__k=3, rfc__max_depth=2, rfc__min_samples_split=4, rfc__n_estimators=200;, score=nan total time=   0.0s\n",
      "[CV 4/5; 19/72] START featselect__pca__n_components=1, featselect__univ_select__k=3, rfc__max_depth=2, rfc__min_samples_split=4, rfc__n_estimators=200\n",
      "[CV 4/5; 19/72] END featselect__pca__n_components=1, featselect__univ_select__k=3, rfc__max_depth=2, rfc__min_samples_split=4, rfc__n_estimators=200;, score=nan total time=   0.0s\n",
      "[CV 5/5; 19/72] START featselect__pca__n_components=1, featselect__univ_select__k=3, rfc__max_depth=2, rfc__min_samples_split=4, rfc__n_estimators=200\n",
      "[CV 5/5; 19/72] END featselect__pca__n_components=1, featselect__univ_select__k=3, rfc__max_depth=2, rfc__min_samples_split=4, rfc__n_estimators=200;, score=nan total time=   0.0s\n",
      "[CV 1/5; 20/72] START featselect__pca__n_components=1, featselect__univ_select__k=3, rfc__max_depth=2, rfc__min_samples_split=4, rfc__n_estimators=400\n",
      "[CV 1/5; 20/72] END featselect__pca__n_components=1, featselect__univ_select__k=3, rfc__max_depth=2, rfc__min_samples_split=4, rfc__n_estimators=400;, score=nan total time=   0.0s\n",
      "[CV 2/5; 20/72] START featselect__pca__n_components=1, featselect__univ_select__k=3, rfc__max_depth=2, rfc__min_samples_split=4, rfc__n_estimators=400\n",
      "[CV 2/5; 20/72] END featselect__pca__n_components=1, featselect__univ_select__k=3, rfc__max_depth=2, rfc__min_samples_split=4, rfc__n_estimators=400;, score=nan total time=   0.0s\n",
      "[CV 3/5; 20/72] START featselect__pca__n_components=1, featselect__univ_select__k=3, rfc__max_depth=2, rfc__min_samples_split=4, rfc__n_estimators=400\n",
      "[CV 3/5; 20/72] END featselect__pca__n_components=1, featselect__univ_select__k=3, rfc__max_depth=2, rfc__min_samples_split=4, rfc__n_estimators=400;, score=nan total time=   0.0s\n",
      "[CV 4/5; 20/72] START featselect__pca__n_components=1, featselect__univ_select__k=3, rfc__max_depth=2, rfc__min_samples_split=4, rfc__n_estimators=400\n",
      "[CV 4/5; 20/72] END featselect__pca__n_components=1, featselect__univ_select__k=3, rfc__max_depth=2, rfc__min_samples_split=4, rfc__n_estimators=400;, score=nan total time=   0.0s\n",
      "[CV 5/5; 20/72] START featselect__pca__n_components=1, featselect__univ_select__k=3, rfc__max_depth=2, rfc__min_samples_split=4, rfc__n_estimators=400\n",
      "[CV 5/5; 20/72] END featselect__pca__n_components=1, featselect__univ_select__k=3, rfc__max_depth=2, rfc__min_samples_split=4, rfc__n_estimators=400;, score=nan total time=   0.0s\n",
      "[CV 1/5; 21/72] START featselect__pca__n_components=1, featselect__univ_select__k=3, rfc__max_depth=4, rfc__min_samples_split=2, rfc__n_estimators=200\n",
      "[CV 1/5; 21/72] END featselect__pca__n_components=1, featselect__univ_select__k=3, rfc__max_depth=4, rfc__min_samples_split=2, rfc__n_estimators=200;, score=nan total time=   0.0s\n",
      "[CV 2/5; 21/72] START featselect__pca__n_components=1, featselect__univ_select__k=3, rfc__max_depth=4, rfc__min_samples_split=2, rfc__n_estimators=200\n",
      "[CV 2/5; 21/72] END featselect__pca__n_components=1, featselect__univ_select__k=3, rfc__max_depth=4, rfc__min_samples_split=2, rfc__n_estimators=200;, score=nan total time=   0.0s\n",
      "[CV 3/5; 21/72] START featselect__pca__n_components=1, featselect__univ_select__k=3, rfc__max_depth=4, rfc__min_samples_split=2, rfc__n_estimators=200\n",
      "[CV 3/5; 21/72] END featselect__pca__n_components=1, featselect__univ_select__k=3, rfc__max_depth=4, rfc__min_samples_split=2, rfc__n_estimators=200;, score=nan total time=   0.0s\n",
      "[CV 4/5; 21/72] START featselect__pca__n_components=1, featselect__univ_select__k=3, rfc__max_depth=4, rfc__min_samples_split=2, rfc__n_estimators=200\n",
      "[CV 4/5; 21/72] END featselect__pca__n_components=1, featselect__univ_select__k=3, rfc__max_depth=4, rfc__min_samples_split=2, rfc__n_estimators=200;, score=nan total time=   0.0s\n",
      "[CV 5/5; 21/72] START featselect__pca__n_components=1, featselect__univ_select__k=3, rfc__max_depth=4, rfc__min_samples_split=2, rfc__n_estimators=200\n",
      "[CV 5/5; 21/72] END featselect__pca__n_components=1, featselect__univ_select__k=3, rfc__max_depth=4, rfc__min_samples_split=2, rfc__n_estimators=200;, score=nan total time=   0.0s\n",
      "[CV 1/5; 22/72] START featselect__pca__n_components=1, featselect__univ_select__k=3, rfc__max_depth=4, rfc__min_samples_split=2, rfc__n_estimators=400\n",
      "[CV 1/5; 22/72] END featselect__pca__n_components=1, featselect__univ_select__k=3, rfc__max_depth=4, rfc__min_samples_split=2, rfc__n_estimators=400;, score=nan total time=   0.0s\n",
      "[CV 2/5; 22/72] START featselect__pca__n_components=1, featselect__univ_select__k=3, rfc__max_depth=4, rfc__min_samples_split=2, rfc__n_estimators=400\n",
      "[CV 2/5; 22/72] END featselect__pca__n_components=1, featselect__univ_select__k=3, rfc__max_depth=4, rfc__min_samples_split=2, rfc__n_estimators=400;, score=nan total time=   0.0s\n",
      "[CV 3/5; 22/72] START featselect__pca__n_components=1, featselect__univ_select__k=3, rfc__max_depth=4, rfc__min_samples_split=2, rfc__n_estimators=400\n",
      "[CV 3/5; 22/72] END featselect__pca__n_components=1, featselect__univ_select__k=3, rfc__max_depth=4, rfc__min_samples_split=2, rfc__n_estimators=400;, score=nan total time=   0.0s\n",
      "[CV 4/5; 22/72] START featselect__pca__n_components=1, featselect__univ_select__k=3, rfc__max_depth=4, rfc__min_samples_split=2, rfc__n_estimators=400\n",
      "[CV 4/5; 22/72] END featselect__pca__n_components=1, featselect__univ_select__k=3, rfc__max_depth=4, rfc__min_samples_split=2, rfc__n_estimators=400;, score=nan total time=   0.0s\n",
      "[CV 5/5; 22/72] START featselect__pca__n_components=1, featselect__univ_select__k=3, rfc__max_depth=4, rfc__min_samples_split=2, rfc__n_estimators=400\n",
      "[CV 5/5; 22/72] END featselect__pca__n_components=1, featselect__univ_select__k=3, rfc__max_depth=4, rfc__min_samples_split=2, rfc__n_estimators=400;, score=nan total time=   0.0s\n",
      "[CV 1/5; 23/72] START featselect__pca__n_components=1, featselect__univ_select__k=3, rfc__max_depth=4, rfc__min_samples_split=4, rfc__n_estimators=200\n",
      "[CV 1/5; 23/72] END featselect__pca__n_components=1, featselect__univ_select__k=3, rfc__max_depth=4, rfc__min_samples_split=4, rfc__n_estimators=200;, score=nan total time=   0.0s\n",
      "[CV 2/5; 23/72] START featselect__pca__n_components=1, featselect__univ_select__k=3, rfc__max_depth=4, rfc__min_samples_split=4, rfc__n_estimators=200\n",
      "[CV 2/5; 23/72] END featselect__pca__n_components=1, featselect__univ_select__k=3, rfc__max_depth=4, rfc__min_samples_split=4, rfc__n_estimators=200;, score=nan total time=   0.0s\n",
      "[CV 3/5; 23/72] START featselect__pca__n_components=1, featselect__univ_select__k=3, rfc__max_depth=4, rfc__min_samples_split=4, rfc__n_estimators=200\n",
      "[CV 3/5; 23/72] END featselect__pca__n_components=1, featselect__univ_select__k=3, rfc__max_depth=4, rfc__min_samples_split=4, rfc__n_estimators=200;, score=nan total time=   0.0s\n",
      "[CV 4/5; 23/72] START featselect__pca__n_components=1, featselect__univ_select__k=3, rfc__max_depth=4, rfc__min_samples_split=4, rfc__n_estimators=200\n",
      "[CV 4/5; 23/72] END featselect__pca__n_components=1, featselect__univ_select__k=3, rfc__max_depth=4, rfc__min_samples_split=4, rfc__n_estimators=200;, score=nan total time=   0.0s\n",
      "[CV 5/5; 23/72] START featselect__pca__n_components=1, featselect__univ_select__k=3, rfc__max_depth=4, rfc__min_samples_split=4, rfc__n_estimators=200\n",
      "[CV 5/5; 23/72] END featselect__pca__n_components=1, featselect__univ_select__k=3, rfc__max_depth=4, rfc__min_samples_split=4, rfc__n_estimators=200;, score=nan total time=   0.0s\n",
      "[CV 1/5; 24/72] START featselect__pca__n_components=1, featselect__univ_select__k=3, rfc__max_depth=4, rfc__min_samples_split=4, rfc__n_estimators=400\n",
      "[CV 1/5; 24/72] END featselect__pca__n_components=1, featselect__univ_select__k=3, rfc__max_depth=4, rfc__min_samples_split=4, rfc__n_estimators=400;, score=nan total time=   0.0s\n",
      "[CV 2/5; 24/72] START featselect__pca__n_components=1, featselect__univ_select__k=3, rfc__max_depth=4, rfc__min_samples_split=4, rfc__n_estimators=400\n",
      "[CV 2/5; 24/72] END featselect__pca__n_components=1, featselect__univ_select__k=3, rfc__max_depth=4, rfc__min_samples_split=4, rfc__n_estimators=400;, score=nan total time=   0.0s\n",
      "[CV 3/5; 24/72] START featselect__pca__n_components=1, featselect__univ_select__k=3, rfc__max_depth=4, rfc__min_samples_split=4, rfc__n_estimators=400\n",
      "[CV 3/5; 24/72] END featselect__pca__n_components=1, featselect__univ_select__k=3, rfc__max_depth=4, rfc__min_samples_split=4, rfc__n_estimators=400;, score=nan total time=   0.0s\n",
      "[CV 4/5; 24/72] START featselect__pca__n_components=1, featselect__univ_select__k=3, rfc__max_depth=4, rfc__min_samples_split=4, rfc__n_estimators=400\n",
      "[CV 4/5; 24/72] END featselect__pca__n_components=1, featselect__univ_select__k=3, rfc__max_depth=4, rfc__min_samples_split=4, rfc__n_estimators=400;, score=nan total time=   0.0s\n",
      "[CV 5/5; 24/72] START featselect__pca__n_components=1, featselect__univ_select__k=3, rfc__max_depth=4, rfc__min_samples_split=4, rfc__n_estimators=400\n",
      "[CV 5/5; 24/72] END featselect__pca__n_components=1, featselect__univ_select__k=3, rfc__max_depth=4, rfc__min_samples_split=4, rfc__n_estimators=400;, score=nan total time=   0.0s\n",
      "[CV 1/5; 25/72] START featselect__pca__n_components=2, featselect__univ_select__k=1, rfc__max_depth=2, rfc__min_samples_split=2, rfc__n_estimators=200\n",
      "[CV 1/5; 25/72] END featselect__pca__n_components=2, featselect__univ_select__k=1, rfc__max_depth=2, rfc__min_samples_split=2, rfc__n_estimators=200;, score=nan total time=   0.0s\n",
      "[CV 2/5; 25/72] START featselect__pca__n_components=2, featselect__univ_select__k=1, rfc__max_depth=2, rfc__min_samples_split=2, rfc__n_estimators=200\n",
      "[CV 2/5; 25/72] END featselect__pca__n_components=2, featselect__univ_select__k=1, rfc__max_depth=2, rfc__min_samples_split=2, rfc__n_estimators=200;, score=nan total time=   0.0s\n",
      "[CV 3/5; 25/72] START featselect__pca__n_components=2, featselect__univ_select__k=1, rfc__max_depth=2, rfc__min_samples_split=2, rfc__n_estimators=200\n",
      "[CV 3/5; 25/72] END featselect__pca__n_components=2, featselect__univ_select__k=1, rfc__max_depth=2, rfc__min_samples_split=2, rfc__n_estimators=200;, score=nan total time=   0.0s\n",
      "[CV 4/5; 25/72] START featselect__pca__n_components=2, featselect__univ_select__k=1, rfc__max_depth=2, rfc__min_samples_split=2, rfc__n_estimators=200\n",
      "[CV 4/5; 25/72] END featselect__pca__n_components=2, featselect__univ_select__k=1, rfc__max_depth=2, rfc__min_samples_split=2, rfc__n_estimators=200;, score=nan total time=   0.0s\n",
      "[CV 5/5; 25/72] START featselect__pca__n_components=2, featselect__univ_select__k=1, rfc__max_depth=2, rfc__min_samples_split=2, rfc__n_estimators=200\n",
      "[CV 5/5; 25/72] END featselect__pca__n_components=2, featselect__univ_select__k=1, rfc__max_depth=2, rfc__min_samples_split=2, rfc__n_estimators=200;, score=nan total time=   0.0s\n",
      "[CV 1/5; 26/72] START featselect__pca__n_components=2, featselect__univ_select__k=1, rfc__max_depth=2, rfc__min_samples_split=2, rfc__n_estimators=400\n",
      "[CV 1/5; 26/72] END featselect__pca__n_components=2, featselect__univ_select__k=1, rfc__max_depth=2, rfc__min_samples_split=2, rfc__n_estimators=400;, score=nan total time=   0.0s\n",
      "[CV 2/5; 26/72] START featselect__pca__n_components=2, featselect__univ_select__k=1, rfc__max_depth=2, rfc__min_samples_split=2, rfc__n_estimators=400\n",
      "[CV 2/5; 26/72] END featselect__pca__n_components=2, featselect__univ_select__k=1, rfc__max_depth=2, rfc__min_samples_split=2, rfc__n_estimators=400;, score=nan total time=   0.0s\n",
      "[CV 3/5; 26/72] START featselect__pca__n_components=2, featselect__univ_select__k=1, rfc__max_depth=2, rfc__min_samples_split=2, rfc__n_estimators=400\n",
      "[CV 3/5; 26/72] END featselect__pca__n_components=2, featselect__univ_select__k=1, rfc__max_depth=2, rfc__min_samples_split=2, rfc__n_estimators=400;, score=nan total time=   0.0s\n",
      "[CV 4/5; 26/72] START featselect__pca__n_components=2, featselect__univ_select__k=1, rfc__max_depth=2, rfc__min_samples_split=2, rfc__n_estimators=400\n",
      "[CV 4/5; 26/72] END featselect__pca__n_components=2, featselect__univ_select__k=1, rfc__max_depth=2, rfc__min_samples_split=2, rfc__n_estimators=400;, score=nan total time=   0.0s\n",
      "[CV 5/5; 26/72] START featselect__pca__n_components=2, featselect__univ_select__k=1, rfc__max_depth=2, rfc__min_samples_split=2, rfc__n_estimators=400\n",
      "[CV 5/5; 26/72] END featselect__pca__n_components=2, featselect__univ_select__k=1, rfc__max_depth=2, rfc__min_samples_split=2, rfc__n_estimators=400;, score=nan total time=   0.0s\n",
      "[CV 1/5; 27/72] START featselect__pca__n_components=2, featselect__univ_select__k=1, rfc__max_depth=2, rfc__min_samples_split=4, rfc__n_estimators=200\n",
      "[CV 1/5; 27/72] END featselect__pca__n_components=2, featselect__univ_select__k=1, rfc__max_depth=2, rfc__min_samples_split=4, rfc__n_estimators=200;, score=nan total time=   0.0s\n",
      "[CV 2/5; 27/72] START featselect__pca__n_components=2, featselect__univ_select__k=1, rfc__max_depth=2, rfc__min_samples_split=4, rfc__n_estimators=200\n",
      "[CV 2/5; 27/72] END featselect__pca__n_components=2, featselect__univ_select__k=1, rfc__max_depth=2, rfc__min_samples_split=4, rfc__n_estimators=200;, score=nan total time=   0.0s\n",
      "[CV 3/5; 27/72] START featselect__pca__n_components=2, featselect__univ_select__k=1, rfc__max_depth=2, rfc__min_samples_split=4, rfc__n_estimators=200\n",
      "[CV 3/5; 27/72] END featselect__pca__n_components=2, featselect__univ_select__k=1, rfc__max_depth=2, rfc__min_samples_split=4, rfc__n_estimators=200;, score=nan total time=   0.0s\n",
      "[CV 4/5; 27/72] START featselect__pca__n_components=2, featselect__univ_select__k=1, rfc__max_depth=2, rfc__min_samples_split=4, rfc__n_estimators=200\n",
      "[CV 4/5; 27/72] END featselect__pca__n_components=2, featselect__univ_select__k=1, rfc__max_depth=2, rfc__min_samples_split=4, rfc__n_estimators=200;, score=nan total time=   0.0s\n",
      "[CV 5/5; 27/72] START featselect__pca__n_components=2, featselect__univ_select__k=1, rfc__max_depth=2, rfc__min_samples_split=4, rfc__n_estimators=200\n",
      "[CV 5/5; 27/72] END featselect__pca__n_components=2, featselect__univ_select__k=1, rfc__max_depth=2, rfc__min_samples_split=4, rfc__n_estimators=200;, score=nan total time=   0.0s\n",
      "[CV 1/5; 28/72] START featselect__pca__n_components=2, featselect__univ_select__k=1, rfc__max_depth=2, rfc__min_samples_split=4, rfc__n_estimators=400\n",
      "[CV 1/5; 28/72] END featselect__pca__n_components=2, featselect__univ_select__k=1, rfc__max_depth=2, rfc__min_samples_split=4, rfc__n_estimators=400;, score=nan total time=   0.0s\n",
      "[CV 2/5; 28/72] START featselect__pca__n_components=2, featselect__univ_select__k=1, rfc__max_depth=2, rfc__min_samples_split=4, rfc__n_estimators=400\n",
      "[CV 2/5; 28/72] END featselect__pca__n_components=2, featselect__univ_select__k=1, rfc__max_depth=2, rfc__min_samples_split=4, rfc__n_estimators=400;, score=nan total time=   0.0s\n",
      "[CV 3/5; 28/72] START featselect__pca__n_components=2, featselect__univ_select__k=1, rfc__max_depth=2, rfc__min_samples_split=4, rfc__n_estimators=400\n",
      "[CV 3/5; 28/72] END featselect__pca__n_components=2, featselect__univ_select__k=1, rfc__max_depth=2, rfc__min_samples_split=4, rfc__n_estimators=400;, score=nan total time=   0.0s\n",
      "[CV 4/5; 28/72] START featselect__pca__n_components=2, featselect__univ_select__k=1, rfc__max_depth=2, rfc__min_samples_split=4, rfc__n_estimators=400\n",
      "[CV 4/5; 28/72] END featselect__pca__n_components=2, featselect__univ_select__k=1, rfc__max_depth=2, rfc__min_samples_split=4, rfc__n_estimators=400;, score=nan total time=   0.0s\n",
      "[CV 5/5; 28/72] START featselect__pca__n_components=2, featselect__univ_select__k=1, rfc__max_depth=2, rfc__min_samples_split=4, rfc__n_estimators=400\n",
      "[CV 5/5; 28/72] END featselect__pca__n_components=2, featselect__univ_select__k=1, rfc__max_depth=2, rfc__min_samples_split=4, rfc__n_estimators=400;, score=nan total time=   0.0s\n",
      "[CV 1/5; 29/72] START featselect__pca__n_components=2, featselect__univ_select__k=1, rfc__max_depth=4, rfc__min_samples_split=2, rfc__n_estimators=200\n",
      "[CV 1/5; 29/72] END featselect__pca__n_components=2, featselect__univ_select__k=1, rfc__max_depth=4, rfc__min_samples_split=2, rfc__n_estimators=200;, score=nan total time=   0.0s\n",
      "[CV 2/5; 29/72] START featselect__pca__n_components=2, featselect__univ_select__k=1, rfc__max_depth=4, rfc__min_samples_split=2, rfc__n_estimators=200\n",
      "[CV 2/5; 29/72] END featselect__pca__n_components=2, featselect__univ_select__k=1, rfc__max_depth=4, rfc__min_samples_split=2, rfc__n_estimators=200;, score=nan total time=   0.0s\n",
      "[CV 3/5; 29/72] START featselect__pca__n_components=2, featselect__univ_select__k=1, rfc__max_depth=4, rfc__min_samples_split=2, rfc__n_estimators=200\n",
      "[CV 3/5; 29/72] END featselect__pca__n_components=2, featselect__univ_select__k=1, rfc__max_depth=4, rfc__min_samples_split=2, rfc__n_estimators=200;, score=nan total time=   0.0s\n",
      "[CV 4/5; 29/72] START featselect__pca__n_components=2, featselect__univ_select__k=1, rfc__max_depth=4, rfc__min_samples_split=2, rfc__n_estimators=200\n",
      "[CV 4/5; 29/72] END featselect__pca__n_components=2, featselect__univ_select__k=1, rfc__max_depth=4, rfc__min_samples_split=2, rfc__n_estimators=200;, score=nan total time=   0.0s\n",
      "[CV 5/5; 29/72] START featselect__pca__n_components=2, featselect__univ_select__k=1, rfc__max_depth=4, rfc__min_samples_split=2, rfc__n_estimators=200\n",
      "[CV 5/5; 29/72] END featselect__pca__n_components=2, featselect__univ_select__k=1, rfc__max_depth=4, rfc__min_samples_split=2, rfc__n_estimators=200;, score=nan total time=   0.0s\n",
      "[CV 1/5; 30/72] START featselect__pca__n_components=2, featselect__univ_select__k=1, rfc__max_depth=4, rfc__min_samples_split=2, rfc__n_estimators=400\n",
      "[CV 1/5; 30/72] END featselect__pca__n_components=2, featselect__univ_select__k=1, rfc__max_depth=4, rfc__min_samples_split=2, rfc__n_estimators=400;, score=nan total time=   0.0s\n",
      "[CV 2/5; 30/72] START featselect__pca__n_components=2, featselect__univ_select__k=1, rfc__max_depth=4, rfc__min_samples_split=2, rfc__n_estimators=400\n",
      "[CV 2/5; 30/72] END featselect__pca__n_components=2, featselect__univ_select__k=1, rfc__max_depth=4, rfc__min_samples_split=2, rfc__n_estimators=400;, score=nan total time=   0.0s\n",
      "[CV 3/5; 30/72] START featselect__pca__n_components=2, featselect__univ_select__k=1, rfc__max_depth=4, rfc__min_samples_split=2, rfc__n_estimators=400\n",
      "[CV 3/5; 30/72] END featselect__pca__n_components=2, featselect__univ_select__k=1, rfc__max_depth=4, rfc__min_samples_split=2, rfc__n_estimators=400;, score=nan total time=   0.0s\n",
      "[CV 4/5; 30/72] START featselect__pca__n_components=2, featselect__univ_select__k=1, rfc__max_depth=4, rfc__min_samples_split=2, rfc__n_estimators=400\n",
      "[CV 4/5; 30/72] END featselect__pca__n_components=2, featselect__univ_select__k=1, rfc__max_depth=4, rfc__min_samples_split=2, rfc__n_estimators=400;, score=nan total time=   0.0s\n",
      "[CV 5/5; 30/72] START featselect__pca__n_components=2, featselect__univ_select__k=1, rfc__max_depth=4, rfc__min_samples_split=2, rfc__n_estimators=400\n",
      "[CV 5/5; 30/72] END featselect__pca__n_components=2, featselect__univ_select__k=1, rfc__max_depth=4, rfc__min_samples_split=2, rfc__n_estimators=400;, score=nan total time=   0.0s\n",
      "[CV 1/5; 31/72] START featselect__pca__n_components=2, featselect__univ_select__k=1, rfc__max_depth=4, rfc__min_samples_split=4, rfc__n_estimators=200\n",
      "[CV 1/5; 31/72] END featselect__pca__n_components=2, featselect__univ_select__k=1, rfc__max_depth=4, rfc__min_samples_split=4, rfc__n_estimators=200;, score=nan total time=   0.0s\n",
      "[CV 2/5; 31/72] START featselect__pca__n_components=2, featselect__univ_select__k=1, rfc__max_depth=4, rfc__min_samples_split=4, rfc__n_estimators=200\n",
      "[CV 2/5; 31/72] END featselect__pca__n_components=2, featselect__univ_select__k=1, rfc__max_depth=4, rfc__min_samples_split=4, rfc__n_estimators=200;, score=nan total time=   0.0s\n",
      "[CV 3/5; 31/72] START featselect__pca__n_components=2, featselect__univ_select__k=1, rfc__max_depth=4, rfc__min_samples_split=4, rfc__n_estimators=200\n",
      "[CV 3/5; 31/72] END featselect__pca__n_components=2, featselect__univ_select__k=1, rfc__max_depth=4, rfc__min_samples_split=4, rfc__n_estimators=200;, score=nan total time=   0.0s\n",
      "[CV 4/5; 31/72] START featselect__pca__n_components=2, featselect__univ_select__k=1, rfc__max_depth=4, rfc__min_samples_split=4, rfc__n_estimators=200\n",
      "[CV 4/5; 31/72] END featselect__pca__n_components=2, featselect__univ_select__k=1, rfc__max_depth=4, rfc__min_samples_split=4, rfc__n_estimators=200;, score=nan total time=   0.0s\n",
      "[CV 5/5; 31/72] START featselect__pca__n_components=2, featselect__univ_select__k=1, rfc__max_depth=4, rfc__min_samples_split=4, rfc__n_estimators=200\n",
      "[CV 5/5; 31/72] END featselect__pca__n_components=2, featselect__univ_select__k=1, rfc__max_depth=4, rfc__min_samples_split=4, rfc__n_estimators=200;, score=nan total time=   0.0s\n",
      "[CV 1/5; 32/72] START featselect__pca__n_components=2, featselect__univ_select__k=1, rfc__max_depth=4, rfc__min_samples_split=4, rfc__n_estimators=400\n",
      "[CV 1/5; 32/72] END featselect__pca__n_components=2, featselect__univ_select__k=1, rfc__max_depth=4, rfc__min_samples_split=4, rfc__n_estimators=400;, score=nan total time=   0.0s\n",
      "[CV 2/5; 32/72] START featselect__pca__n_components=2, featselect__univ_select__k=1, rfc__max_depth=4, rfc__min_samples_split=4, rfc__n_estimators=400\n",
      "[CV 2/5; 32/72] END featselect__pca__n_components=2, featselect__univ_select__k=1, rfc__max_depth=4, rfc__min_samples_split=4, rfc__n_estimators=400;, score=nan total time=   0.0s\n",
      "[CV 3/5; 32/72] START featselect__pca__n_components=2, featselect__univ_select__k=1, rfc__max_depth=4, rfc__min_samples_split=4, rfc__n_estimators=400\n",
      "[CV 3/5; 32/72] END featselect__pca__n_components=2, featselect__univ_select__k=1, rfc__max_depth=4, rfc__min_samples_split=4, rfc__n_estimators=400;, score=nan total time=   0.0s\n",
      "[CV 4/5; 32/72] START featselect__pca__n_components=2, featselect__univ_select__k=1, rfc__max_depth=4, rfc__min_samples_split=4, rfc__n_estimators=400\n",
      "[CV 4/5; 32/72] END featselect__pca__n_components=2, featselect__univ_select__k=1, rfc__max_depth=4, rfc__min_samples_split=4, rfc__n_estimators=400;, score=nan total time=   0.0s\n",
      "[CV 5/5; 32/72] START featselect__pca__n_components=2, featselect__univ_select__k=1, rfc__max_depth=4, rfc__min_samples_split=4, rfc__n_estimators=400\n",
      "[CV 5/5; 32/72] END featselect__pca__n_components=2, featselect__univ_select__k=1, rfc__max_depth=4, rfc__min_samples_split=4, rfc__n_estimators=400;, score=nan total time=   0.0s\n",
      "[CV 1/5; 33/72] START featselect__pca__n_components=2, featselect__univ_select__k=2, rfc__max_depth=2, rfc__min_samples_split=2, rfc__n_estimators=200\n",
      "[CV 1/5; 33/72] END featselect__pca__n_components=2, featselect__univ_select__k=2, rfc__max_depth=2, rfc__min_samples_split=2, rfc__n_estimators=200;, score=nan total time=   0.0s\n",
      "[CV 2/5; 33/72] START featselect__pca__n_components=2, featselect__univ_select__k=2, rfc__max_depth=2, rfc__min_samples_split=2, rfc__n_estimators=200\n",
      "[CV 2/5; 33/72] END featselect__pca__n_components=2, featselect__univ_select__k=2, rfc__max_depth=2, rfc__min_samples_split=2, rfc__n_estimators=200;, score=nan total time=   0.0s\n",
      "[CV 3/5; 33/72] START featselect__pca__n_components=2, featselect__univ_select__k=2, rfc__max_depth=2, rfc__min_samples_split=2, rfc__n_estimators=200\n",
      "[CV 3/5; 33/72] END featselect__pca__n_components=2, featselect__univ_select__k=2, rfc__max_depth=2, rfc__min_samples_split=2, rfc__n_estimators=200;, score=nan total time=   0.0s\n",
      "[CV 4/5; 33/72] START featselect__pca__n_components=2, featselect__univ_select__k=2, rfc__max_depth=2, rfc__min_samples_split=2, rfc__n_estimators=200\n",
      "[CV 4/5; 33/72] END featselect__pca__n_components=2, featselect__univ_select__k=2, rfc__max_depth=2, rfc__min_samples_split=2, rfc__n_estimators=200;, score=nan total time=   0.0s\n",
      "[CV 5/5; 33/72] START featselect__pca__n_components=2, featselect__univ_select__k=2, rfc__max_depth=2, rfc__min_samples_split=2, rfc__n_estimators=200\n",
      "[CV 5/5; 33/72] END featselect__pca__n_components=2, featselect__univ_select__k=2, rfc__max_depth=2, rfc__min_samples_split=2, rfc__n_estimators=200;, score=nan total time=   0.0s\n",
      "[CV 1/5; 34/72] START featselect__pca__n_components=2, featselect__univ_select__k=2, rfc__max_depth=2, rfc__min_samples_split=2, rfc__n_estimators=400\n",
      "[CV 1/5; 34/72] END featselect__pca__n_components=2, featselect__univ_select__k=2, rfc__max_depth=2, rfc__min_samples_split=2, rfc__n_estimators=400;, score=nan total time=   0.0s\n",
      "[CV 2/5; 34/72] START featselect__pca__n_components=2, featselect__univ_select__k=2, rfc__max_depth=2, rfc__min_samples_split=2, rfc__n_estimators=400\n",
      "[CV 2/5; 34/72] END featselect__pca__n_components=2, featselect__univ_select__k=2, rfc__max_depth=2, rfc__min_samples_split=2, rfc__n_estimators=400;, score=nan total time=   0.0s\n",
      "[CV 3/5; 34/72] START featselect__pca__n_components=2, featselect__univ_select__k=2, rfc__max_depth=2, rfc__min_samples_split=2, rfc__n_estimators=400\n",
      "[CV 3/5; 34/72] END featselect__pca__n_components=2, featselect__univ_select__k=2, rfc__max_depth=2, rfc__min_samples_split=2, rfc__n_estimators=400;, score=nan total time=   0.0s\n",
      "[CV 4/5; 34/72] START featselect__pca__n_components=2, featselect__univ_select__k=2, rfc__max_depth=2, rfc__min_samples_split=2, rfc__n_estimators=400\n",
      "[CV 4/5; 34/72] END featselect__pca__n_components=2, featselect__univ_select__k=2, rfc__max_depth=2, rfc__min_samples_split=2, rfc__n_estimators=400;, score=nan total time=   0.0s\n",
      "[CV 5/5; 34/72] START featselect__pca__n_components=2, featselect__univ_select__k=2, rfc__max_depth=2, rfc__min_samples_split=2, rfc__n_estimators=400\n",
      "[CV 5/5; 34/72] END featselect__pca__n_components=2, featselect__univ_select__k=2, rfc__max_depth=2, rfc__min_samples_split=2, rfc__n_estimators=400;, score=nan total time=   0.0s\n",
      "[CV 1/5; 35/72] START featselect__pca__n_components=2, featselect__univ_select__k=2, rfc__max_depth=2, rfc__min_samples_split=4, rfc__n_estimators=200\n",
      "[CV 1/5; 35/72] END featselect__pca__n_components=2, featselect__univ_select__k=2, rfc__max_depth=2, rfc__min_samples_split=4, rfc__n_estimators=200;, score=nan total time=   0.0s\n",
      "[CV 2/5; 35/72] START featselect__pca__n_components=2, featselect__univ_select__k=2, rfc__max_depth=2, rfc__min_samples_split=4, rfc__n_estimators=200\n",
      "[CV 2/5; 35/72] END featselect__pca__n_components=2, featselect__univ_select__k=2, rfc__max_depth=2, rfc__min_samples_split=4, rfc__n_estimators=200;, score=nan total time=   0.0s\n",
      "[CV 3/5; 35/72] START featselect__pca__n_components=2, featselect__univ_select__k=2, rfc__max_depth=2, rfc__min_samples_split=4, rfc__n_estimators=200\n",
      "[CV 3/5; 35/72] END featselect__pca__n_components=2, featselect__univ_select__k=2, rfc__max_depth=2, rfc__min_samples_split=4, rfc__n_estimators=200;, score=nan total time=   0.0s\n",
      "[CV 4/5; 35/72] START featselect__pca__n_components=2, featselect__univ_select__k=2, rfc__max_depth=2, rfc__min_samples_split=4, rfc__n_estimators=200\n",
      "[CV 4/5; 35/72] END featselect__pca__n_components=2, featselect__univ_select__k=2, rfc__max_depth=2, rfc__min_samples_split=4, rfc__n_estimators=200;, score=nan total time=   0.0s\n",
      "[CV 5/5; 35/72] START featselect__pca__n_components=2, featselect__univ_select__k=2, rfc__max_depth=2, rfc__min_samples_split=4, rfc__n_estimators=200\n",
      "[CV 5/5; 35/72] END featselect__pca__n_components=2, featselect__univ_select__k=2, rfc__max_depth=2, rfc__min_samples_split=4, rfc__n_estimators=200;, score=nan total time=   0.0s\n",
      "[CV 1/5; 36/72] START featselect__pca__n_components=2, featselect__univ_select__k=2, rfc__max_depth=2, rfc__min_samples_split=4, rfc__n_estimators=400\n",
      "[CV 1/5; 36/72] END featselect__pca__n_components=2, featselect__univ_select__k=2, rfc__max_depth=2, rfc__min_samples_split=4, rfc__n_estimators=400;, score=nan total time=   0.0s\n",
      "[CV 2/5; 36/72] START featselect__pca__n_components=2, featselect__univ_select__k=2, rfc__max_depth=2, rfc__min_samples_split=4, rfc__n_estimators=400\n",
      "[CV 2/5; 36/72] END featselect__pca__n_components=2, featselect__univ_select__k=2, rfc__max_depth=2, rfc__min_samples_split=4, rfc__n_estimators=400;, score=nan total time=   0.0s\n",
      "[CV 3/5; 36/72] START featselect__pca__n_components=2, featselect__univ_select__k=2, rfc__max_depth=2, rfc__min_samples_split=4, rfc__n_estimators=400\n",
      "[CV 3/5; 36/72] END featselect__pca__n_components=2, featselect__univ_select__k=2, rfc__max_depth=2, rfc__min_samples_split=4, rfc__n_estimators=400;, score=nan total time=   0.0s\n",
      "[CV 4/5; 36/72] START featselect__pca__n_components=2, featselect__univ_select__k=2, rfc__max_depth=2, rfc__min_samples_split=4, rfc__n_estimators=400\n",
      "[CV 4/5; 36/72] END featselect__pca__n_components=2, featselect__univ_select__k=2, rfc__max_depth=2, rfc__min_samples_split=4, rfc__n_estimators=400;, score=nan total time=   0.0s\n",
      "[CV 5/5; 36/72] START featselect__pca__n_components=2, featselect__univ_select__k=2, rfc__max_depth=2, rfc__min_samples_split=4, rfc__n_estimators=400\n",
      "[CV 5/5; 36/72] END featselect__pca__n_components=2, featselect__univ_select__k=2, rfc__max_depth=2, rfc__min_samples_split=4, rfc__n_estimators=400;, score=nan total time=   0.0s\n",
      "[CV 1/5; 37/72] START featselect__pca__n_components=2, featselect__univ_select__k=2, rfc__max_depth=4, rfc__min_samples_split=2, rfc__n_estimators=200\n",
      "[CV 1/5; 37/72] END featselect__pca__n_components=2, featselect__univ_select__k=2, rfc__max_depth=4, rfc__min_samples_split=2, rfc__n_estimators=200;, score=nan total time=   0.0s\n",
      "[CV 2/5; 37/72] START featselect__pca__n_components=2, featselect__univ_select__k=2, rfc__max_depth=4, rfc__min_samples_split=2, rfc__n_estimators=200\n",
      "[CV 2/5; 37/72] END featselect__pca__n_components=2, featselect__univ_select__k=2, rfc__max_depth=4, rfc__min_samples_split=2, rfc__n_estimators=200;, score=nan total time=   0.0s\n",
      "[CV 3/5; 37/72] START featselect__pca__n_components=2, featselect__univ_select__k=2, rfc__max_depth=4, rfc__min_samples_split=2, rfc__n_estimators=200\n",
      "[CV 3/5; 37/72] END featselect__pca__n_components=2, featselect__univ_select__k=2, rfc__max_depth=4, rfc__min_samples_split=2, rfc__n_estimators=200;, score=nan total time=   0.0s\n",
      "[CV 4/5; 37/72] START featselect__pca__n_components=2, featselect__univ_select__k=2, rfc__max_depth=4, rfc__min_samples_split=2, rfc__n_estimators=200\n",
      "[CV 4/5; 37/72] END featselect__pca__n_components=2, featselect__univ_select__k=2, rfc__max_depth=4, rfc__min_samples_split=2, rfc__n_estimators=200;, score=nan total time=   0.0s\n",
      "[CV 5/5; 37/72] START featselect__pca__n_components=2, featselect__univ_select__k=2, rfc__max_depth=4, rfc__min_samples_split=2, rfc__n_estimators=200\n",
      "[CV 5/5; 37/72] END featselect__pca__n_components=2, featselect__univ_select__k=2, rfc__max_depth=4, rfc__min_samples_split=2, rfc__n_estimators=200;, score=nan total time=   0.0s\n",
      "[CV 1/5; 38/72] START featselect__pca__n_components=2, featselect__univ_select__k=2, rfc__max_depth=4, rfc__min_samples_split=2, rfc__n_estimators=400\n",
      "[CV 1/5; 38/72] END featselect__pca__n_components=2, featselect__univ_select__k=2, rfc__max_depth=4, rfc__min_samples_split=2, rfc__n_estimators=400;, score=nan total time=   0.0s\n",
      "[CV 2/5; 38/72] START featselect__pca__n_components=2, featselect__univ_select__k=2, rfc__max_depth=4, rfc__min_samples_split=2, rfc__n_estimators=400\n",
      "[CV 2/5; 38/72] END featselect__pca__n_components=2, featselect__univ_select__k=2, rfc__max_depth=4, rfc__min_samples_split=2, rfc__n_estimators=400;, score=nan total time=   0.0s\n",
      "[CV 3/5; 38/72] START featselect__pca__n_components=2, featselect__univ_select__k=2, rfc__max_depth=4, rfc__min_samples_split=2, rfc__n_estimators=400\n",
      "[CV 3/5; 38/72] END featselect__pca__n_components=2, featselect__univ_select__k=2, rfc__max_depth=4, rfc__min_samples_split=2, rfc__n_estimators=400;, score=nan total time=   0.0s\n",
      "[CV 4/5; 38/72] START featselect__pca__n_components=2, featselect__univ_select__k=2, rfc__max_depth=4, rfc__min_samples_split=2, rfc__n_estimators=400\n",
      "[CV 4/5; 38/72] END featselect__pca__n_components=2, featselect__univ_select__k=2, rfc__max_depth=4, rfc__min_samples_split=2, rfc__n_estimators=400;, score=nan total time=   0.0s\n",
      "[CV 5/5; 38/72] START featselect__pca__n_components=2, featselect__univ_select__k=2, rfc__max_depth=4, rfc__min_samples_split=2, rfc__n_estimators=400\n",
      "[CV 5/5; 38/72] END featselect__pca__n_components=2, featselect__univ_select__k=2, rfc__max_depth=4, rfc__min_samples_split=2, rfc__n_estimators=400;, score=nan total time=   0.0s\n",
      "[CV 1/5; 39/72] START featselect__pca__n_components=2, featselect__univ_select__k=2, rfc__max_depth=4, rfc__min_samples_split=4, rfc__n_estimators=200\n",
      "[CV 1/5; 39/72] END featselect__pca__n_components=2, featselect__univ_select__k=2, rfc__max_depth=4, rfc__min_samples_split=4, rfc__n_estimators=200;, score=nan total time=   0.0s\n",
      "[CV 2/5; 39/72] START featselect__pca__n_components=2, featselect__univ_select__k=2, rfc__max_depth=4, rfc__min_samples_split=4, rfc__n_estimators=200\n",
      "[CV 2/5; 39/72] END featselect__pca__n_components=2, featselect__univ_select__k=2, rfc__max_depth=4, rfc__min_samples_split=4, rfc__n_estimators=200;, score=nan total time=   0.0s\n",
      "[CV 3/5; 39/72] START featselect__pca__n_components=2, featselect__univ_select__k=2, rfc__max_depth=4, rfc__min_samples_split=4, rfc__n_estimators=200\n",
      "[CV 3/5; 39/72] END featselect__pca__n_components=2, featselect__univ_select__k=2, rfc__max_depth=4, rfc__min_samples_split=4, rfc__n_estimators=200;, score=nan total time=   0.0s\n",
      "[CV 4/5; 39/72] START featselect__pca__n_components=2, featselect__univ_select__k=2, rfc__max_depth=4, rfc__min_samples_split=4, rfc__n_estimators=200\n",
      "[CV 4/5; 39/72] END featselect__pca__n_components=2, featselect__univ_select__k=2, rfc__max_depth=4, rfc__min_samples_split=4, rfc__n_estimators=200;, score=nan total time=   0.0s\n",
      "[CV 5/5; 39/72] START featselect__pca__n_components=2, featselect__univ_select__k=2, rfc__max_depth=4, rfc__min_samples_split=4, rfc__n_estimators=200\n",
      "[CV 5/5; 39/72] END featselect__pca__n_components=2, featselect__univ_select__k=2, rfc__max_depth=4, rfc__min_samples_split=4, rfc__n_estimators=200;, score=nan total time=   0.0s\n",
      "[CV 1/5; 40/72] START featselect__pca__n_components=2, featselect__univ_select__k=2, rfc__max_depth=4, rfc__min_samples_split=4, rfc__n_estimators=400\n",
      "[CV 1/5; 40/72] END featselect__pca__n_components=2, featselect__univ_select__k=2, rfc__max_depth=4, rfc__min_samples_split=4, rfc__n_estimators=400;, score=nan total time=   0.0s\n",
      "[CV 2/5; 40/72] START featselect__pca__n_components=2, featselect__univ_select__k=2, rfc__max_depth=4, rfc__min_samples_split=4, rfc__n_estimators=400\n",
      "[CV 2/5; 40/72] END featselect__pca__n_components=2, featselect__univ_select__k=2, rfc__max_depth=4, rfc__min_samples_split=4, rfc__n_estimators=400;, score=nan total time=   0.0s\n",
      "[CV 3/5; 40/72] START featselect__pca__n_components=2, featselect__univ_select__k=2, rfc__max_depth=4, rfc__min_samples_split=4, rfc__n_estimators=400\n",
      "[CV 3/5; 40/72] END featselect__pca__n_components=2, featselect__univ_select__k=2, rfc__max_depth=4, rfc__min_samples_split=4, rfc__n_estimators=400;, score=nan total time=   0.0s\n",
      "[CV 4/5; 40/72] START featselect__pca__n_components=2, featselect__univ_select__k=2, rfc__max_depth=4, rfc__min_samples_split=4, rfc__n_estimators=400\n",
      "[CV 4/5; 40/72] END featselect__pca__n_components=2, featselect__univ_select__k=2, rfc__max_depth=4, rfc__min_samples_split=4, rfc__n_estimators=400;, score=nan total time=   0.0s\n",
      "[CV 5/5; 40/72] START featselect__pca__n_components=2, featselect__univ_select__k=2, rfc__max_depth=4, rfc__min_samples_split=4, rfc__n_estimators=400\n",
      "[CV 5/5; 40/72] END featselect__pca__n_components=2, featselect__univ_select__k=2, rfc__max_depth=4, rfc__min_samples_split=4, rfc__n_estimators=400;, score=nan total time=   0.0s\n",
      "[CV 1/5; 41/72] START featselect__pca__n_components=2, featselect__univ_select__k=3, rfc__max_depth=2, rfc__min_samples_split=2, rfc__n_estimators=200\n",
      "[CV 1/5; 41/72] END featselect__pca__n_components=2, featselect__univ_select__k=3, rfc__max_depth=2, rfc__min_samples_split=2, rfc__n_estimators=200;, score=nan total time=   0.0s\n",
      "[CV 2/5; 41/72] START featselect__pca__n_components=2, featselect__univ_select__k=3, rfc__max_depth=2, rfc__min_samples_split=2, rfc__n_estimators=200\n",
      "[CV 2/5; 41/72] END featselect__pca__n_components=2, featselect__univ_select__k=3, rfc__max_depth=2, rfc__min_samples_split=2, rfc__n_estimators=200;, score=nan total time=   0.0s\n",
      "[CV 3/5; 41/72] START featselect__pca__n_components=2, featselect__univ_select__k=3, rfc__max_depth=2, rfc__min_samples_split=2, rfc__n_estimators=200\n",
      "[CV 3/5; 41/72] END featselect__pca__n_components=2, featselect__univ_select__k=3, rfc__max_depth=2, rfc__min_samples_split=2, rfc__n_estimators=200;, score=nan total time=   0.0s\n",
      "[CV 4/5; 41/72] START featselect__pca__n_components=2, featselect__univ_select__k=3, rfc__max_depth=2, rfc__min_samples_split=2, rfc__n_estimators=200\n",
      "[CV 4/5; 41/72] END featselect__pca__n_components=2, featselect__univ_select__k=3, rfc__max_depth=2, rfc__min_samples_split=2, rfc__n_estimators=200;, score=nan total time=   0.0s\n",
      "[CV 5/5; 41/72] START featselect__pca__n_components=2, featselect__univ_select__k=3, rfc__max_depth=2, rfc__min_samples_split=2, rfc__n_estimators=200\n",
      "[CV 5/5; 41/72] END featselect__pca__n_components=2, featselect__univ_select__k=3, rfc__max_depth=2, rfc__min_samples_split=2, rfc__n_estimators=200;, score=nan total time=   0.0s\n",
      "[CV 1/5; 42/72] START featselect__pca__n_components=2, featselect__univ_select__k=3, rfc__max_depth=2, rfc__min_samples_split=2, rfc__n_estimators=400\n",
      "[CV 1/5; 42/72] END featselect__pca__n_components=2, featselect__univ_select__k=3, rfc__max_depth=2, rfc__min_samples_split=2, rfc__n_estimators=400;, score=nan total time=   0.0s\n",
      "[CV 2/5; 42/72] START featselect__pca__n_components=2, featselect__univ_select__k=3, rfc__max_depth=2, rfc__min_samples_split=2, rfc__n_estimators=400\n",
      "[CV 2/5; 42/72] END featselect__pca__n_components=2, featselect__univ_select__k=3, rfc__max_depth=2, rfc__min_samples_split=2, rfc__n_estimators=400;, score=nan total time=   0.0s\n",
      "[CV 3/5; 42/72] START featselect__pca__n_components=2, featselect__univ_select__k=3, rfc__max_depth=2, rfc__min_samples_split=2, rfc__n_estimators=400\n",
      "[CV 3/5; 42/72] END featselect__pca__n_components=2, featselect__univ_select__k=3, rfc__max_depth=2, rfc__min_samples_split=2, rfc__n_estimators=400;, score=nan total time=   0.0s\n",
      "[CV 4/5; 42/72] START featselect__pca__n_components=2, featselect__univ_select__k=3, rfc__max_depth=2, rfc__min_samples_split=2, rfc__n_estimators=400\n",
      "[CV 4/5; 42/72] END featselect__pca__n_components=2, featselect__univ_select__k=3, rfc__max_depth=2, rfc__min_samples_split=2, rfc__n_estimators=400;, score=nan total time=   0.0s\n",
      "[CV 5/5; 42/72] START featselect__pca__n_components=2, featselect__univ_select__k=3, rfc__max_depth=2, rfc__min_samples_split=2, rfc__n_estimators=400\n",
      "[CV 5/5; 42/72] END featselect__pca__n_components=2, featselect__univ_select__k=3, rfc__max_depth=2, rfc__min_samples_split=2, rfc__n_estimators=400;, score=nan total time=   0.0s\n",
      "[CV 1/5; 43/72] START featselect__pca__n_components=2, featselect__univ_select__k=3, rfc__max_depth=2, rfc__min_samples_split=4, rfc__n_estimators=200\n",
      "[CV 1/5; 43/72] END featselect__pca__n_components=2, featselect__univ_select__k=3, rfc__max_depth=2, rfc__min_samples_split=4, rfc__n_estimators=200;, score=nan total time=   0.0s\n",
      "[CV 2/5; 43/72] START featselect__pca__n_components=2, featselect__univ_select__k=3, rfc__max_depth=2, rfc__min_samples_split=4, rfc__n_estimators=200\n",
      "[CV 2/5; 43/72] END featselect__pca__n_components=2, featselect__univ_select__k=3, rfc__max_depth=2, rfc__min_samples_split=4, rfc__n_estimators=200;, score=nan total time=   0.0s\n",
      "[CV 3/5; 43/72] START featselect__pca__n_components=2, featselect__univ_select__k=3, rfc__max_depth=2, rfc__min_samples_split=4, rfc__n_estimators=200\n",
      "[CV 3/5; 43/72] END featselect__pca__n_components=2, featselect__univ_select__k=3, rfc__max_depth=2, rfc__min_samples_split=4, rfc__n_estimators=200;, score=nan total time=   0.0s\n",
      "[CV 4/5; 43/72] START featselect__pca__n_components=2, featselect__univ_select__k=3, rfc__max_depth=2, rfc__min_samples_split=4, rfc__n_estimators=200\n",
      "[CV 4/5; 43/72] END featselect__pca__n_components=2, featselect__univ_select__k=3, rfc__max_depth=2, rfc__min_samples_split=4, rfc__n_estimators=200;, score=nan total time=   0.0s\n",
      "[CV 5/5; 43/72] START featselect__pca__n_components=2, featselect__univ_select__k=3, rfc__max_depth=2, rfc__min_samples_split=4, rfc__n_estimators=200\n",
      "[CV 5/5; 43/72] END featselect__pca__n_components=2, featselect__univ_select__k=3, rfc__max_depth=2, rfc__min_samples_split=4, rfc__n_estimators=200;, score=nan total time=   0.0s\n",
      "[CV 1/5; 44/72] START featselect__pca__n_components=2, featselect__univ_select__k=3, rfc__max_depth=2, rfc__min_samples_split=4, rfc__n_estimators=400\n",
      "[CV 1/5; 44/72] END featselect__pca__n_components=2, featselect__univ_select__k=3, rfc__max_depth=2, rfc__min_samples_split=4, rfc__n_estimators=400;, score=nan total time=   0.0s\n",
      "[CV 2/5; 44/72] START featselect__pca__n_components=2, featselect__univ_select__k=3, rfc__max_depth=2, rfc__min_samples_split=4, rfc__n_estimators=400\n",
      "[CV 2/5; 44/72] END featselect__pca__n_components=2, featselect__univ_select__k=3, rfc__max_depth=2, rfc__min_samples_split=4, rfc__n_estimators=400;, score=nan total time=   0.0s\n",
      "[CV 3/5; 44/72] START featselect__pca__n_components=2, featselect__univ_select__k=3, rfc__max_depth=2, rfc__min_samples_split=4, rfc__n_estimators=400\n",
      "[CV 3/5; 44/72] END featselect__pca__n_components=2, featselect__univ_select__k=3, rfc__max_depth=2, rfc__min_samples_split=4, rfc__n_estimators=400;, score=nan total time=   0.0s\n",
      "[CV 4/5; 44/72] START featselect__pca__n_components=2, featselect__univ_select__k=3, rfc__max_depth=2, rfc__min_samples_split=4, rfc__n_estimators=400\n",
      "[CV 4/5; 44/72] END featselect__pca__n_components=2, featselect__univ_select__k=3, rfc__max_depth=2, rfc__min_samples_split=4, rfc__n_estimators=400;, score=nan total time=   0.0s\n",
      "[CV 5/5; 44/72] START featselect__pca__n_components=2, featselect__univ_select__k=3, rfc__max_depth=2, rfc__min_samples_split=4, rfc__n_estimators=400\n",
      "[CV 5/5; 44/72] END featselect__pca__n_components=2, featselect__univ_select__k=3, rfc__max_depth=2, rfc__min_samples_split=4, rfc__n_estimators=400;, score=nan total time=   0.0s\n",
      "[CV 1/5; 45/72] START featselect__pca__n_components=2, featselect__univ_select__k=3, rfc__max_depth=4, rfc__min_samples_split=2, rfc__n_estimators=200\n",
      "[CV 1/5; 45/72] END featselect__pca__n_components=2, featselect__univ_select__k=3, rfc__max_depth=4, rfc__min_samples_split=2, rfc__n_estimators=200;, score=nan total time=   0.0s\n",
      "[CV 2/5; 45/72] START featselect__pca__n_components=2, featselect__univ_select__k=3, rfc__max_depth=4, rfc__min_samples_split=2, rfc__n_estimators=200\n",
      "[CV 2/5; 45/72] END featselect__pca__n_components=2, featselect__univ_select__k=3, rfc__max_depth=4, rfc__min_samples_split=2, rfc__n_estimators=200;, score=nan total time=   0.0s\n",
      "[CV 3/5; 45/72] START featselect__pca__n_components=2, featselect__univ_select__k=3, rfc__max_depth=4, rfc__min_samples_split=2, rfc__n_estimators=200\n",
      "[CV 3/5; 45/72] END featselect__pca__n_components=2, featselect__univ_select__k=3, rfc__max_depth=4, rfc__min_samples_split=2, rfc__n_estimators=200;, score=nan total time=   0.0s\n",
      "[CV 4/5; 45/72] START featselect__pca__n_components=2, featselect__univ_select__k=3, rfc__max_depth=4, rfc__min_samples_split=2, rfc__n_estimators=200\n",
      "[CV 4/5; 45/72] END featselect__pca__n_components=2, featselect__univ_select__k=3, rfc__max_depth=4, rfc__min_samples_split=2, rfc__n_estimators=200;, score=nan total time=   0.0s\n",
      "[CV 5/5; 45/72] START featselect__pca__n_components=2, featselect__univ_select__k=3, rfc__max_depth=4, rfc__min_samples_split=2, rfc__n_estimators=200\n",
      "[CV 5/5; 45/72] END featselect__pca__n_components=2, featselect__univ_select__k=3, rfc__max_depth=4, rfc__min_samples_split=2, rfc__n_estimators=200;, score=nan total time=   0.0s\n",
      "[CV 1/5; 46/72] START featselect__pca__n_components=2, featselect__univ_select__k=3, rfc__max_depth=4, rfc__min_samples_split=2, rfc__n_estimators=400\n",
      "[CV 1/5; 46/72] END featselect__pca__n_components=2, featselect__univ_select__k=3, rfc__max_depth=4, rfc__min_samples_split=2, rfc__n_estimators=400;, score=nan total time=   0.0s\n",
      "[CV 2/5; 46/72] START featselect__pca__n_components=2, featselect__univ_select__k=3, rfc__max_depth=4, rfc__min_samples_split=2, rfc__n_estimators=400\n",
      "[CV 2/5; 46/72] END featselect__pca__n_components=2, featselect__univ_select__k=3, rfc__max_depth=4, rfc__min_samples_split=2, rfc__n_estimators=400;, score=nan total time=   0.0s\n",
      "[CV 3/5; 46/72] START featselect__pca__n_components=2, featselect__univ_select__k=3, rfc__max_depth=4, rfc__min_samples_split=2, rfc__n_estimators=400\n",
      "[CV 3/5; 46/72] END featselect__pca__n_components=2, featselect__univ_select__k=3, rfc__max_depth=4, rfc__min_samples_split=2, rfc__n_estimators=400;, score=nan total time=   0.0s\n",
      "[CV 4/5; 46/72] START featselect__pca__n_components=2, featselect__univ_select__k=3, rfc__max_depth=4, rfc__min_samples_split=2, rfc__n_estimators=400\n",
      "[CV 4/5; 46/72] END featselect__pca__n_components=2, featselect__univ_select__k=3, rfc__max_depth=4, rfc__min_samples_split=2, rfc__n_estimators=400;, score=nan total time=   0.0s\n",
      "[CV 5/5; 46/72] START featselect__pca__n_components=2, featselect__univ_select__k=3, rfc__max_depth=4, rfc__min_samples_split=2, rfc__n_estimators=400\n",
      "[CV 5/5; 46/72] END featselect__pca__n_components=2, featselect__univ_select__k=3, rfc__max_depth=4, rfc__min_samples_split=2, rfc__n_estimators=400;, score=nan total time=   0.0s\n",
      "[CV 1/5; 47/72] START featselect__pca__n_components=2, featselect__univ_select__k=3, rfc__max_depth=4, rfc__min_samples_split=4, rfc__n_estimators=200\n",
      "[CV 1/5; 47/72] END featselect__pca__n_components=2, featselect__univ_select__k=3, rfc__max_depth=4, rfc__min_samples_split=4, rfc__n_estimators=200;, score=nan total time=   0.0s\n",
      "[CV 2/5; 47/72] START featselect__pca__n_components=2, featselect__univ_select__k=3, rfc__max_depth=4, rfc__min_samples_split=4, rfc__n_estimators=200\n",
      "[CV 2/5; 47/72] END featselect__pca__n_components=2, featselect__univ_select__k=3, rfc__max_depth=4, rfc__min_samples_split=4, rfc__n_estimators=200;, score=nan total time=   0.0s\n",
      "[CV 3/5; 47/72] START featselect__pca__n_components=2, featselect__univ_select__k=3, rfc__max_depth=4, rfc__min_samples_split=4, rfc__n_estimators=200\n",
      "[CV 3/5; 47/72] END featselect__pca__n_components=2, featselect__univ_select__k=3, rfc__max_depth=4, rfc__min_samples_split=4, rfc__n_estimators=200;, score=nan total time=   0.0s\n",
      "[CV 4/5; 47/72] START featselect__pca__n_components=2, featselect__univ_select__k=3, rfc__max_depth=4, rfc__min_samples_split=4, rfc__n_estimators=200\n",
      "[CV 4/5; 47/72] END featselect__pca__n_components=2, featselect__univ_select__k=3, rfc__max_depth=4, rfc__min_samples_split=4, rfc__n_estimators=200;, score=nan total time=   0.0s\n",
      "[CV 5/5; 47/72] START featselect__pca__n_components=2, featselect__univ_select__k=3, rfc__max_depth=4, rfc__min_samples_split=4, rfc__n_estimators=200\n",
      "[CV 5/5; 47/72] END featselect__pca__n_components=2, featselect__univ_select__k=3, rfc__max_depth=4, rfc__min_samples_split=4, rfc__n_estimators=200;, score=nan total time=   0.0s\n",
      "[CV 1/5; 48/72] START featselect__pca__n_components=2, featselect__univ_select__k=3, rfc__max_depth=4, rfc__min_samples_split=4, rfc__n_estimators=400\n",
      "[CV 1/5; 48/72] END featselect__pca__n_components=2, featselect__univ_select__k=3, rfc__max_depth=4, rfc__min_samples_split=4, rfc__n_estimators=400;, score=nan total time=   0.0s\n",
      "[CV 2/5; 48/72] START featselect__pca__n_components=2, featselect__univ_select__k=3, rfc__max_depth=4, rfc__min_samples_split=4, rfc__n_estimators=400\n",
      "[CV 2/5; 48/72] END featselect__pca__n_components=2, featselect__univ_select__k=3, rfc__max_depth=4, rfc__min_samples_split=4, rfc__n_estimators=400;, score=nan total time=   0.0s\n",
      "[CV 3/5; 48/72] START featselect__pca__n_components=2, featselect__univ_select__k=3, rfc__max_depth=4, rfc__min_samples_split=4, rfc__n_estimators=400\n",
      "[CV 3/5; 48/72] END featselect__pca__n_components=2, featselect__univ_select__k=3, rfc__max_depth=4, rfc__min_samples_split=4, rfc__n_estimators=400;, score=nan total time=   0.0s\n",
      "[CV 4/5; 48/72] START featselect__pca__n_components=2, featselect__univ_select__k=3, rfc__max_depth=4, rfc__min_samples_split=4, rfc__n_estimators=400\n",
      "[CV 4/5; 48/72] END featselect__pca__n_components=2, featselect__univ_select__k=3, rfc__max_depth=4, rfc__min_samples_split=4, rfc__n_estimators=400;, score=nan total time=   0.0s\n",
      "[CV 5/5; 48/72] START featselect__pca__n_components=2, featselect__univ_select__k=3, rfc__max_depth=4, rfc__min_samples_split=4, rfc__n_estimators=400\n",
      "[CV 5/5; 48/72] END featselect__pca__n_components=2, featselect__univ_select__k=3, rfc__max_depth=4, rfc__min_samples_split=4, rfc__n_estimators=400;, score=nan total time=   0.0s\n",
      "[CV 1/5; 49/72] START featselect__pca__n_components=3, featselect__univ_select__k=1, rfc__max_depth=2, rfc__min_samples_split=2, rfc__n_estimators=200\n",
      "[CV 1/5; 49/72] END featselect__pca__n_components=3, featselect__univ_select__k=1, rfc__max_depth=2, rfc__min_samples_split=2, rfc__n_estimators=200;, score=nan total time=   0.0s\n",
      "[CV 2/5; 49/72] START featselect__pca__n_components=3, featselect__univ_select__k=1, rfc__max_depth=2, rfc__min_samples_split=2, rfc__n_estimators=200\n",
      "[CV 2/5; 49/72] END featselect__pca__n_components=3, featselect__univ_select__k=1, rfc__max_depth=2, rfc__min_samples_split=2, rfc__n_estimators=200;, score=nan total time=   0.0s\n",
      "[CV 3/5; 49/72] START featselect__pca__n_components=3, featselect__univ_select__k=1, rfc__max_depth=2, rfc__min_samples_split=2, rfc__n_estimators=200\n",
      "[CV 3/5; 49/72] END featselect__pca__n_components=3, featselect__univ_select__k=1, rfc__max_depth=2, rfc__min_samples_split=2, rfc__n_estimators=200;, score=nan total time=   0.0s\n",
      "[CV 4/5; 49/72] START featselect__pca__n_components=3, featselect__univ_select__k=1, rfc__max_depth=2, rfc__min_samples_split=2, rfc__n_estimators=200\n",
      "[CV 4/5; 49/72] END featselect__pca__n_components=3, featselect__univ_select__k=1, rfc__max_depth=2, rfc__min_samples_split=2, rfc__n_estimators=200;, score=nan total time=   0.0s\n",
      "[CV 5/5; 49/72] START featselect__pca__n_components=3, featselect__univ_select__k=1, rfc__max_depth=2, rfc__min_samples_split=2, rfc__n_estimators=200\n",
      "[CV 5/5; 49/72] END featselect__pca__n_components=3, featselect__univ_select__k=1, rfc__max_depth=2, rfc__min_samples_split=2, rfc__n_estimators=200;, score=nan total time=   0.0s\n",
      "[CV 1/5; 50/72] START featselect__pca__n_components=3, featselect__univ_select__k=1, rfc__max_depth=2, rfc__min_samples_split=2, rfc__n_estimators=400\n",
      "[CV 1/5; 50/72] END featselect__pca__n_components=3, featselect__univ_select__k=1, rfc__max_depth=2, rfc__min_samples_split=2, rfc__n_estimators=400;, score=nan total time=   0.0s\n",
      "[CV 2/5; 50/72] START featselect__pca__n_components=3, featselect__univ_select__k=1, rfc__max_depth=2, rfc__min_samples_split=2, rfc__n_estimators=400\n",
      "[CV 2/5; 50/72] END featselect__pca__n_components=3, featselect__univ_select__k=1, rfc__max_depth=2, rfc__min_samples_split=2, rfc__n_estimators=400;, score=nan total time=   0.0s\n",
      "[CV 3/5; 50/72] START featselect__pca__n_components=3, featselect__univ_select__k=1, rfc__max_depth=2, rfc__min_samples_split=2, rfc__n_estimators=400\n",
      "[CV 3/5; 50/72] END featselect__pca__n_components=3, featselect__univ_select__k=1, rfc__max_depth=2, rfc__min_samples_split=2, rfc__n_estimators=400;, score=nan total time=   0.0s\n",
      "[CV 4/5; 50/72] START featselect__pca__n_components=3, featselect__univ_select__k=1, rfc__max_depth=2, rfc__min_samples_split=2, rfc__n_estimators=400\n",
      "[CV 4/5; 50/72] END featselect__pca__n_components=3, featselect__univ_select__k=1, rfc__max_depth=2, rfc__min_samples_split=2, rfc__n_estimators=400;, score=nan total time=   0.0s\n",
      "[CV 5/5; 50/72] START featselect__pca__n_components=3, featselect__univ_select__k=1, rfc__max_depth=2, rfc__min_samples_split=2, rfc__n_estimators=400\n",
      "[CV 5/5; 50/72] END featselect__pca__n_components=3, featselect__univ_select__k=1, rfc__max_depth=2, rfc__min_samples_split=2, rfc__n_estimators=400;, score=nan total time=   0.0s\n",
      "[CV 1/5; 51/72] START featselect__pca__n_components=3, featselect__univ_select__k=1, rfc__max_depth=2, rfc__min_samples_split=4, rfc__n_estimators=200\n",
      "[CV 1/5; 51/72] END featselect__pca__n_components=3, featselect__univ_select__k=1, rfc__max_depth=2, rfc__min_samples_split=4, rfc__n_estimators=200;, score=nan total time=   0.0s\n",
      "[CV 2/5; 51/72] START featselect__pca__n_components=3, featselect__univ_select__k=1, rfc__max_depth=2, rfc__min_samples_split=4, rfc__n_estimators=200\n",
      "[CV 2/5; 51/72] END featselect__pca__n_components=3, featselect__univ_select__k=1, rfc__max_depth=2, rfc__min_samples_split=4, rfc__n_estimators=200;, score=nan total time=   0.0s\n",
      "[CV 3/5; 51/72] START featselect__pca__n_components=3, featselect__univ_select__k=1, rfc__max_depth=2, rfc__min_samples_split=4, rfc__n_estimators=200\n",
      "[CV 3/5; 51/72] END featselect__pca__n_components=3, featselect__univ_select__k=1, rfc__max_depth=2, rfc__min_samples_split=4, rfc__n_estimators=200;, score=nan total time=   0.0s\n",
      "[CV 4/5; 51/72] START featselect__pca__n_components=3, featselect__univ_select__k=1, rfc__max_depth=2, rfc__min_samples_split=4, rfc__n_estimators=200\n",
      "[CV 4/5; 51/72] END featselect__pca__n_components=3, featselect__univ_select__k=1, rfc__max_depth=2, rfc__min_samples_split=4, rfc__n_estimators=200;, score=nan total time=   0.0s\n",
      "[CV 5/5; 51/72] START featselect__pca__n_components=3, featselect__univ_select__k=1, rfc__max_depth=2, rfc__min_samples_split=4, rfc__n_estimators=200\n",
      "[CV 5/5; 51/72] END featselect__pca__n_components=3, featselect__univ_select__k=1, rfc__max_depth=2, rfc__min_samples_split=4, rfc__n_estimators=200;, score=nan total time=   0.0s\n",
      "[CV 1/5; 52/72] START featselect__pca__n_components=3, featselect__univ_select__k=1, rfc__max_depth=2, rfc__min_samples_split=4, rfc__n_estimators=400\n",
      "[CV 1/5; 52/72] END featselect__pca__n_components=3, featselect__univ_select__k=1, rfc__max_depth=2, rfc__min_samples_split=4, rfc__n_estimators=400;, score=nan total time=   0.0s\n",
      "[CV 2/5; 52/72] START featselect__pca__n_components=3, featselect__univ_select__k=1, rfc__max_depth=2, rfc__min_samples_split=4, rfc__n_estimators=400\n",
      "[CV 2/5; 52/72] END featselect__pca__n_components=3, featselect__univ_select__k=1, rfc__max_depth=2, rfc__min_samples_split=4, rfc__n_estimators=400;, score=nan total time=   0.0s\n",
      "[CV 3/5; 52/72] START featselect__pca__n_components=3, featselect__univ_select__k=1, rfc__max_depth=2, rfc__min_samples_split=4, rfc__n_estimators=400\n",
      "[CV 3/5; 52/72] END featselect__pca__n_components=3, featselect__univ_select__k=1, rfc__max_depth=2, rfc__min_samples_split=4, rfc__n_estimators=400;, score=nan total time=   0.0s\n",
      "[CV 4/5; 52/72] START featselect__pca__n_components=3, featselect__univ_select__k=1, rfc__max_depth=2, rfc__min_samples_split=4, rfc__n_estimators=400\n",
      "[CV 4/5; 52/72] END featselect__pca__n_components=3, featselect__univ_select__k=1, rfc__max_depth=2, rfc__min_samples_split=4, rfc__n_estimators=400;, score=nan total time=   0.0s\n",
      "[CV 5/5; 52/72] START featselect__pca__n_components=3, featselect__univ_select__k=1, rfc__max_depth=2, rfc__min_samples_split=4, rfc__n_estimators=400\n",
      "[CV 5/5; 52/72] END featselect__pca__n_components=3, featselect__univ_select__k=1, rfc__max_depth=2, rfc__min_samples_split=4, rfc__n_estimators=400;, score=nan total time=   0.0s\n",
      "[CV 1/5; 53/72] START featselect__pca__n_components=3, featselect__univ_select__k=1, rfc__max_depth=4, rfc__min_samples_split=2, rfc__n_estimators=200\n",
      "[CV 1/5; 53/72] END featselect__pca__n_components=3, featselect__univ_select__k=1, rfc__max_depth=4, rfc__min_samples_split=2, rfc__n_estimators=200;, score=nan total time=   0.0s\n",
      "[CV 2/5; 53/72] START featselect__pca__n_components=3, featselect__univ_select__k=1, rfc__max_depth=4, rfc__min_samples_split=2, rfc__n_estimators=200\n",
      "[CV 2/5; 53/72] END featselect__pca__n_components=3, featselect__univ_select__k=1, rfc__max_depth=4, rfc__min_samples_split=2, rfc__n_estimators=200;, score=nan total time=   0.0s\n",
      "[CV 3/5; 53/72] START featselect__pca__n_components=3, featselect__univ_select__k=1, rfc__max_depth=4, rfc__min_samples_split=2, rfc__n_estimators=200\n",
      "[CV 3/5; 53/72] END featselect__pca__n_components=3, featselect__univ_select__k=1, rfc__max_depth=4, rfc__min_samples_split=2, rfc__n_estimators=200;, score=nan total time=   0.0s\n",
      "[CV 4/5; 53/72] START featselect__pca__n_components=3, featselect__univ_select__k=1, rfc__max_depth=4, rfc__min_samples_split=2, rfc__n_estimators=200\n",
      "[CV 4/5; 53/72] END featselect__pca__n_components=3, featselect__univ_select__k=1, rfc__max_depth=4, rfc__min_samples_split=2, rfc__n_estimators=200;, score=nan total time=   0.0s\n",
      "[CV 5/5; 53/72] START featselect__pca__n_components=3, featselect__univ_select__k=1, rfc__max_depth=4, rfc__min_samples_split=2, rfc__n_estimators=200\n",
      "[CV 5/5; 53/72] END featselect__pca__n_components=3, featselect__univ_select__k=1, rfc__max_depth=4, rfc__min_samples_split=2, rfc__n_estimators=200;, score=nan total time=   0.0s\n",
      "[CV 1/5; 54/72] START featselect__pca__n_components=3, featselect__univ_select__k=1, rfc__max_depth=4, rfc__min_samples_split=2, rfc__n_estimators=400\n",
      "[CV 1/5; 54/72] END featselect__pca__n_components=3, featselect__univ_select__k=1, rfc__max_depth=4, rfc__min_samples_split=2, rfc__n_estimators=400;, score=nan total time=   0.0s\n",
      "[CV 2/5; 54/72] START featselect__pca__n_components=3, featselect__univ_select__k=1, rfc__max_depth=4, rfc__min_samples_split=2, rfc__n_estimators=400\n",
      "[CV 2/5; 54/72] END featselect__pca__n_components=3, featselect__univ_select__k=1, rfc__max_depth=4, rfc__min_samples_split=2, rfc__n_estimators=400;, score=nan total time=   0.0s\n",
      "[CV 3/5; 54/72] START featselect__pca__n_components=3, featselect__univ_select__k=1, rfc__max_depth=4, rfc__min_samples_split=2, rfc__n_estimators=400\n",
      "[CV 3/5; 54/72] END featselect__pca__n_components=3, featselect__univ_select__k=1, rfc__max_depth=4, rfc__min_samples_split=2, rfc__n_estimators=400;, score=nan total time=   0.0s\n",
      "[CV 4/5; 54/72] START featselect__pca__n_components=3, featselect__univ_select__k=1, rfc__max_depth=4, rfc__min_samples_split=2, rfc__n_estimators=400\n",
      "[CV 4/5; 54/72] END featselect__pca__n_components=3, featselect__univ_select__k=1, rfc__max_depth=4, rfc__min_samples_split=2, rfc__n_estimators=400;, score=nan total time=   0.0s\n",
      "[CV 5/5; 54/72] START featselect__pca__n_components=3, featselect__univ_select__k=1, rfc__max_depth=4, rfc__min_samples_split=2, rfc__n_estimators=400\n",
      "[CV 5/5; 54/72] END featselect__pca__n_components=3, featselect__univ_select__k=1, rfc__max_depth=4, rfc__min_samples_split=2, rfc__n_estimators=400;, score=nan total time=   0.0s\n",
      "[CV 1/5; 55/72] START featselect__pca__n_components=3, featselect__univ_select__k=1, rfc__max_depth=4, rfc__min_samples_split=4, rfc__n_estimators=200\n",
      "[CV 1/5; 55/72] END featselect__pca__n_components=3, featselect__univ_select__k=1, rfc__max_depth=4, rfc__min_samples_split=4, rfc__n_estimators=200;, score=nan total time=   0.0s\n",
      "[CV 2/5; 55/72] START featselect__pca__n_components=3, featselect__univ_select__k=1, rfc__max_depth=4, rfc__min_samples_split=4, rfc__n_estimators=200\n",
      "[CV 2/5; 55/72] END featselect__pca__n_components=3, featselect__univ_select__k=1, rfc__max_depth=4, rfc__min_samples_split=4, rfc__n_estimators=200;, score=nan total time=   0.0s\n",
      "[CV 3/5; 55/72] START featselect__pca__n_components=3, featselect__univ_select__k=1, rfc__max_depth=4, rfc__min_samples_split=4, rfc__n_estimators=200\n",
      "[CV 3/5; 55/72] END featselect__pca__n_components=3, featselect__univ_select__k=1, rfc__max_depth=4, rfc__min_samples_split=4, rfc__n_estimators=200;, score=nan total time=   0.0s\n",
      "[CV 4/5; 55/72] START featselect__pca__n_components=3, featselect__univ_select__k=1, rfc__max_depth=4, rfc__min_samples_split=4, rfc__n_estimators=200\n",
      "[CV 4/5; 55/72] END featselect__pca__n_components=3, featselect__univ_select__k=1, rfc__max_depth=4, rfc__min_samples_split=4, rfc__n_estimators=200;, score=nan total time=   0.0s\n",
      "[CV 5/5; 55/72] START featselect__pca__n_components=3, featselect__univ_select__k=1, rfc__max_depth=4, rfc__min_samples_split=4, rfc__n_estimators=200\n",
      "[CV 5/5; 55/72] END featselect__pca__n_components=3, featselect__univ_select__k=1, rfc__max_depth=4, rfc__min_samples_split=4, rfc__n_estimators=200;, score=nan total time=   0.0s\n",
      "[CV 1/5; 56/72] START featselect__pca__n_components=3, featselect__univ_select__k=1, rfc__max_depth=4, rfc__min_samples_split=4, rfc__n_estimators=400\n",
      "[CV 1/5; 56/72] END featselect__pca__n_components=3, featselect__univ_select__k=1, rfc__max_depth=4, rfc__min_samples_split=4, rfc__n_estimators=400;, score=nan total time=   0.0s\n",
      "[CV 2/5; 56/72] START featselect__pca__n_components=3, featselect__univ_select__k=1, rfc__max_depth=4, rfc__min_samples_split=4, rfc__n_estimators=400\n",
      "[CV 2/5; 56/72] END featselect__pca__n_components=3, featselect__univ_select__k=1, rfc__max_depth=4, rfc__min_samples_split=4, rfc__n_estimators=400;, score=nan total time=   0.0s\n",
      "[CV 3/5; 56/72] START featselect__pca__n_components=3, featselect__univ_select__k=1, rfc__max_depth=4, rfc__min_samples_split=4, rfc__n_estimators=400\n",
      "[CV 3/5; 56/72] END featselect__pca__n_components=3, featselect__univ_select__k=1, rfc__max_depth=4, rfc__min_samples_split=4, rfc__n_estimators=400;, score=nan total time=   0.0s\n",
      "[CV 4/5; 56/72] START featselect__pca__n_components=3, featselect__univ_select__k=1, rfc__max_depth=4, rfc__min_samples_split=4, rfc__n_estimators=400\n",
      "[CV 4/5; 56/72] END featselect__pca__n_components=3, featselect__univ_select__k=1, rfc__max_depth=4, rfc__min_samples_split=4, rfc__n_estimators=400;, score=nan total time=   0.0s\n",
      "[CV 5/5; 56/72] START featselect__pca__n_components=3, featselect__univ_select__k=1, rfc__max_depth=4, rfc__min_samples_split=4, rfc__n_estimators=400\n",
      "[CV 5/5; 56/72] END featselect__pca__n_components=3, featselect__univ_select__k=1, rfc__max_depth=4, rfc__min_samples_split=4, rfc__n_estimators=400;, score=nan total time=   0.0s\n",
      "[CV 1/5; 57/72] START featselect__pca__n_components=3, featselect__univ_select__k=2, rfc__max_depth=2, rfc__min_samples_split=2, rfc__n_estimators=200\n",
      "[CV 1/5; 57/72] END featselect__pca__n_components=3, featselect__univ_select__k=2, rfc__max_depth=2, rfc__min_samples_split=2, rfc__n_estimators=200;, score=nan total time=   0.0s\n",
      "[CV 2/5; 57/72] START featselect__pca__n_components=3, featselect__univ_select__k=2, rfc__max_depth=2, rfc__min_samples_split=2, rfc__n_estimators=200\n",
      "[CV 2/5; 57/72] END featselect__pca__n_components=3, featselect__univ_select__k=2, rfc__max_depth=2, rfc__min_samples_split=2, rfc__n_estimators=200;, score=nan total time=   0.0s\n",
      "[CV 3/5; 57/72] START featselect__pca__n_components=3, featselect__univ_select__k=2, rfc__max_depth=2, rfc__min_samples_split=2, rfc__n_estimators=200\n",
      "[CV 3/5; 57/72] END featselect__pca__n_components=3, featselect__univ_select__k=2, rfc__max_depth=2, rfc__min_samples_split=2, rfc__n_estimators=200;, score=nan total time=   0.0s\n",
      "[CV 4/5; 57/72] START featselect__pca__n_components=3, featselect__univ_select__k=2, rfc__max_depth=2, rfc__min_samples_split=2, rfc__n_estimators=200\n",
      "[CV 4/5; 57/72] END featselect__pca__n_components=3, featselect__univ_select__k=2, rfc__max_depth=2, rfc__min_samples_split=2, rfc__n_estimators=200;, score=nan total time=   0.0s\n",
      "[CV 5/5; 57/72] START featselect__pca__n_components=3, featselect__univ_select__k=2, rfc__max_depth=2, rfc__min_samples_split=2, rfc__n_estimators=200\n",
      "[CV 5/5; 57/72] END featselect__pca__n_components=3, featselect__univ_select__k=2, rfc__max_depth=2, rfc__min_samples_split=2, rfc__n_estimators=200;, score=nan total time=   0.0s\n",
      "[CV 1/5; 58/72] START featselect__pca__n_components=3, featselect__univ_select__k=2, rfc__max_depth=2, rfc__min_samples_split=2, rfc__n_estimators=400\n",
      "[CV 1/5; 58/72] END featselect__pca__n_components=3, featselect__univ_select__k=2, rfc__max_depth=2, rfc__min_samples_split=2, rfc__n_estimators=400;, score=nan total time=   0.0s\n",
      "[CV 2/5; 58/72] START featselect__pca__n_components=3, featselect__univ_select__k=2, rfc__max_depth=2, rfc__min_samples_split=2, rfc__n_estimators=400\n",
      "[CV 2/5; 58/72] END featselect__pca__n_components=3, featselect__univ_select__k=2, rfc__max_depth=2, rfc__min_samples_split=2, rfc__n_estimators=400;, score=nan total time=   0.0s\n",
      "[CV 3/5; 58/72] START featselect__pca__n_components=3, featselect__univ_select__k=2, rfc__max_depth=2, rfc__min_samples_split=2, rfc__n_estimators=400\n",
      "[CV 3/5; 58/72] END featselect__pca__n_components=3, featselect__univ_select__k=2, rfc__max_depth=2, rfc__min_samples_split=2, rfc__n_estimators=400;, score=nan total time=   0.0s\n",
      "[CV 4/5; 58/72] START featselect__pca__n_components=3, featselect__univ_select__k=2, rfc__max_depth=2, rfc__min_samples_split=2, rfc__n_estimators=400\n",
      "[CV 4/5; 58/72] END featselect__pca__n_components=3, featselect__univ_select__k=2, rfc__max_depth=2, rfc__min_samples_split=2, rfc__n_estimators=400;, score=nan total time=   0.0s\n",
      "[CV 5/5; 58/72] START featselect__pca__n_components=3, featselect__univ_select__k=2, rfc__max_depth=2, rfc__min_samples_split=2, rfc__n_estimators=400\n",
      "[CV 5/5; 58/72] END featselect__pca__n_components=3, featselect__univ_select__k=2, rfc__max_depth=2, rfc__min_samples_split=2, rfc__n_estimators=400;, score=nan total time=   0.0s\n",
      "[CV 1/5; 59/72] START featselect__pca__n_components=3, featselect__univ_select__k=2, rfc__max_depth=2, rfc__min_samples_split=4, rfc__n_estimators=200\n",
      "[CV 1/5; 59/72] END featselect__pca__n_components=3, featselect__univ_select__k=2, rfc__max_depth=2, rfc__min_samples_split=4, rfc__n_estimators=200;, score=nan total time=   0.0s\n",
      "[CV 2/5; 59/72] START featselect__pca__n_components=3, featselect__univ_select__k=2, rfc__max_depth=2, rfc__min_samples_split=4, rfc__n_estimators=200\n",
      "[CV 2/5; 59/72] END featselect__pca__n_components=3, featselect__univ_select__k=2, rfc__max_depth=2, rfc__min_samples_split=4, rfc__n_estimators=200;, score=nan total time=   0.0s\n",
      "[CV 3/5; 59/72] START featselect__pca__n_components=3, featselect__univ_select__k=2, rfc__max_depth=2, rfc__min_samples_split=4, rfc__n_estimators=200\n",
      "[CV 3/5; 59/72] END featselect__pca__n_components=3, featselect__univ_select__k=2, rfc__max_depth=2, rfc__min_samples_split=4, rfc__n_estimators=200;, score=nan total time=   0.0s\n",
      "[CV 4/5; 59/72] START featselect__pca__n_components=3, featselect__univ_select__k=2, rfc__max_depth=2, rfc__min_samples_split=4, rfc__n_estimators=200\n",
      "[CV 4/5; 59/72] END featselect__pca__n_components=3, featselect__univ_select__k=2, rfc__max_depth=2, rfc__min_samples_split=4, rfc__n_estimators=200;, score=nan total time=   0.0s\n",
      "[CV 5/5; 59/72] START featselect__pca__n_components=3, featselect__univ_select__k=2, rfc__max_depth=2, rfc__min_samples_split=4, rfc__n_estimators=200\n",
      "[CV 5/5; 59/72] END featselect__pca__n_components=3, featselect__univ_select__k=2, rfc__max_depth=2, rfc__min_samples_split=4, rfc__n_estimators=200;, score=nan total time=   0.0s\n",
      "[CV 1/5; 60/72] START featselect__pca__n_components=3, featselect__univ_select__k=2, rfc__max_depth=2, rfc__min_samples_split=4, rfc__n_estimators=400\n",
      "[CV 1/5; 60/72] END featselect__pca__n_components=3, featselect__univ_select__k=2, rfc__max_depth=2, rfc__min_samples_split=4, rfc__n_estimators=400;, score=nan total time=   0.0s\n",
      "[CV 2/5; 60/72] START featselect__pca__n_components=3, featselect__univ_select__k=2, rfc__max_depth=2, rfc__min_samples_split=4, rfc__n_estimators=400\n",
      "[CV 2/5; 60/72] END featselect__pca__n_components=3, featselect__univ_select__k=2, rfc__max_depth=2, rfc__min_samples_split=4, rfc__n_estimators=400;, score=nan total time=   0.0s\n",
      "[CV 3/5; 60/72] START featselect__pca__n_components=3, featselect__univ_select__k=2, rfc__max_depth=2, rfc__min_samples_split=4, rfc__n_estimators=400\n",
      "[CV 3/5; 60/72] END featselect__pca__n_components=3, featselect__univ_select__k=2, rfc__max_depth=2, rfc__min_samples_split=4, rfc__n_estimators=400;, score=nan total time=   0.0s\n",
      "[CV 4/5; 60/72] START featselect__pca__n_components=3, featselect__univ_select__k=2, rfc__max_depth=2, rfc__min_samples_split=4, rfc__n_estimators=400\n",
      "[CV 4/5; 60/72] END featselect__pca__n_components=3, featselect__univ_select__k=2, rfc__max_depth=2, rfc__min_samples_split=4, rfc__n_estimators=400;, score=nan total time=   0.0s\n",
      "[CV 5/5; 60/72] START featselect__pca__n_components=3, featselect__univ_select__k=2, rfc__max_depth=2, rfc__min_samples_split=4, rfc__n_estimators=400\n",
      "[CV 5/5; 60/72] END featselect__pca__n_components=3, featselect__univ_select__k=2, rfc__max_depth=2, rfc__min_samples_split=4, rfc__n_estimators=400;, score=nan total time=   0.0s\n",
      "[CV 1/5; 61/72] START featselect__pca__n_components=3, featselect__univ_select__k=2, rfc__max_depth=4, rfc__min_samples_split=2, rfc__n_estimators=200\n",
      "[CV 1/5; 61/72] END featselect__pca__n_components=3, featselect__univ_select__k=2, rfc__max_depth=4, rfc__min_samples_split=2, rfc__n_estimators=200;, score=nan total time=   0.0s\n",
      "[CV 2/5; 61/72] START featselect__pca__n_components=3, featselect__univ_select__k=2, rfc__max_depth=4, rfc__min_samples_split=2, rfc__n_estimators=200\n",
      "[CV 2/5; 61/72] END featselect__pca__n_components=3, featselect__univ_select__k=2, rfc__max_depth=4, rfc__min_samples_split=2, rfc__n_estimators=200;, score=nan total time=   0.0s\n",
      "[CV 3/5; 61/72] START featselect__pca__n_components=3, featselect__univ_select__k=2, rfc__max_depth=4, rfc__min_samples_split=2, rfc__n_estimators=200\n",
      "[CV 3/5; 61/72] END featselect__pca__n_components=3, featselect__univ_select__k=2, rfc__max_depth=4, rfc__min_samples_split=2, rfc__n_estimators=200;, score=nan total time=   0.0s\n",
      "[CV 4/5; 61/72] START featselect__pca__n_components=3, featselect__univ_select__k=2, rfc__max_depth=4, rfc__min_samples_split=2, rfc__n_estimators=200\n",
      "[CV 4/5; 61/72] END featselect__pca__n_components=3, featselect__univ_select__k=2, rfc__max_depth=4, rfc__min_samples_split=2, rfc__n_estimators=200;, score=nan total time=   0.0s\n",
      "[CV 5/5; 61/72] START featselect__pca__n_components=3, featselect__univ_select__k=2, rfc__max_depth=4, rfc__min_samples_split=2, rfc__n_estimators=200\n",
      "[CV 5/5; 61/72] END featselect__pca__n_components=3, featselect__univ_select__k=2, rfc__max_depth=4, rfc__min_samples_split=2, rfc__n_estimators=200;, score=nan total time=   0.0s\n",
      "[CV 1/5; 62/72] START featselect__pca__n_components=3, featselect__univ_select__k=2, rfc__max_depth=4, rfc__min_samples_split=2, rfc__n_estimators=400\n",
      "[CV 1/5; 62/72] END featselect__pca__n_components=3, featselect__univ_select__k=2, rfc__max_depth=4, rfc__min_samples_split=2, rfc__n_estimators=400;, score=nan total time=   0.0s\n",
      "[CV 2/5; 62/72] START featselect__pca__n_components=3, featselect__univ_select__k=2, rfc__max_depth=4, rfc__min_samples_split=2, rfc__n_estimators=400\n",
      "[CV 2/5; 62/72] END featselect__pca__n_components=3, featselect__univ_select__k=2, rfc__max_depth=4, rfc__min_samples_split=2, rfc__n_estimators=400;, score=nan total time=   0.0s\n",
      "[CV 3/5; 62/72] START featselect__pca__n_components=3, featselect__univ_select__k=2, rfc__max_depth=4, rfc__min_samples_split=2, rfc__n_estimators=400\n",
      "[CV 3/5; 62/72] END featselect__pca__n_components=3, featselect__univ_select__k=2, rfc__max_depth=4, rfc__min_samples_split=2, rfc__n_estimators=400;, score=nan total time=   0.0s\n",
      "[CV 4/5; 62/72] START featselect__pca__n_components=3, featselect__univ_select__k=2, rfc__max_depth=4, rfc__min_samples_split=2, rfc__n_estimators=400\n",
      "[CV 4/5; 62/72] END featselect__pca__n_components=3, featselect__univ_select__k=2, rfc__max_depth=4, rfc__min_samples_split=2, rfc__n_estimators=400;, score=nan total time=   0.0s\n",
      "[CV 5/5; 62/72] START featselect__pca__n_components=3, featselect__univ_select__k=2, rfc__max_depth=4, rfc__min_samples_split=2, rfc__n_estimators=400\n",
      "[CV 5/5; 62/72] END featselect__pca__n_components=3, featselect__univ_select__k=2, rfc__max_depth=4, rfc__min_samples_split=2, rfc__n_estimators=400;, score=nan total time=   0.0s\n",
      "[CV 1/5; 63/72] START featselect__pca__n_components=3, featselect__univ_select__k=2, rfc__max_depth=4, rfc__min_samples_split=4, rfc__n_estimators=200\n",
      "[CV 1/5; 63/72] END featselect__pca__n_components=3, featselect__univ_select__k=2, rfc__max_depth=4, rfc__min_samples_split=4, rfc__n_estimators=200;, score=nan total time=   0.0s\n",
      "[CV 2/5; 63/72] START featselect__pca__n_components=3, featselect__univ_select__k=2, rfc__max_depth=4, rfc__min_samples_split=4, rfc__n_estimators=200\n",
      "[CV 2/5; 63/72] END featselect__pca__n_components=3, featselect__univ_select__k=2, rfc__max_depth=4, rfc__min_samples_split=4, rfc__n_estimators=200;, score=nan total time=   0.0s\n",
      "[CV 3/5; 63/72] START featselect__pca__n_components=3, featselect__univ_select__k=2, rfc__max_depth=4, rfc__min_samples_split=4, rfc__n_estimators=200\n",
      "[CV 3/5; 63/72] END featselect__pca__n_components=3, featselect__univ_select__k=2, rfc__max_depth=4, rfc__min_samples_split=4, rfc__n_estimators=200;, score=nan total time=   0.0s\n",
      "[CV 4/5; 63/72] START featselect__pca__n_components=3, featselect__univ_select__k=2, rfc__max_depth=4, rfc__min_samples_split=4, rfc__n_estimators=200\n",
      "[CV 4/5; 63/72] END featselect__pca__n_components=3, featselect__univ_select__k=2, rfc__max_depth=4, rfc__min_samples_split=4, rfc__n_estimators=200;, score=nan total time=   0.0s\n",
      "[CV 5/5; 63/72] START featselect__pca__n_components=3, featselect__univ_select__k=2, rfc__max_depth=4, rfc__min_samples_split=4, rfc__n_estimators=200\n",
      "[CV 5/5; 63/72] END featselect__pca__n_components=3, featselect__univ_select__k=2, rfc__max_depth=4, rfc__min_samples_split=4, rfc__n_estimators=200;, score=nan total time=   0.0s\n",
      "[CV 1/5; 64/72] START featselect__pca__n_components=3, featselect__univ_select__k=2, rfc__max_depth=4, rfc__min_samples_split=4, rfc__n_estimators=400\n",
      "[CV 1/5; 64/72] END featselect__pca__n_components=3, featselect__univ_select__k=2, rfc__max_depth=4, rfc__min_samples_split=4, rfc__n_estimators=400;, score=nan total time=   0.0s\n",
      "[CV 2/5; 64/72] START featselect__pca__n_components=3, featselect__univ_select__k=2, rfc__max_depth=4, rfc__min_samples_split=4, rfc__n_estimators=400\n",
      "[CV 2/5; 64/72] END featselect__pca__n_components=3, featselect__univ_select__k=2, rfc__max_depth=4, rfc__min_samples_split=4, rfc__n_estimators=400;, score=nan total time=   0.0s\n",
      "[CV 3/5; 64/72] START featselect__pca__n_components=3, featselect__univ_select__k=2, rfc__max_depth=4, rfc__min_samples_split=4, rfc__n_estimators=400\n",
      "[CV 3/5; 64/72] END featselect__pca__n_components=3, featselect__univ_select__k=2, rfc__max_depth=4, rfc__min_samples_split=4, rfc__n_estimators=400;, score=nan total time=   0.0s\n",
      "[CV 4/5; 64/72] START featselect__pca__n_components=3, featselect__univ_select__k=2, rfc__max_depth=4, rfc__min_samples_split=4, rfc__n_estimators=400\n",
      "[CV 4/5; 64/72] END featselect__pca__n_components=3, featselect__univ_select__k=2, rfc__max_depth=4, rfc__min_samples_split=4, rfc__n_estimators=400;, score=nan total time=   0.0s\n",
      "[CV 5/5; 64/72] START featselect__pca__n_components=3, featselect__univ_select__k=2, rfc__max_depth=4, rfc__min_samples_split=4, rfc__n_estimators=400\n",
      "[CV 5/5; 64/72] END featselect__pca__n_components=3, featselect__univ_select__k=2, rfc__max_depth=4, rfc__min_samples_split=4, rfc__n_estimators=400;, score=nan total time=   0.0s\n",
      "[CV 1/5; 65/72] START featselect__pca__n_components=3, featselect__univ_select__k=3, rfc__max_depth=2, rfc__min_samples_split=2, rfc__n_estimators=200\n",
      "[CV 1/5; 65/72] END featselect__pca__n_components=3, featselect__univ_select__k=3, rfc__max_depth=2, rfc__min_samples_split=2, rfc__n_estimators=200;, score=nan total time=   0.0s\n",
      "[CV 2/5; 65/72] START featselect__pca__n_components=3, featselect__univ_select__k=3, rfc__max_depth=2, rfc__min_samples_split=2, rfc__n_estimators=200\n",
      "[CV 2/5; 65/72] END featselect__pca__n_components=3, featselect__univ_select__k=3, rfc__max_depth=2, rfc__min_samples_split=2, rfc__n_estimators=200;, score=nan total time=   0.0s\n",
      "[CV 3/5; 65/72] START featselect__pca__n_components=3, featselect__univ_select__k=3, rfc__max_depth=2, rfc__min_samples_split=2, rfc__n_estimators=200\n",
      "[CV 3/5; 65/72] END featselect__pca__n_components=3, featselect__univ_select__k=3, rfc__max_depth=2, rfc__min_samples_split=2, rfc__n_estimators=200;, score=nan total time=   0.0s\n",
      "[CV 4/5; 65/72] START featselect__pca__n_components=3, featselect__univ_select__k=3, rfc__max_depth=2, rfc__min_samples_split=2, rfc__n_estimators=200\n",
      "[CV 4/5; 65/72] END featselect__pca__n_components=3, featselect__univ_select__k=3, rfc__max_depth=2, rfc__min_samples_split=2, rfc__n_estimators=200;, score=nan total time=   0.0s\n",
      "[CV 5/5; 65/72] START featselect__pca__n_components=3, featselect__univ_select__k=3, rfc__max_depth=2, rfc__min_samples_split=2, rfc__n_estimators=200\n",
      "[CV 5/5; 65/72] END featselect__pca__n_components=3, featselect__univ_select__k=3, rfc__max_depth=2, rfc__min_samples_split=2, rfc__n_estimators=200;, score=nan total time=   0.0s\n",
      "[CV 1/5; 66/72] START featselect__pca__n_components=3, featselect__univ_select__k=3, rfc__max_depth=2, rfc__min_samples_split=2, rfc__n_estimators=400\n",
      "[CV 1/5; 66/72] END featselect__pca__n_components=3, featselect__univ_select__k=3, rfc__max_depth=2, rfc__min_samples_split=2, rfc__n_estimators=400;, score=nan total time=   0.0s\n",
      "[CV 2/5; 66/72] START featselect__pca__n_components=3, featselect__univ_select__k=3, rfc__max_depth=2, rfc__min_samples_split=2, rfc__n_estimators=400\n",
      "[CV 2/5; 66/72] END featselect__pca__n_components=3, featselect__univ_select__k=3, rfc__max_depth=2, rfc__min_samples_split=2, rfc__n_estimators=400;, score=nan total time=   0.0s\n",
      "[CV 3/5; 66/72] START featselect__pca__n_components=3, featselect__univ_select__k=3, rfc__max_depth=2, rfc__min_samples_split=2, rfc__n_estimators=400\n",
      "[CV 3/5; 66/72] END featselect__pca__n_components=3, featselect__univ_select__k=3, rfc__max_depth=2, rfc__min_samples_split=2, rfc__n_estimators=400;, score=nan total time=   0.0s\n",
      "[CV 4/5; 66/72] START featselect__pca__n_components=3, featselect__univ_select__k=3, rfc__max_depth=2, rfc__min_samples_split=2, rfc__n_estimators=400\n",
      "[CV 4/5; 66/72] END featselect__pca__n_components=3, featselect__univ_select__k=3, rfc__max_depth=2, rfc__min_samples_split=2, rfc__n_estimators=400;, score=nan total time=   0.0s\n",
      "[CV 5/5; 66/72] START featselect__pca__n_components=3, featselect__univ_select__k=3, rfc__max_depth=2, rfc__min_samples_split=2, rfc__n_estimators=400\n",
      "[CV 5/5; 66/72] END featselect__pca__n_components=3, featselect__univ_select__k=3, rfc__max_depth=2, rfc__min_samples_split=2, rfc__n_estimators=400;, score=nan total time=   0.0s\n",
      "[CV 1/5; 67/72] START featselect__pca__n_components=3, featselect__univ_select__k=3, rfc__max_depth=2, rfc__min_samples_split=4, rfc__n_estimators=200\n",
      "[CV 1/5; 67/72] END featselect__pca__n_components=3, featselect__univ_select__k=3, rfc__max_depth=2, rfc__min_samples_split=4, rfc__n_estimators=200;, score=nan total time=   0.0s\n",
      "[CV 2/5; 67/72] START featselect__pca__n_components=3, featselect__univ_select__k=3, rfc__max_depth=2, rfc__min_samples_split=4, rfc__n_estimators=200\n",
      "[CV 2/5; 67/72] END featselect__pca__n_components=3, featselect__univ_select__k=3, rfc__max_depth=2, rfc__min_samples_split=4, rfc__n_estimators=200;, score=nan total time=   0.0s\n",
      "[CV 3/5; 67/72] START featselect__pca__n_components=3, featselect__univ_select__k=3, rfc__max_depth=2, rfc__min_samples_split=4, rfc__n_estimators=200\n",
      "[CV 3/5; 67/72] END featselect__pca__n_components=3, featselect__univ_select__k=3, rfc__max_depth=2, rfc__min_samples_split=4, rfc__n_estimators=200;, score=nan total time=   0.0s\n",
      "[CV 4/5; 67/72] START featselect__pca__n_components=3, featselect__univ_select__k=3, rfc__max_depth=2, rfc__min_samples_split=4, rfc__n_estimators=200\n",
      "[CV 4/5; 67/72] END featselect__pca__n_components=3, featselect__univ_select__k=3, rfc__max_depth=2, rfc__min_samples_split=4, rfc__n_estimators=200;, score=nan total time=   0.0s\n",
      "[CV 5/5; 67/72] START featselect__pca__n_components=3, featselect__univ_select__k=3, rfc__max_depth=2, rfc__min_samples_split=4, rfc__n_estimators=200\n",
      "[CV 5/5; 67/72] END featselect__pca__n_components=3, featselect__univ_select__k=3, rfc__max_depth=2, rfc__min_samples_split=4, rfc__n_estimators=200;, score=nan total time=   0.0s\n",
      "[CV 1/5; 68/72] START featselect__pca__n_components=3, featselect__univ_select__k=3, rfc__max_depth=2, rfc__min_samples_split=4, rfc__n_estimators=400\n",
      "[CV 1/5; 68/72] END featselect__pca__n_components=3, featselect__univ_select__k=3, rfc__max_depth=2, rfc__min_samples_split=4, rfc__n_estimators=400;, score=nan total time=   0.0s\n",
      "[CV 2/5; 68/72] START featselect__pca__n_components=3, featselect__univ_select__k=3, rfc__max_depth=2, rfc__min_samples_split=4, rfc__n_estimators=400\n",
      "[CV 2/5; 68/72] END featselect__pca__n_components=3, featselect__univ_select__k=3, rfc__max_depth=2, rfc__min_samples_split=4, rfc__n_estimators=400;, score=nan total time=   0.0s\n",
      "[CV 3/5; 68/72] START featselect__pca__n_components=3, featselect__univ_select__k=3, rfc__max_depth=2, rfc__min_samples_split=4, rfc__n_estimators=400\n",
      "[CV 3/5; 68/72] END featselect__pca__n_components=3, featselect__univ_select__k=3, rfc__max_depth=2, rfc__min_samples_split=4, rfc__n_estimators=400;, score=nan total time=   0.0s\n",
      "[CV 4/5; 68/72] START featselect__pca__n_components=3, featselect__univ_select__k=3, rfc__max_depth=2, rfc__min_samples_split=4, rfc__n_estimators=400\n",
      "[CV 4/5; 68/72] END featselect__pca__n_components=3, featselect__univ_select__k=3, rfc__max_depth=2, rfc__min_samples_split=4, rfc__n_estimators=400;, score=nan total time=   0.0s\n",
      "[CV 5/5; 68/72] START featselect__pca__n_components=3, featselect__univ_select__k=3, rfc__max_depth=2, rfc__min_samples_split=4, rfc__n_estimators=400\n",
      "[CV 5/5; 68/72] END featselect__pca__n_components=3, featselect__univ_select__k=3, rfc__max_depth=2, rfc__min_samples_split=4, rfc__n_estimators=400;, score=nan total time=   0.0s\n",
      "[CV 1/5; 69/72] START featselect__pca__n_components=3, featselect__univ_select__k=3, rfc__max_depth=4, rfc__min_samples_split=2, rfc__n_estimators=200\n",
      "[CV 1/5; 69/72] END featselect__pca__n_components=3, featselect__univ_select__k=3, rfc__max_depth=4, rfc__min_samples_split=2, rfc__n_estimators=200;, score=nan total time=   0.0s\n",
      "[CV 2/5; 69/72] START featselect__pca__n_components=3, featselect__univ_select__k=3, rfc__max_depth=4, rfc__min_samples_split=2, rfc__n_estimators=200\n",
      "[CV 2/5; 69/72] END featselect__pca__n_components=3, featselect__univ_select__k=3, rfc__max_depth=4, rfc__min_samples_split=2, rfc__n_estimators=200;, score=nan total time=   0.0s\n",
      "[CV 3/5; 69/72] START featselect__pca__n_components=3, featselect__univ_select__k=3, rfc__max_depth=4, rfc__min_samples_split=2, rfc__n_estimators=200\n",
      "[CV 3/5; 69/72] END featselect__pca__n_components=3, featselect__univ_select__k=3, rfc__max_depth=4, rfc__min_samples_split=2, rfc__n_estimators=200;, score=nan total time=   0.0s\n",
      "[CV 4/5; 69/72] START featselect__pca__n_components=3, featselect__univ_select__k=3, rfc__max_depth=4, rfc__min_samples_split=2, rfc__n_estimators=200\n",
      "[CV 4/5; 69/72] END featselect__pca__n_components=3, featselect__univ_select__k=3, rfc__max_depth=4, rfc__min_samples_split=2, rfc__n_estimators=200;, score=nan total time=   0.0s\n",
      "[CV 5/5; 69/72] START featselect__pca__n_components=3, featselect__univ_select__k=3, rfc__max_depth=4, rfc__min_samples_split=2, rfc__n_estimators=200\n",
      "[CV 5/5; 69/72] END featselect__pca__n_components=3, featselect__univ_select__k=3, rfc__max_depth=4, rfc__min_samples_split=2, rfc__n_estimators=200;, score=nan total time=   0.0s\n",
      "[CV 1/5; 70/72] START featselect__pca__n_components=3, featselect__univ_select__k=3, rfc__max_depth=4, rfc__min_samples_split=2, rfc__n_estimators=400\n",
      "[CV 1/5; 70/72] END featselect__pca__n_components=3, featselect__univ_select__k=3, rfc__max_depth=4, rfc__min_samples_split=2, rfc__n_estimators=400;, score=nan total time=   0.0s\n",
      "[CV 2/5; 70/72] START featselect__pca__n_components=3, featselect__univ_select__k=3, rfc__max_depth=4, rfc__min_samples_split=2, rfc__n_estimators=400\n",
      "[CV 2/5; 70/72] END featselect__pca__n_components=3, featselect__univ_select__k=3, rfc__max_depth=4, rfc__min_samples_split=2, rfc__n_estimators=400;, score=nan total time=   0.0s\n",
      "[CV 3/5; 70/72] START featselect__pca__n_components=3, featselect__univ_select__k=3, rfc__max_depth=4, rfc__min_samples_split=2, rfc__n_estimators=400\n",
      "[CV 3/5; 70/72] END featselect__pca__n_components=3, featselect__univ_select__k=3, rfc__max_depth=4, rfc__min_samples_split=2, rfc__n_estimators=400;, score=nan total time=   0.0s\n",
      "[CV 4/5; 70/72] START featselect__pca__n_components=3, featselect__univ_select__k=3, rfc__max_depth=4, rfc__min_samples_split=2, rfc__n_estimators=400\n",
      "[CV 4/5; 70/72] END featselect__pca__n_components=3, featselect__univ_select__k=3, rfc__max_depth=4, rfc__min_samples_split=2, rfc__n_estimators=400;, score=nan total time=   0.0s\n",
      "[CV 5/5; 70/72] START featselect__pca__n_components=3, featselect__univ_select__k=3, rfc__max_depth=4, rfc__min_samples_split=2, rfc__n_estimators=400\n",
      "[CV 5/5; 70/72] END featselect__pca__n_components=3, featselect__univ_select__k=3, rfc__max_depth=4, rfc__min_samples_split=2, rfc__n_estimators=400;, score=nan total time=   0.0s\n",
      "[CV 1/5; 71/72] START featselect__pca__n_components=3, featselect__univ_select__k=3, rfc__max_depth=4, rfc__min_samples_split=4, rfc__n_estimators=200\n",
      "[CV 1/5; 71/72] END featselect__pca__n_components=3, featselect__univ_select__k=3, rfc__max_depth=4, rfc__min_samples_split=4, rfc__n_estimators=200;, score=nan total time=   0.0s\n",
      "[CV 2/5; 71/72] START featselect__pca__n_components=3, featselect__univ_select__k=3, rfc__max_depth=4, rfc__min_samples_split=4, rfc__n_estimators=200\n",
      "[CV 2/5; 71/72] END featselect__pca__n_components=3, featselect__univ_select__k=3, rfc__max_depth=4, rfc__min_samples_split=4, rfc__n_estimators=200;, score=nan total time=   0.0s\n",
      "[CV 3/5; 71/72] START featselect__pca__n_components=3, featselect__univ_select__k=3, rfc__max_depth=4, rfc__min_samples_split=4, rfc__n_estimators=200\n",
      "[CV 3/5; 71/72] END featselect__pca__n_components=3, featselect__univ_select__k=3, rfc__max_depth=4, rfc__min_samples_split=4, rfc__n_estimators=200;, score=nan total time=   0.0s\n",
      "[CV 4/5; 71/72] START featselect__pca__n_components=3, featselect__univ_select__k=3, rfc__max_depth=4, rfc__min_samples_split=4, rfc__n_estimators=200\n",
      "[CV 4/5; 71/72] END featselect__pca__n_components=3, featselect__univ_select__k=3, rfc__max_depth=4, rfc__min_samples_split=4, rfc__n_estimators=200;, score=nan total time=   0.0s\n",
      "[CV 5/5; 71/72] START featselect__pca__n_components=3, featselect__univ_select__k=3, rfc__max_depth=4, rfc__min_samples_split=4, rfc__n_estimators=200\n",
      "[CV 5/5; 71/72] END featselect__pca__n_components=3, featselect__univ_select__k=3, rfc__max_depth=4, rfc__min_samples_split=4, rfc__n_estimators=200;, score=nan total time=   0.0s\n",
      "[CV 1/5; 72/72] START featselect__pca__n_components=3, featselect__univ_select__k=3, rfc__max_depth=4, rfc__min_samples_split=4, rfc__n_estimators=400\n",
      "[CV 1/5; 72/72] END featselect__pca__n_components=3, featselect__univ_select__k=3, rfc__max_depth=4, rfc__min_samples_split=4, rfc__n_estimators=400;, score=nan total time=   0.0s\n",
      "[CV 2/5; 72/72] START featselect__pca__n_components=3, featselect__univ_select__k=3, rfc__max_depth=4, rfc__min_samples_split=4, rfc__n_estimators=400\n",
      "[CV 2/5; 72/72] END featselect__pca__n_components=3, featselect__univ_select__k=3, rfc__max_depth=4, rfc__min_samples_split=4, rfc__n_estimators=400;, score=nan total time=   0.0s\n",
      "[CV 3/5; 72/72] START featselect__pca__n_components=3, featselect__univ_select__k=3, rfc__max_depth=4, rfc__min_samples_split=4, rfc__n_estimators=400\n",
      "[CV 3/5; 72/72] END featselect__pca__n_components=3, featselect__univ_select__k=3, rfc__max_depth=4, rfc__min_samples_split=4, rfc__n_estimators=400;, score=nan total time=   0.0s\n",
      "[CV 4/5; 72/72] START featselect__pca__n_components=3, featselect__univ_select__k=3, rfc__max_depth=4, rfc__min_samples_split=4, rfc__n_estimators=400\n",
      "[CV 4/5; 72/72] END featselect__pca__n_components=3, featselect__univ_select__k=3, rfc__max_depth=4, rfc__min_samples_split=4, rfc__n_estimators=400;, score=nan total time=   0.0s\n",
      "[CV 5/5; 72/72] START featselect__pca__n_components=3, featselect__univ_select__k=3, rfc__max_depth=4, rfc__min_samples_split=4, rfc__n_estimators=400\n",
      "[CV 5/5; 72/72] END featselect__pca__n_components=3, featselect__univ_select__k=3, rfc__max_depth=4, rfc__min_samples_split=4, rfc__n_estimators=400;, score=nan total time=   0.0s\n"
     ]
    },
    {
     "ename": "ValueError",
     "evalue": "\nAll the 360 fits failed.\nIt is very likely that your model is misconfigured.\nYou can try to debug the error by setting error_score='raise'.\n\nBelow are more details about the failures:\n--------------------------------------------------------------------------------\n360 fits failed with the following error:\nTraceback (most recent call last):\n  File \"/opt/homebrew/Caskroom/miniforge/base/envs/base_env/lib/python3.8/site-packages/sklearn/model_selection/_validation.py\", line 686, in _fit_and_score\n    estimator.fit(X_train, y_train, **fit_params)\n  File \"/opt/homebrew/Caskroom/miniforge/base/envs/base_env/lib/python3.8/site-packages/sklearn/pipeline.py\", line 378, in fit\n    Xt = self._fit(X, y, **fit_params_steps)\n  File \"/opt/homebrew/Caskroom/miniforge/base/envs/base_env/lib/python3.8/site-packages/sklearn/pipeline.py\", line 336, in _fit\n    X, fitted_transformer = fit_transform_one_cached(\n  File \"/opt/homebrew/Caskroom/miniforge/base/envs/base_env/lib/python3.8/site-packages/joblib/memory.py\", line 349, in __call__\n    return self.func(*args, **kwargs)\n  File \"/opt/homebrew/Caskroom/miniforge/base/envs/base_env/lib/python3.8/site-packages/sklearn/pipeline.py\", line 870, in _fit_transform_one\n    res = transformer.fit_transform(X, y, **fit_params)\n  File \"/opt/homebrew/Caskroom/miniforge/base/envs/base_env/lib/python3.8/site-packages/sklearn/compose/_column_transformer.py\", line 686, in fit_transform\n    self._validate_transformers()\n  File \"/opt/homebrew/Caskroom/miniforge/base/envs/base_env/lib/python3.8/site-packages/sklearn/compose/_column_transformer.py\", line 346, in _validate_transformers\n    names, transformers, _ = zip(*self.transformers)\nValueError: not enough values to unpack (expected 3, got 2)\n",
     "output_type": "error",
     "traceback": [
      "\u001b[0;31m---------------------------------------------------------------------------\u001b[0m",
      "\u001b[0;31mValueError\u001b[0m                                Traceback (most recent call last)",
      "Cell \u001b[0;32mIn [180], line 1\u001b[0m\n\u001b[0;32m----> 1\u001b[0m grid_search\u001b[38;5;241m.\u001b[39mfit(X,y)\n",
      "File \u001b[0;32m/opt/homebrew/Caskroom/miniforge/base/envs/base_env/lib/python3.8/site-packages/sklearn/model_selection/_search.py:875\u001b[0m, in \u001b[0;36mBaseSearchCV.fit\u001b[0;34m(self, X, y, groups, **fit_params)\u001b[0m\n\u001b[1;32m    869\u001b[0m     results \u001b[38;5;241m=\u001b[39m \u001b[38;5;28mself\u001b[39m\u001b[38;5;241m.\u001b[39m_format_results(\n\u001b[1;32m    870\u001b[0m         all_candidate_params, n_splits, all_out, all_more_results\n\u001b[1;32m    871\u001b[0m     )\n\u001b[1;32m    873\u001b[0m     \u001b[38;5;28;01mreturn\u001b[39;00m results\n\u001b[0;32m--> 875\u001b[0m \u001b[38;5;28;43mself\u001b[39;49m\u001b[38;5;241;43m.\u001b[39;49m\u001b[43m_run_search\u001b[49m\u001b[43m(\u001b[49m\u001b[43mevaluate_candidates\u001b[49m\u001b[43m)\u001b[49m\n\u001b[1;32m    877\u001b[0m \u001b[38;5;66;03m# multimetric is determined here because in the case of a callable\u001b[39;00m\n\u001b[1;32m    878\u001b[0m \u001b[38;5;66;03m# self.scoring the return type is only known after calling\u001b[39;00m\n\u001b[1;32m    879\u001b[0m first_test_score \u001b[38;5;241m=\u001b[39m all_out[\u001b[38;5;241m0\u001b[39m][\u001b[38;5;124m\"\u001b[39m\u001b[38;5;124mtest_scores\u001b[39m\u001b[38;5;124m\"\u001b[39m]\n",
      "File \u001b[0;32m/opt/homebrew/Caskroom/miniforge/base/envs/base_env/lib/python3.8/site-packages/sklearn/model_selection/_search.py:1379\u001b[0m, in \u001b[0;36mGridSearchCV._run_search\u001b[0;34m(self, evaluate_candidates)\u001b[0m\n\u001b[1;32m   1377\u001b[0m \u001b[38;5;28;01mdef\u001b[39;00m \u001b[38;5;21m_run_search\u001b[39m(\u001b[38;5;28mself\u001b[39m, evaluate_candidates):\n\u001b[1;32m   1378\u001b[0m     \u001b[38;5;124;03m\"\"\"Search all candidates in param_grid\"\"\"\u001b[39;00m\n\u001b[0;32m-> 1379\u001b[0m     \u001b[43mevaluate_candidates\u001b[49m\u001b[43m(\u001b[49m\u001b[43mParameterGrid\u001b[49m\u001b[43m(\u001b[49m\u001b[38;5;28;43mself\u001b[39;49m\u001b[38;5;241;43m.\u001b[39;49m\u001b[43mparam_grid\u001b[49m\u001b[43m)\u001b[49m\u001b[43m)\u001b[49m\n",
      "File \u001b[0;32m/opt/homebrew/Caskroom/miniforge/base/envs/base_env/lib/python3.8/site-packages/sklearn/model_selection/_search.py:852\u001b[0m, in \u001b[0;36mBaseSearchCV.fit.<locals>.evaluate_candidates\u001b[0;34m(candidate_params, cv, more_results)\u001b[0m\n\u001b[1;32m    845\u001b[0m \u001b[38;5;28;01melif\u001b[39;00m \u001b[38;5;28mlen\u001b[39m(out) \u001b[38;5;241m!=\u001b[39m n_candidates \u001b[38;5;241m*\u001b[39m n_splits:\n\u001b[1;32m    846\u001b[0m     \u001b[38;5;28;01mraise\u001b[39;00m \u001b[38;5;167;01mValueError\u001b[39;00m(\n\u001b[1;32m    847\u001b[0m         \u001b[38;5;124m\"\u001b[39m\u001b[38;5;124mcv.split and cv.get_n_splits returned \u001b[39m\u001b[38;5;124m\"\u001b[39m\n\u001b[1;32m    848\u001b[0m         \u001b[38;5;124m\"\u001b[39m\u001b[38;5;124minconsistent results. Expected \u001b[39m\u001b[38;5;132;01m{}\u001b[39;00m\u001b[38;5;124m \u001b[39m\u001b[38;5;124m\"\u001b[39m\n\u001b[1;32m    849\u001b[0m         \u001b[38;5;124m\"\u001b[39m\u001b[38;5;124msplits, got \u001b[39m\u001b[38;5;132;01m{}\u001b[39;00m\u001b[38;5;124m\"\u001b[39m\u001b[38;5;241m.\u001b[39mformat(n_splits, \u001b[38;5;28mlen\u001b[39m(out) \u001b[38;5;241m/\u001b[39m\u001b[38;5;241m/\u001b[39m n_candidates)\n\u001b[1;32m    850\u001b[0m     )\n\u001b[0;32m--> 852\u001b[0m \u001b[43m_warn_or_raise_about_fit_failures\u001b[49m\u001b[43m(\u001b[49m\u001b[43mout\u001b[49m\u001b[43m,\u001b[49m\u001b[43m \u001b[49m\u001b[38;5;28;43mself\u001b[39;49m\u001b[38;5;241;43m.\u001b[39;49m\u001b[43merror_score\u001b[49m\u001b[43m)\u001b[49m\n\u001b[1;32m    854\u001b[0m \u001b[38;5;66;03m# For callable self.scoring, the return type is only know after\u001b[39;00m\n\u001b[1;32m    855\u001b[0m \u001b[38;5;66;03m# calling. If the return type is a dictionary, the error scores\u001b[39;00m\n\u001b[1;32m    856\u001b[0m \u001b[38;5;66;03m# can now be inserted with the correct key. The type checking\u001b[39;00m\n\u001b[1;32m    857\u001b[0m \u001b[38;5;66;03m# of out will be done in `_insert_error_scores`.\u001b[39;00m\n\u001b[1;32m    858\u001b[0m \u001b[38;5;28;01mif\u001b[39;00m callable(\u001b[38;5;28mself\u001b[39m\u001b[38;5;241m.\u001b[39mscoring):\n",
      "File \u001b[0;32m/opt/homebrew/Caskroom/miniforge/base/envs/base_env/lib/python3.8/site-packages/sklearn/model_selection/_validation.py:367\u001b[0m, in \u001b[0;36m_warn_or_raise_about_fit_failures\u001b[0;34m(results, error_score)\u001b[0m\n\u001b[1;32m    360\u001b[0m \u001b[38;5;28;01mif\u001b[39;00m num_failed_fits \u001b[38;5;241m==\u001b[39m num_fits:\n\u001b[1;32m    361\u001b[0m     all_fits_failed_message \u001b[38;5;241m=\u001b[39m (\n\u001b[1;32m    362\u001b[0m         \u001b[38;5;124mf\u001b[39m\u001b[38;5;124m\"\u001b[39m\u001b[38;5;130;01m\\n\u001b[39;00m\u001b[38;5;124mAll the \u001b[39m\u001b[38;5;132;01m{\u001b[39;00mnum_fits\u001b[38;5;132;01m}\u001b[39;00m\u001b[38;5;124m fits failed.\u001b[39m\u001b[38;5;130;01m\\n\u001b[39;00m\u001b[38;5;124m\"\u001b[39m\n\u001b[1;32m    363\u001b[0m         \u001b[38;5;124m\"\u001b[39m\u001b[38;5;124mIt is very likely that your model is misconfigured.\u001b[39m\u001b[38;5;130;01m\\n\u001b[39;00m\u001b[38;5;124m\"\u001b[39m\n\u001b[1;32m    364\u001b[0m         \u001b[38;5;124m\"\u001b[39m\u001b[38;5;124mYou can try to debug the error by setting error_score=\u001b[39m\u001b[38;5;124m'\u001b[39m\u001b[38;5;124mraise\u001b[39m\u001b[38;5;124m'\u001b[39m\u001b[38;5;124m.\u001b[39m\u001b[38;5;130;01m\\n\u001b[39;00m\u001b[38;5;130;01m\\n\u001b[39;00m\u001b[38;5;124m\"\u001b[39m\n\u001b[1;32m    365\u001b[0m         \u001b[38;5;124mf\u001b[39m\u001b[38;5;124m\"\u001b[39m\u001b[38;5;124mBelow are more details about the failures:\u001b[39m\u001b[38;5;130;01m\\n\u001b[39;00m\u001b[38;5;132;01m{\u001b[39;00mfit_errors_summary\u001b[38;5;132;01m}\u001b[39;00m\u001b[38;5;124m\"\u001b[39m\n\u001b[1;32m    366\u001b[0m     )\n\u001b[0;32m--> 367\u001b[0m     \u001b[38;5;28;01mraise\u001b[39;00m \u001b[38;5;167;01mValueError\u001b[39;00m(all_fits_failed_message)\n\u001b[1;32m    369\u001b[0m \u001b[38;5;28;01melse\u001b[39;00m:\n\u001b[1;32m    370\u001b[0m     some_fits_failed_message \u001b[38;5;241m=\u001b[39m (\n\u001b[1;32m    371\u001b[0m         \u001b[38;5;124mf\u001b[39m\u001b[38;5;124m\"\u001b[39m\u001b[38;5;130;01m\\n\u001b[39;00m\u001b[38;5;132;01m{\u001b[39;00mnum_failed_fits\u001b[38;5;132;01m}\u001b[39;00m\u001b[38;5;124m fits failed out of a total of \u001b[39m\u001b[38;5;132;01m{\u001b[39;00mnum_fits\u001b[38;5;132;01m}\u001b[39;00m\u001b[38;5;124m.\u001b[39m\u001b[38;5;130;01m\\n\u001b[39;00m\u001b[38;5;124m\"\u001b[39m\n\u001b[1;32m    372\u001b[0m         \u001b[38;5;124m\"\u001b[39m\u001b[38;5;124mThe score on these train-test partitions for these parameters\u001b[39m\u001b[38;5;124m\"\u001b[39m\n\u001b[0;32m   (...)\u001b[0m\n\u001b[1;32m    376\u001b[0m         \u001b[38;5;124mf\u001b[39m\u001b[38;5;124m\"\u001b[39m\u001b[38;5;124mBelow are more details about the failures:\u001b[39m\u001b[38;5;130;01m\\n\u001b[39;00m\u001b[38;5;132;01m{\u001b[39;00mfit_errors_summary\u001b[38;5;132;01m}\u001b[39;00m\u001b[38;5;124m\"\u001b[39m\n\u001b[1;32m    377\u001b[0m     )\n",
      "\u001b[0;31mValueError\u001b[0m: \nAll the 360 fits failed.\nIt is very likely that your model is misconfigured.\nYou can try to debug the error by setting error_score='raise'.\n\nBelow are more details about the failures:\n--------------------------------------------------------------------------------\n360 fits failed with the following error:\nTraceback (most recent call last):\n  File \"/opt/homebrew/Caskroom/miniforge/base/envs/base_env/lib/python3.8/site-packages/sklearn/model_selection/_validation.py\", line 686, in _fit_and_score\n    estimator.fit(X_train, y_train, **fit_params)\n  File \"/opt/homebrew/Caskroom/miniforge/base/envs/base_env/lib/python3.8/site-packages/sklearn/pipeline.py\", line 378, in fit\n    Xt = self._fit(X, y, **fit_params_steps)\n  File \"/opt/homebrew/Caskroom/miniforge/base/envs/base_env/lib/python3.8/site-packages/sklearn/pipeline.py\", line 336, in _fit\n    X, fitted_transformer = fit_transform_one_cached(\n  File \"/opt/homebrew/Caskroom/miniforge/base/envs/base_env/lib/python3.8/site-packages/joblib/memory.py\", line 349, in __call__\n    return self.func(*args, **kwargs)\n  File \"/opt/homebrew/Caskroom/miniforge/base/envs/base_env/lib/python3.8/site-packages/sklearn/pipeline.py\", line 870, in _fit_transform_one\n    res = transformer.fit_transform(X, y, **fit_params)\n  File \"/opt/homebrew/Caskroom/miniforge/base/envs/base_env/lib/python3.8/site-packages/sklearn/compose/_column_transformer.py\", line 686, in fit_transform\n    self._validate_transformers()\n  File \"/opt/homebrew/Caskroom/miniforge/base/envs/base_env/lib/python3.8/site-packages/sklearn/compose/_column_transformer.py\", line 346, in _validate_transformers\n    names, transformers, _ = zip(*self.transformers)\nValueError: not enough values to unpack (expected 3, got 2)\n"
     ]
    }
   ],
   "source": [
    "grid_search.fit(X,y)"
   ]
  },
  {
   "cell_type": "markdown",
   "metadata": {},
   "source": [
    "## 6. Deploy your model to cloud and test it with PostMan, BASH or Python"
   ]
  },
  {
   "cell_type": "markdown",
   "metadata": {},
   "source": [
    "# REFER TO NOTEBOOK Model_Pipeline.ipynb"
   ]
  }
 ],
 "metadata": {
  "kernelspec": {
   "display_name": "Python 3 (ipykernel)",
   "language": "python",
   "name": "python3"
  },
  "language_info": {
   "codemirror_mode": {
    "name": "ipython",
    "version": 3
   },
   "file_extension": ".py",
   "mimetype": "text/x-python",
   "name": "python",
   "nbconvert_exporter": "python",
   "pygments_lexer": "ipython3",
   "version": "3.8.13"
  }
 },
 "nbformat": 4,
 "nbformat_minor": 4
}
