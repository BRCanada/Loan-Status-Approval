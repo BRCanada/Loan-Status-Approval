{
 "cells": [
  {
   "cell_type": "code",
   "execution_count": null,
   "id": "2d58d49e-0122-44f6-aaa0-5a2e96964847",
   "metadata": {},
   "outputs": [],
   "source": [
    "#Import Packages\n",
    "import pandas as pd\n",
    "import numpy as np\n",
    "\n",
    "#SKLearn Packages\n",
    "from sklearn.compose import ColumnTransformer\n",
    "from sklearn.pipeline import Pipeline, FeatureUnion, FunctionTransformer\n",
    "from sklearn.impute import SimpleImputer\n",
    "from sklearn.decomposition import PCA\n",
    "from sklearn.feature_selection import SelectKBest\n",
    "from sklearn.model_selection import GridSearchCV\n",
    "from sklearn.ensemble import RandomForestClassifier\n",
    "from sklearn.preprocessing import OneHotEncoder\n",
    "from sklearn.model_selection import train_test_split"
   ]
  },
  {
   "cell_type": "code",
   "execution_count": null,
   "id": "e709eb29-7d6a-4e91-8c72-f7be31ed01d3",
   "metadata": {},
   "outputs": [],
   "source": [
    "data = pd.read_csv(\"../data/data-2.csv\")"
   ]
  },
  {
   "cell_type": "code",
   "execution_count": null,
   "id": "a1abc09a-9b73-4382-a312-d7f6440b872f",
   "metadata": {},
   "outputs": [],
   "source": [
    "data"
   ]
  },
  {
   "cell_type": "code",
   "execution_count": null,
   "id": "dced67f3-39ec-4b8e-85e9-8a960ccc9ba0",
   "metadata": {},
   "outputs": [],
   "source": [
    "# Define X and y\n",
    "X = data.iloc[:, 1:-1]\n",
    "y = data.iloc[:, -1].map({'N':0,'Y':1})"
   ]
  },
  {
   "cell_type": "code",
   "execution_count": null,
   "id": "08ac0419-f89c-416f-8635-9b0184f01b78",
   "metadata": {},
   "outputs": [],
   "source": [
    "# Split Data\n",
    "X_train, X_test, y_train, y_test = train_test_split(X, y, test_size=0.3)"
   ]
  },
  {
   "cell_type": "code",
   "execution_count": null,
   "id": "c7c0a07e-9f39-4ce5-91d4-f6eb995c596b",
   "metadata": {},
   "outputs": [],
   "source": [
    "# Using own function in Pipeline\n",
    "def numFeat(data):\n",
    "    return data[num_feats]\n",
    "\n",
    "def catFeat(data):\n",
    "    return data[cat_feats]"
   ]
  },
  {
   "cell_type": "code",
   "execution_count": null,
   "id": "80fcd1e1-da8d-4f9e-9c78-9c2738b2d4d5",
   "metadata": {},
   "outputs": [],
   "source": [
    "# Separate features\n",
    "num_feats = X_train.select_dtypes(exclude=object).index.tolist()\n",
    "cat_feats = X_train.select_dtypes(include=object).index.tolist()"
   ]
  },
  {
   "cell_type": "code",
   "execution_count": null,
   "id": "3f04ce6e-9f3a-4452-b11e-9000bc837de6",
   "metadata": {},
   "outputs": [],
   "source": [
    "# Imputer steps\n",
    "num_transform = Pipeline([('FunctionTransformer', FunctionTransformer()), \n",
    "                          ('impute_mean', SimpleImputer(strategy='mean'))])\n",
    "\n",
    "cat_transform = Pipeline([('FunctionTransformer',FunctionTransformer()), \n",
    "                          ('impute_mode', SimpleImputer(strategy='most_frequent')), \n",
    "                          ('one-hot-encode', OneHotEncoder(sparse=False))])\n"
   ]
  },
  {
   "cell_type": "code",
   "execution_count": null,
   "id": "897a2882-cceb-4b7d-8a97-e5d02d609ab8",
   "metadata": {},
   "outputs": [],
   "source": [
    "preprocess = ColumnTransformer([('numeric', num_transform, num_feats),\n",
    "                                ('categorical', cat_transform, cat_feats)])"
   ]
  },
  {
   "cell_type": "code",
   "execution_count": null,
   "id": "d54fbfd9-b164-4a48-b79b-4fcc55c43a01",
   "metadata": {},
   "outputs": [],
   "source": [
    "pipeline = Pipeline([('preprocessing', preprocess),\n",
    "                     ('model', RandomForestClassifier())])"
   ]
  },
  {
   "cell_type": "code",
   "execution_count": null,
   "id": "fce43f77-3b38-4167-9e90-a30dd7f57ccc",
   "metadata": {},
   "outputs": [],
   "source": [
    "pipeline.fit(X_train, y_train)"
   ]
  },
  {
   "cell_type": "code",
   "execution_count": null,
   "id": "73a7e2c7-9113-4639-812a-c43d4354d1c1",
   "metadata": {},
   "outputs": [],
   "source": []
  }
 ],
 "metadata": {
  "kernelspec": {
   "display_name": "Python 3 (ipykernel)",
   "language": "python",
   "name": "python3"
  },
  "language_info": {
   "codemirror_mode": {
    "name": "ipython",
    "version": 3
   },
   "file_extension": ".py",
   "mimetype": "text/x-python",
   "name": "python",
   "nbconvert_exporter": "python",
   "pygments_lexer": "ipython3",
   "version": "3.8.13"
  }
 },
 "nbformat": 4,
 "nbformat_minor": 5
}
